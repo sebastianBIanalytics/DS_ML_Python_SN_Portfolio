{
 "cells": [
  {
   "cell_type": "markdown",
   "metadata": {
    "button": false,
    "new_sheet": false,
    "run_control": {
     "read_only": false
    }
   },
   "source": [
    "### Predicting the Mayor of London 2016 results using ward level demographics"
   ]
  },
  {
   "cell_type": "markdown",
   "metadata": {
    "button": false,
    "new_sheet": false,
    "run_control": {
     "read_only": false
    }
   },
   "source": [
    "In this notebook several classification algorithms such as Logistic regression, Support Vector Machine, K Nearest Neighbor(KNN) and \n",
    "Decision Tree. The dataset included as **outcome** the results of **Mayor of London election in 2016** and as features (predictors/independent variables) some selected socio-demographic predictors agregated at ward level.  \n",
    "The previously used the demographic dataset in another notebooks: \n",
    "\n",
    "**__[Predicting the median house price in London Wards](https://github.com/sebastianBIanalytics/Data_Science_Machine_Learning_Python/blob/master/Predicting%20median%20House%20Price%20London%20-%20Multiple%20Regression.ipynb)__**\n",
    "\n",
    "**__[Where in London to open a new Luxury Wine Bar](https://github.com/sebastianBIanalytics/Data_Science_Machine_Learning_Python/blob/master/WINE%20BAR%20in%20London%20Final.ipynb)__**\n",
    "\n",
    "The original source of the predictors can be accessed at the link below:  \n",
    "** Ward Profiles and Atlas of Greater London Authority (GLA)** provided by **__[DataStore London](https://data.london.gov.uk/dataset/ward-profiles-and-atlas)__**. Although the provided details reflect London profile until 2015, this is the most comprehensive dataset publicly available that cover data from the 2011 Census, from ONS and governmental data. \n",
    "\n",
    "The election results used the **__[London Elections Results 2016, Wards, Boroughs, Constituency]( https://data.london.gov.uk/download/london-elections-results-2016-wards-boroughs-constituency/01f4ff3a-c562-4d61-977f-c2dfb36694ce/gla-elections-votes-all-2016.xlsx)__**. However, only the voted per ward level were included while the postal votes (given at Borough level) were excluded. \n",
    "\n"
   ]
  },
  {
   "cell_type": "markdown",
   "metadata": {},
   "source": [
    "The necessary packages were imported. "
   ]
  },
  {
   "cell_type": "code",
   "execution_count": 1,
   "metadata": {
    "button": false,
    "new_sheet": false,
    "run_control": {
     "read_only": false
    }
   },
   "outputs": [
    {
     "name": "stderr",
     "output_type": "stream",
     "text": [
      "C:\\Users\\nastu\\Anaconda3\\lib\\site-packages\\statsmodels\\tools\\_testing.py:19: FutureWarning: pandas.util.testing is deprecated. Use the functions in the public API at pandas.testing instead.\n",
      "  import pandas.util.testing as tm\n"
     ]
    }
   ],
   "source": [
    "import sys\n",
    "import itertools\n",
    "import numpy as np\n",
    "import pandas as pd\n",
    "import matplotlib.pyplot as plt\n",
    "%matplotlib inline\n",
    "import statsmodels.api as sm\n",
    "import matplotlib.ticker as ticker\n",
    "import pylab as pl\n",
    "import pandas.testing as tm\n",
    "import pandas.util.testing as tm\n",
    "import seaborn as sns\n",
    "\n",
    "## setting the working directory\n",
    "import os\n",
    "\n",
    "\n",
    "from matplotlib.ticker import NullFormatter\n",
    "from sklearn.metrics import roc_curve, auc\n",
    "from sklearn import preprocessing\n",
    "from sklearn import metrics\n",
    "from sklearn.tree import DecisionTreeClassifier\n",
    "\n",
    "### Model Evaluation using Test set \n",
    "from sklearn.metrics import jaccard_similarity_score\n",
    "from sklearn.metrics import accuracy_score\n",
    "from sklearn.metrics import f1_score\n",
    "from sklearn.metrics import log_loss\n"
   ]
  },
  {
   "cell_type": "code",
   "execution_count": 2,
   "metadata": {},
   "outputs": [
    {
     "name": "stdout",
     "output_type": "stream",
     "text": [
      "Collecting package metadata (current_repodata.json): ...working... done\n",
      "Solving environment: ...working... done\n",
      "\n",
      "# All requested packages already installed.\n",
      "\n"
     ]
    }
   ],
   "source": [
    "# notice: installing seaborn might takes a few minutes\n",
    "!conda install -c anaconda seaborn -y"
   ]
  },
  {
   "cell_type": "markdown",
   "metadata": {
    "button": false,
    "new_sheet": false,
    "run_control": {
     "read_only": false
    }
   },
   "source": [
    "## Importing the dataset"
   ]
  },
  {
   "cell_type": "code",
   "execution_count": 3,
   "metadata": {
    "button": false,
    "new_sheet": false,
    "run_control": {
     "read_only": false
    }
   },
   "outputs": [
    {
     "data": {
      "text/html": [
       "<div>\n",
       "<style scoped>\n",
       "    .dataframe tbody tr th:only-of-type {\n",
       "        vertical-align: middle;\n",
       "    }\n",
       "\n",
       "    .dataframe tbody tr th {\n",
       "        vertical-align: top;\n",
       "    }\n",
       "\n",
       "    .dataframe thead th {\n",
       "        text-align: right;\n",
       "    }\n",
       "</style>\n",
       "<table border=\"1\" class=\"dataframe\">\n",
       "  <thead>\n",
       "    <tr style=\"text-align: right;\">\n",
       "      <th></th>\n",
       "      <th>ID</th>\n",
       "      <th>Borough</th>\n",
       "      <th>Ward</th>\n",
       "      <th>Constituency</th>\n",
       "      <th>Turnout</th>\n",
       "      <th>Ward Level Electorate</th>\n",
       "      <th>Winner</th>\n",
       "      <th>Sadiq Aman Khan</th>\n",
       "      <th>% Children aged 0-15</th>\n",
       "      <th>% Working-age 16-64</th>\n",
       "      <th>...</th>\n",
       "      <th>% dependent children in out-of-work households 2014</th>\n",
       "      <th>% Households No adults Employment dependent children 2011</th>\n",
       "      <th>% Lone parents no employment 2011</th>\n",
       "      <th>Average GCSE capped point scores 2014</th>\n",
       "      <th>% No qualifications 2011</th>\n",
       "      <th>% Level 4 and above qualifications 2011</th>\n",
       "      <th>Crime rate 2014_15</th>\n",
       "      <th>% area that is open space - 2014</th>\n",
       "      <th>Average Public Transport Accessibility score 2014</th>\n",
       "      <th>Turnout at Mayoral election 2012</th>\n",
       "    </tr>\n",
       "  </thead>\n",
       "  <tbody>\n",
       "    <tr>\n",
       "      <th>0</th>\n",
       "      <td>1</td>\n",
       "      <td>Bexley</td>\n",
       "      <td>Barnehurst</td>\n",
       "      <td>Bexley &amp; Bromley</td>\n",
       "      <td>2,758</td>\n",
       "      <td>6,886</td>\n",
       "      <td>Zac Goldsmith</td>\n",
       "      <td>588</td>\n",
       "      <td>18.668678</td>\n",
       "      <td>62.049783</td>\n",
       "      <td>...</td>\n",
       "      <td>11.020408</td>\n",
       "      <td>3.330971</td>\n",
       "      <td>38.013699</td>\n",
       "      <td>326.298246</td>\n",
       "      <td>23.1</td>\n",
       "      <td>20.1</td>\n",
       "      <td>46.461219</td>\n",
       "      <td>35.978052</td>\n",
       "      <td>3.135916</td>\n",
       "      <td>35.067040</td>\n",
       "    </tr>\n",
       "    <tr>\n",
       "      <th>1</th>\n",
       "      <td>2</td>\n",
       "      <td>Bexley</td>\n",
       "      <td>Belvedere</td>\n",
       "      <td>Bexley &amp; Bromley</td>\n",
       "      <td>2,675</td>\n",
       "      <td>7,506</td>\n",
       "      <td>Zac Goldsmith</td>\n",
       "      <td>957</td>\n",
       "      <td>23.174859</td>\n",
       "      <td>63.908139</td>\n",
       "      <td>...</td>\n",
       "      <td>21.571429</td>\n",
       "      <td>6.147795</td>\n",
       "      <td>42.576029</td>\n",
       "      <td>306.139264</td>\n",
       "      <td>23.7</td>\n",
       "      <td>21.9</td>\n",
       "      <td>61.963541</td>\n",
       "      <td>33.133207</td>\n",
       "      <td>2.752564</td>\n",
       "      <td>31.933791</td>\n",
       "    </tr>\n",
       "    <tr>\n",
       "      <th>2</th>\n",
       "      <td>3</td>\n",
       "      <td>Bexley</td>\n",
       "      <td>Blackfen And Lamorbey</td>\n",
       "      <td>Bexley &amp; Bromley</td>\n",
       "      <td>3,011</td>\n",
       "      <td>6,974</td>\n",
       "      <td>Zac Goldsmith</td>\n",
       "      <td>613</td>\n",
       "      <td>18.347339</td>\n",
       "      <td>62.595705</td>\n",
       "      <td>...</td>\n",
       "      <td>7.200000</td>\n",
       "      <td>1.996152</td>\n",
       "      <td>26.720648</td>\n",
       "      <td>332.838519</td>\n",
       "      <td>22.4</td>\n",
       "      <td>19.3</td>\n",
       "      <td>28.756957</td>\n",
       "      <td>9.484078</td>\n",
       "      <td>2.051587</td>\n",
       "      <td>35.887557</td>\n",
       "    </tr>\n",
       "    <tr>\n",
       "      <th>3</th>\n",
       "      <td>4</td>\n",
       "      <td>Bexley</td>\n",
       "      <td>Blendon And Penhill</td>\n",
       "      <td>Bexley &amp; Bromley</td>\n",
       "      <td>3,050</td>\n",
       "      <td>6,993</td>\n",
       "      <td>Zac Goldsmith</td>\n",
       "      <td>546</td>\n",
       "      <td>17.973648</td>\n",
       "      <td>62.571558</td>\n",
       "      <td>...</td>\n",
       "      <td>5.686275</td>\n",
       "      <td>2.199101</td>\n",
       "      <td>28.358209</td>\n",
       "      <td>340.145185</td>\n",
       "      <td>21.5</td>\n",
       "      <td>19.6</td>\n",
       "      <td>37.669377</td>\n",
       "      <td>13.770616</td>\n",
       "      <td>2.065738</td>\n",
       "      <td>38.663117</td>\n",
       "    </tr>\n",
       "    <tr>\n",
       "      <th>4</th>\n",
       "      <td>5</td>\n",
       "      <td>Bexley</td>\n",
       "      <td>Brampton</td>\n",
       "      <td>Bexley &amp; Bromley</td>\n",
       "      <td>3,311</td>\n",
       "      <td>6,902</td>\n",
       "      <td>Zac Goldsmith</td>\n",
       "      <td>707</td>\n",
       "      <td>16.559789</td>\n",
       "      <td>60.109393</td>\n",
       "      <td>...</td>\n",
       "      <td>5.555556</td>\n",
       "      <td>1.946647</td>\n",
       "      <td>34.090909</td>\n",
       "      <td>325.361682</td>\n",
       "      <td>22.9</td>\n",
       "      <td>20.7</td>\n",
       "      <td>26.340457</td>\n",
       "      <td>9.101077</td>\n",
       "      <td>2.665179</td>\n",
       "      <td>41.213064</td>\n",
       "    </tr>\n",
       "  </tbody>\n",
       "</table>\n",
       "<p>5 rows × 42 columns</p>\n",
       "</div>"
      ],
      "text/plain": [
       "   ID Borough                   Ward      Constituency Turnout  \\\n",
       "0   1  Bexley             Barnehurst  Bexley & Bromley   2,758   \n",
       "1   2  Bexley              Belvedere  Bexley & Bromley   2,675   \n",
       "2   3  Bexley  Blackfen And Lamorbey  Bexley & Bromley   3,011   \n",
       "3   4  Bexley    Blendon And Penhill  Bexley & Bromley   3,050   \n",
       "4   5  Bexley               Brampton  Bexley & Bromley   3,311   \n",
       "\n",
       "  Ward Level Electorate         Winner  Sadiq Aman Khan  % Children aged 0-15  \\\n",
       "0                 6,886  Zac Goldsmith              588             18.668678   \n",
       "1                 7,506  Zac Goldsmith              957             23.174859   \n",
       "2                 6,974  Zac Goldsmith              613             18.347339   \n",
       "3                 6,993  Zac Goldsmith              546             17.973648   \n",
       "4                 6,902  Zac Goldsmith              707             16.559789   \n",
       "\n",
       "   % Working-age 16-64  ...  \\\n",
       "0            62.049783  ...   \n",
       "1            63.908139  ...   \n",
       "2            62.595705  ...   \n",
       "3            62.571558  ...   \n",
       "4            60.109393  ...   \n",
       "\n",
       "   % dependent children in out-of-work households 2014  \\\n",
       "0                                          11.020408     \n",
       "1                                          21.571429     \n",
       "2                                           7.200000     \n",
       "3                                           5.686275     \n",
       "4                                           5.555556     \n",
       "\n",
       "   % Households No adults Employment dependent children 2011  \\\n",
       "0                                           3.330971           \n",
       "1                                           6.147795           \n",
       "2                                           1.996152           \n",
       "3                                           2.199101           \n",
       "4                                           1.946647           \n",
       "\n",
       "   % Lone parents no employment 2011  Average GCSE capped point scores 2014  \\\n",
       "0                          38.013699                             326.298246   \n",
       "1                          42.576029                             306.139264   \n",
       "2                          26.720648                             332.838519   \n",
       "3                          28.358209                             340.145185   \n",
       "4                          34.090909                             325.361682   \n",
       "\n",
       "   % No qualifications 2011  % Level 4 and above qualifications 2011  \\\n",
       "0                      23.1                                     20.1   \n",
       "1                      23.7                                     21.9   \n",
       "2                      22.4                                     19.3   \n",
       "3                      21.5                                     19.6   \n",
       "4                      22.9                                     20.7   \n",
       "\n",
       "   Crime rate 2014_15  % area that is open space - 2014  \\\n",
       "0           46.461219                         35.978052   \n",
       "1           61.963541                         33.133207   \n",
       "2           28.756957                          9.484078   \n",
       "3           37.669377                         13.770616   \n",
       "4           26.340457                          9.101077   \n",
       "\n",
       "   Average Public Transport Accessibility score 2014  \\\n",
       "0                                           3.135916   \n",
       "1                                           2.752564   \n",
       "2                                           2.051587   \n",
       "3                                           2.065738   \n",
       "4                                           2.665179   \n",
       "\n",
       "   Turnout at Mayoral election 2012  \n",
       "0                         35.067040  \n",
       "1                         31.933791  \n",
       "2                         35.887557  \n",
       "3                         38.663117  \n",
       "4                         41.213064  \n",
       "\n",
       "[5 rows x 42 columns]"
      ]
     },
     "execution_count": 3,
     "metadata": {},
     "output_type": "execute_result"
    }
   ],
   "source": [
    "## setting directory \n",
    "os.chdir(\"C://@@ Default Folder Python Notebooks/Data\")\n",
    "\n",
    "## Importing the dataset \n",
    "Election = pd.read_csv('Election_London 2016 Cleaned dataset.csv', encoding='ANSI')\n",
    "Election.head()"
   ]
  },
  {
   "cell_type": "code",
   "execution_count": 4,
   "metadata": {},
   "outputs": [
    {
     "data": {
      "text/plain": [
       "Sadiq Aman Khan    379\n",
       "Zac Goldsmith      242\n",
       "Name: Winner, dtype: int64"
      ]
     },
     "execution_count": 4,
     "metadata": {},
     "output_type": "execute_result"
    }
   ],
   "source": [
    "Election['Winner'].value_counts()"
   ]
  },
  {
   "cell_type": "markdown",
   "metadata": {
    "button": false,
    "new_sheet": false,
    "run_control": {
     "read_only": false
    }
   },
   "source": [
    "The winner in 379 wards was Sadiq Aman Khan, the actual Mayor of London. Below it can be observed in which Boroughs of London he won all the wards and where he lost.  "
   ]
  },
  {
   "cell_type": "code",
   "execution_count": 5,
   "metadata": {
    "button": false,
    "new_sheet": false,
    "run_control": {
     "read_only": false
    }
   },
   "outputs": [
    {
     "data": {
      "text/html": [
       "<div>\n",
       "<style scoped>\n",
       "    .dataframe tbody tr th:only-of-type {\n",
       "        vertical-align: middle;\n",
       "    }\n",
       "\n",
       "    .dataframe tbody tr th {\n",
       "        vertical-align: top;\n",
       "    }\n",
       "\n",
       "    .dataframe thead th {\n",
       "        text-align: right;\n",
       "    }\n",
       "</style>\n",
       "<table border=\"1\" class=\"dataframe\">\n",
       "  <thead>\n",
       "    <tr style=\"text-align: right;\">\n",
       "      <th>Winner</th>\n",
       "      <th>Sadiq Aman Khan</th>\n",
       "      <th>Zac Goldsmith</th>\n",
       "    </tr>\n",
       "    <tr>\n",
       "      <th>Borough</th>\n",
       "      <th></th>\n",
       "      <th></th>\n",
       "    </tr>\n",
       "  </thead>\n",
       "  <tbody>\n",
       "    <tr>\n",
       "      <th>Barking &amp; Dagenham</th>\n",
       "      <td>100.00</td>\n",
       "      <td>0.00</td>\n",
       "    </tr>\n",
       "    <tr>\n",
       "      <th>Islington</th>\n",
       "      <td>100.00</td>\n",
       "      <td>0.00</td>\n",
       "    </tr>\n",
       "    <tr>\n",
       "      <th>Tower Hamlets</th>\n",
       "      <td>100.00</td>\n",
       "      <td>0.00</td>\n",
       "    </tr>\n",
       "    <tr>\n",
       "      <th>Southwark</th>\n",
       "      <td>100.00</td>\n",
       "      <td>0.00</td>\n",
       "    </tr>\n",
       "    <tr>\n",
       "      <th>Newham</th>\n",
       "      <td>100.00</td>\n",
       "      <td>0.00</td>\n",
       "    </tr>\n",
       "    <tr>\n",
       "      <th>Hackney</th>\n",
       "      <td>100.00</td>\n",
       "      <td>0.00</td>\n",
       "    </tr>\n",
       "    <tr>\n",
       "      <th>Lewisham</th>\n",
       "      <td>100.00</td>\n",
       "      <td>0.00</td>\n",
       "    </tr>\n",
       "    <tr>\n",
       "      <th>Haringey</th>\n",
       "      <td>100.00</td>\n",
       "      <td>0.00</td>\n",
       "    </tr>\n",
       "    <tr>\n",
       "      <th>Lambeth</th>\n",
       "      <td>100.00</td>\n",
       "      <td>0.00</td>\n",
       "    </tr>\n",
       "    <tr>\n",
       "      <th>Brent</th>\n",
       "      <td>95.24</td>\n",
       "      <td>4.76</td>\n",
       "    </tr>\n",
       "    <tr>\n",
       "      <th>Camden</th>\n",
       "      <td>88.89</td>\n",
       "      <td>11.11</td>\n",
       "    </tr>\n",
       "    <tr>\n",
       "      <th>Ealing</th>\n",
       "      <td>82.61</td>\n",
       "      <td>17.39</td>\n",
       "    </tr>\n",
       "    <tr>\n",
       "      <th>Greenwich</th>\n",
       "      <td>82.35</td>\n",
       "      <td>17.65</td>\n",
       "    </tr>\n",
       "    <tr>\n",
       "      <th>Waltham Forest</th>\n",
       "      <td>80.00</td>\n",
       "      <td>20.00</td>\n",
       "    </tr>\n",
       "    <tr>\n",
       "      <th>Hounslow</th>\n",
       "      <td>80.00</td>\n",
       "      <td>20.00</td>\n",
       "    </tr>\n",
       "    <tr>\n",
       "      <th>Redbridge</th>\n",
       "      <td>61.90</td>\n",
       "      <td>38.10</td>\n",
       "    </tr>\n",
       "    <tr>\n",
       "      <th>Enfield</th>\n",
       "      <td>61.90</td>\n",
       "      <td>38.10</td>\n",
       "    </tr>\n",
       "    <tr>\n",
       "      <th>All</th>\n",
       "      <td>61.03</td>\n",
       "      <td>38.97</td>\n",
       "    </tr>\n",
       "    <tr>\n",
       "      <th>Merton</th>\n",
       "      <td>55.00</td>\n",
       "      <td>45.00</td>\n",
       "    </tr>\n",
       "    <tr>\n",
       "      <th>Croydon</th>\n",
       "      <td>54.17</td>\n",
       "      <td>45.83</td>\n",
       "    </tr>\n",
       "    <tr>\n",
       "      <th>Hammersmith &amp; Fulham</th>\n",
       "      <td>50.00</td>\n",
       "      <td>50.00</td>\n",
       "    </tr>\n",
       "    <tr>\n",
       "      <th>Harrow</th>\n",
       "      <td>47.62</td>\n",
       "      <td>52.38</td>\n",
       "    </tr>\n",
       "    <tr>\n",
       "      <th>Wandsworth</th>\n",
       "      <td>45.00</td>\n",
       "      <td>55.00</td>\n",
       "    </tr>\n",
       "    <tr>\n",
       "      <th>Barnet</th>\n",
       "      <td>33.33</td>\n",
       "      <td>66.67</td>\n",
       "    </tr>\n",
       "    <tr>\n",
       "      <th>Westminster</th>\n",
       "      <td>30.00</td>\n",
       "      <td>70.00</td>\n",
       "    </tr>\n",
       "    <tr>\n",
       "      <th>Kensington &amp; Chelsea</th>\n",
       "      <td>27.78</td>\n",
       "      <td>72.22</td>\n",
       "    </tr>\n",
       "    <tr>\n",
       "      <th>Hillingdon</th>\n",
       "      <td>27.27</td>\n",
       "      <td>72.73</td>\n",
       "    </tr>\n",
       "    <tr>\n",
       "      <th>Kingston upon Thames</th>\n",
       "      <td>18.75</td>\n",
       "      <td>81.25</td>\n",
       "    </tr>\n",
       "    <tr>\n",
       "      <th>Sutton</th>\n",
       "      <td>16.67</td>\n",
       "      <td>83.33</td>\n",
       "    </tr>\n",
       "    <tr>\n",
       "      <th>Bexley</th>\n",
       "      <td>14.29</td>\n",
       "      <td>85.71</td>\n",
       "    </tr>\n",
       "    <tr>\n",
       "      <th>Bromley</th>\n",
       "      <td>13.64</td>\n",
       "      <td>86.36</td>\n",
       "    </tr>\n",
       "    <tr>\n",
       "      <th>Havering</th>\n",
       "      <td>0.00</td>\n",
       "      <td>100.00</td>\n",
       "    </tr>\n",
       "    <tr>\n",
       "      <th>Richmond upon Thames</th>\n",
       "      <td>0.00</td>\n",
       "      <td>100.00</td>\n",
       "    </tr>\n",
       "  </tbody>\n",
       "</table>\n",
       "</div>"
      ],
      "text/plain": [
       "Winner                Sadiq Aman Khan  Zac Goldsmith\n",
       "Borough                                             \n",
       "Barking & Dagenham             100.00           0.00\n",
       "Islington                      100.00           0.00\n",
       "Tower Hamlets                  100.00           0.00\n",
       "Southwark                      100.00           0.00\n",
       "Newham                         100.00           0.00\n",
       "Hackney                        100.00           0.00\n",
       "Lewisham                       100.00           0.00\n",
       "Haringey                       100.00           0.00\n",
       "Lambeth                        100.00           0.00\n",
       "Brent                           95.24           4.76\n",
       "Camden                          88.89          11.11\n",
       "Ealing                          82.61          17.39\n",
       "Greenwich                       82.35          17.65\n",
       "Waltham Forest                  80.00          20.00\n",
       "Hounslow                        80.00          20.00\n",
       "Redbridge                       61.90          38.10\n",
       "Enfield                         61.90          38.10\n",
       "All                             61.03          38.97\n",
       "Merton                          55.00          45.00\n",
       "Croydon                         54.17          45.83\n",
       "Hammersmith & Fulham            50.00          50.00\n",
       "Harrow                          47.62          52.38\n",
       "Wandsworth                      45.00          55.00\n",
       "Barnet                          33.33          66.67\n",
       "Westminster                     30.00          70.00\n",
       "Kensington & Chelsea            27.78          72.22\n",
       "Hillingdon                      27.27          72.73\n",
       "Kingston upon Thames            18.75          81.25\n",
       "Sutton                          16.67          83.33\n",
       "Bexley                          14.29          85.71\n",
       "Bromley                         13.64          86.36\n",
       "Havering                         0.00         100.00\n",
       "Richmond upon Thames             0.00         100.00"
      ]
     },
     "execution_count": 5,
     "metadata": {},
     "output_type": "execute_result"
    }
   ],
   "source": [
    "Vote_Borough_prop = pd.crosstab(Election['Borough'], Election['Winner'], \n",
    "                           margins=True, normalize='index').sort_values('Sadiq Aman Khan', \n",
    "                           ascending=False).round(4)*100\n",
    "Vote_Borough_prop"
   ]
  },
  {
   "cell_type": "code",
   "execution_count": 7,
   "metadata": {},
   "outputs": [],
   "source": [
    "Election.dropna(inplace=True)"
   ]
  },
  {
   "cell_type": "code",
   "execution_count": 8,
   "metadata": {},
   "outputs": [
    {
     "data": {
      "text/plain": [
       "Index(['ID', 'Borough', 'Ward', 'Constituency', 'Turnout',\n",
       "       'Ward Level Electorate', 'Winner', 'Sadiq Aman Khan',\n",
       "       '% Children aged 0-15', '% Working-age 16-64',\n",
       "       '% Older people aged 65+', 'Median Age 2013', 'Population density 2013',\n",
       "       '% BAME 2011', '% Not Born in UK 2011', 'General Fertility Rate 2013',\n",
       "       'Male life expectancy 2009_13', 'Female life expectancy 2009-13 ',\n",
       "       '% children in reception obese 2011_14',\n",
       "       '% children year 6 obese- 2011_14',\n",
       "       'Rate Ambulance Incidents per 1,000 population - 2014',\n",
       "       'In employment (16-64) 2011', 'Number of jobs in area - 2013',\n",
       "       'Rate new migrant workers - 2011/12', 'No properties sold 2014',\n",
       "       'Median Household income 2012/13', '% semi-detached houses 2011',\n",
       "       '% Households Private Rented 2011', '% dwellings CT bands A or B 2015',\n",
       "       '% dwellings CT bands F, G or H - 2015',\n",
       "       'Rate Claimant Housing Benefit 2015', 'Rate JobSeekers Allowance 2015',\n",
       "       '% dependent children in out-of-work households 2014',\n",
       "       '% Households No adults Employment dependent children 2011',\n",
       "       '% Lone parents no employment 2011',\n",
       "       'Average GCSE capped point scores 2014', '% No qualifications 2011',\n",
       "       '% Level 4 and above qualifications 2011', 'Crime rate 2014_15',\n",
       "       '% area that is open space - 2014',\n",
       "       'Average Public Transport Accessibility score 2014',\n",
       "       'Turnout at Mayoral election 2012'],\n",
       "      dtype='object')"
      ]
     },
     "execution_count": 8,
     "metadata": {},
     "output_type": "execute_result"
    }
   ],
   "source": [
    "Election.columns"
   ]
  },
  {
   "cell_type": "markdown",
   "metadata": {},
   "source": [
    "Some useless variables were excluded and the cases which contain NA were excluded. The final dataset contains 600 wards and 75 variables.  "
   ]
  },
  {
   "cell_type": "code",
   "execution_count": 9,
   "metadata": {},
   "outputs": [],
   "source": [
    " Features = Election[['Sadiq Aman Khan','% Children aged 0-15', \n",
    "        'Median Age 2013', 'In employment (16-64) 2011', 'Number of jobs in area - 2013', \n",
    "        'No properties sold 2014', \n",
    "        '% Households Private Rented 2011', '% dependent children in out-of-work households 2014', \n",
    "        '% dwellings CT bands F, G or H - 2015', \n",
    "       'Crime rate 2014_15', 'Turnout at Mayoral election 2012']] \n",
    "      "
   ]
  },
  {
   "cell_type": "code",
   "execution_count": null,
   "metadata": {
    "button": false,
    "new_sheet": false,
    "run_control": {
     "read_only": false
    }
   },
   "outputs": [],
   "source": [
    "Features.shape"
   ]
  },
  {
   "cell_type": "markdown",
   "metadata": {},
   "source": [
    "However, only 39 variables (**listed above**) were kept for analysis. Most of then have integers or float format."
   ]
  },
  {
   "cell_type": "code",
   "execution_count": null,
   "metadata": {},
   "outputs": [],
   "source": [
    "Features.dtypes"
   ]
  },
  {
   "cell_type": "markdown",
   "metadata": {
    "button": false,
    "new_sheet": false,
    "run_control": {
     "read_only": false
    }
   },
   "source": [
    "### Feature selection"
   ]
  },
  {
   "cell_type": "markdown",
   "metadata": {
    "button": false,
    "new_sheet": false,
    "run_control": {
     "read_only": false
    }
   },
   "source": [
    "Lets defind feature sets, X:"
   ]
  },
  {
   "cell_type": "code",
   "execution_count": 10,
   "metadata": {
    "button": false,
    "new_sheet": false,
    "run_control": {
     "read_only": false
    }
   },
   "outputs": [
    {
     "data": {
      "text/html": [
       "<div>\n",
       "<style scoped>\n",
       "    .dataframe tbody tr th:only-of-type {\n",
       "        vertical-align: middle;\n",
       "    }\n",
       "\n",
       "    .dataframe tbody tr th {\n",
       "        vertical-align: top;\n",
       "    }\n",
       "\n",
       "    .dataframe thead th {\n",
       "        text-align: right;\n",
       "    }\n",
       "</style>\n",
       "<table border=\"1\" class=\"dataframe\">\n",
       "  <thead>\n",
       "    <tr style=\"text-align: right;\">\n",
       "      <th></th>\n",
       "      <th>Sadiq Aman Khan</th>\n",
       "      <th>% Children aged 0-15</th>\n",
       "      <th>Median Age 2013</th>\n",
       "      <th>In employment (16-64) 2011</th>\n",
       "      <th>Number of jobs in area - 2013</th>\n",
       "      <th>No properties sold 2014</th>\n",
       "      <th>% Households Private Rented 2011</th>\n",
       "      <th>% dependent children in out-of-work households 2014</th>\n",
       "      <th>% dwellings CT bands F, G or H - 2015</th>\n",
       "      <th>Crime rate 2014_15</th>\n",
       "      <th>Turnout at Mayoral election 2012</th>\n",
       "    </tr>\n",
       "  </thead>\n",
       "  <tbody>\n",
       "    <tr>\n",
       "      <th>0</th>\n",
       "      <td>588</td>\n",
       "      <td>18.668678</td>\n",
       "      <td>41</td>\n",
       "      <td>4958</td>\n",
       "      <td>2200.0</td>\n",
       "      <td>228</td>\n",
       "      <td>8.3</td>\n",
       "      <td>11.020408</td>\n",
       "      <td>4.494382</td>\n",
       "      <td>46.461219</td>\n",
       "      <td>35.067040</td>\n",
       "    </tr>\n",
       "    <tr>\n",
       "      <th>1</th>\n",
       "      <td>957</td>\n",
       "      <td>23.174859</td>\n",
       "      <td>35</td>\n",
       "      <td>5439</td>\n",
       "      <td>3800.0</td>\n",
       "      <td>246</td>\n",
       "      <td>18.6</td>\n",
       "      <td>21.571429</td>\n",
       "      <td>1.351351</td>\n",
       "      <td>61.963541</td>\n",
       "      <td>31.933791</td>\n",
       "    </tr>\n",
       "    <tr>\n",
       "      <th>2</th>\n",
       "      <td>613</td>\n",
       "      <td>18.347339</td>\n",
       "      <td>42</td>\n",
       "      <td>5157</td>\n",
       "      <td>1100.0</td>\n",
       "      <td>182</td>\n",
       "      <td>8.1</td>\n",
       "      <td>7.200000</td>\n",
       "      <td>5.854801</td>\n",
       "      <td>28.756957</td>\n",
       "      <td>35.887557</td>\n",
       "    </tr>\n",
       "    <tr>\n",
       "      <th>3</th>\n",
       "      <td>546</td>\n",
       "      <td>17.973648</td>\n",
       "      <td>41</td>\n",
       "      <td>5336</td>\n",
       "      <td>1500.0</td>\n",
       "      <td>208</td>\n",
       "      <td>8.1</td>\n",
       "      <td>5.686275</td>\n",
       "      <td>13.501144</td>\n",
       "      <td>37.669377</td>\n",
       "      <td>38.663117</td>\n",
       "    </tr>\n",
       "    <tr>\n",
       "      <th>4</th>\n",
       "      <td>707</td>\n",
       "      <td>16.559789</td>\n",
       "      <td>45</td>\n",
       "      <td>4995</td>\n",
       "      <td>1700.0</td>\n",
       "      <td>146</td>\n",
       "      <td>5.7</td>\n",
       "      <td>5.555556</td>\n",
       "      <td>6.888361</td>\n",
       "      <td>26.340457</td>\n",
       "      <td>41.213064</td>\n",
       "    </tr>\n",
       "  </tbody>\n",
       "</table>\n",
       "</div>"
      ],
      "text/plain": [
       "   Sadiq Aman Khan  % Children aged 0-15  Median Age 2013  \\\n",
       "0              588             18.668678               41   \n",
       "1              957             23.174859               35   \n",
       "2              613             18.347339               42   \n",
       "3              546             17.973648               41   \n",
       "4              707             16.559789               45   \n",
       "\n",
       "   In employment (16-64) 2011  Number of jobs in area - 2013  \\\n",
       "0                        4958                         2200.0   \n",
       "1                        5439                         3800.0   \n",
       "2                        5157                         1100.0   \n",
       "3                        5336                         1500.0   \n",
       "4                        4995                         1700.0   \n",
       "\n",
       "   No properties sold 2014  % Households Private Rented 2011  \\\n",
       "0                      228                               8.3   \n",
       "1                      246                              18.6   \n",
       "2                      182                               8.1   \n",
       "3                      208                               8.1   \n",
       "4                      146                               5.7   \n",
       "\n",
       "   % dependent children in out-of-work households 2014  \\\n",
       "0                                          11.020408     \n",
       "1                                          21.571429     \n",
       "2                                           7.200000     \n",
       "3                                           5.686275     \n",
       "4                                           5.555556     \n",
       "\n",
       "   % dwellings CT bands F, G or H - 2015  Crime rate 2014_15  \\\n",
       "0                               4.494382           46.461219   \n",
       "1                               1.351351           61.963541   \n",
       "2                               5.854801           28.756957   \n",
       "3                              13.501144           37.669377   \n",
       "4                               6.888361           26.340457   \n",
       "\n",
       "   Turnout at Mayoral election 2012  \n",
       "0                         35.067040  \n",
       "1                         31.933791  \n",
       "2                         35.887557  \n",
       "3                         38.663117  \n",
       "4                         41.213064  "
      ]
     },
     "execution_count": 10,
     "metadata": {},
     "output_type": "execute_result"
    }
   ],
   "source": [
    "X = Features\n",
    "X[0:5]"
   ]
  },
  {
   "cell_type": "code",
   "execution_count": 11,
   "metadata": {
    "button": false,
    "new_sheet": false,
    "run_control": {
     "read_only": false
    }
   },
   "outputs": [
    {
     "data": {
      "text/plain": [
       "array(['Zac Goldsmith', 'Zac Goldsmith', 'Zac Goldsmith', 'Zac Goldsmith',\n",
       "       'Zac Goldsmith'], dtype=object)"
      ]
     },
     "execution_count": 11,
     "metadata": {},
     "output_type": "execute_result"
    }
   ],
   "source": [
    "y = Election['Winner'].values\n",
    "y [0:5]"
   ]
  },
  {
   "cell_type": "markdown",
   "metadata": {
    "button": false,
    "new_sheet": false,
    "run_control": {
     "read_only": false
    }
   },
   "source": [
    "## Normalize Data \n",
    "\n",
    "Data Standardization give data zero mean and unit variance (technically should be done after train test split )"
   ]
  },
  {
   "cell_type": "code",
   "execution_count": 12,
   "metadata": {
    "button": false,
    "new_sheet": false,
    "run_control": {
     "read_only": false
    }
   },
   "outputs": [
    {
     "data": {
      "text/plain": [
       "array([[-1.40028719, -0.35322001,  1.65937172, -1.02587352, -0.32306534,\n",
       "         0.45642946, -1.6227474 , -0.66398467, -0.61420056, -0.60514416,\n",
       "         0.16730063],\n",
       "       [-0.83776776,  0.88409238,  0.1428096 , -0.65990044, -0.20128314,\n",
       "         0.66952063, -0.55953069,  0.78144715, -0.81948879, -0.31771915,\n",
       "        -0.42009309],\n",
       "       [-1.36217612, -0.44145369,  1.91213207, -0.87446262, -0.40679061,\n",
       "        -0.08813688, -1.64339238, -1.1873596 , -0.52534429, -0.93339484,\n",
       "         0.3211239 ],\n",
       "       [-1.46431379, -0.54406209,  1.65937172, -0.7382689 , -0.37634506,\n",
       "         0.21966149, -1.64339238, -1.39473167, -0.02592051, -0.7681517 ,\n",
       "         0.84146115],\n",
       "       [-1.21887849, -0.9322813 ,  2.67041313, -0.99772175, -0.36112228,\n",
       "        -0.51431923, -1.8911322 , -1.41263945, -0.45783692, -0.97819861,\n",
       "         1.31950261]])"
      ]
     },
     "execution_count": 12,
     "metadata": {},
     "output_type": "execute_result"
    }
   ],
   "source": [
    "X = preprocessing.StandardScaler().fit(X).transform(X)\n",
    "X[0:5]"
   ]
  },
  {
   "cell_type": "markdown",
   "metadata": {},
   "source": [
    "The features were names as **X** and target as **y**. The Train and Test datasets were created as a 80% and 20% of dataset. "
   ]
  },
  {
   "cell_type": "markdown",
   "metadata": {},
   "source": [
    "# Train/Test dataset\n",
    "\n",
    "Okay, we split our dataset into train and test set:\n"
   ]
  },
  {
   "cell_type": "code",
   "execution_count": 13,
   "metadata": {},
   "outputs": [
    {
     "name": "stdout",
     "output_type": "stream",
     "text": [
      "Train set: (480, 11) (480,)\n",
      "Test set: (120, 11) (120,)\n"
     ]
    }
   ],
   "source": [
    "from sklearn.model_selection import train_test_split\n",
    "\n",
    "X_train, X_test, y_train, y_test = train_test_split(X, y, test_size = 0.2, random_state = 0)\n",
    "\n",
    "print ('Train set:', X_train.shape,  y_train.shape)\n",
    "print ('Test set:', X_test.shape,  y_test.shape)"
   ]
  },
  {
   "cell_type": "markdown",
   "metadata": {},
   "source": [
    "# Logistic Regression"
   ]
  },
  {
   "cell_type": "markdown",
   "metadata": {},
   "source": [
    "The first classification methods applied is Logistic Regression. With an F1 score of 0.925 and Jaccard index for accuracy of 0.925 and Log Loss of 0.258 the model Logistic regression is a good option to correctly classify which candidate will be selected on each wards based on the selected demographic variables.\n"
   ]
  },
  {
   "cell_type": "code",
   "execution_count": 14,
   "metadata": {},
   "outputs": [
    {
     "data": {
      "text/plain": [
       "LogisticRegression(C=0.01, class_weight=None, dual=False, fit_intercept=True,\n",
       "                   intercept_scaling=1, l1_ratio=None, max_iter=100,\n",
       "                   multi_class='warn', n_jobs=None, penalty='l1',\n",
       "                   random_state=None, solver='liblinear', tol=0.0001, verbose=0,\n",
       "                   warm_start=False)"
      ]
     },
     "execution_count": 14,
     "metadata": {},
     "output_type": "execute_result"
    }
   ],
   "source": [
    "from sklearn.linear_model import LogisticRegression\n",
    "from sklearn.metrics import confusion_matrix\n",
    "from sklearn.metrics import accuracy_score\n",
    "from sklearn.metrics import f1_score\n",
    "from sklearn.metrics import jaccard_similarity_score\n",
    "\n",
    "\n",
    "## Initialize Logistic Regression instance\n",
    "LR = LogisticRegression()\n",
    "\n",
    "## Fit the model on the training data ### model is trained\n",
    "\n",
    "LR = LogisticRegression(penalty='l1', C=0.01, solver='liblinear').fit(X_train, y_train)\n",
    "LR"
   ]
  },
  {
   "cell_type": "code",
   "execution_count": 15,
   "metadata": {},
   "outputs": [],
   "source": [
    "## Predicting outcome for training and test dataset \n",
    "\n",
    "pred_train_Y = LR.predict(X_train)\n",
    "\n",
    "pred_test_Y = LR.predict(X_test)\n",
    "\n",
    "pred_test_Y_prob = LR.predict_proba(X_test)\n",
    "\n",
    "#pred_test_Y_prob = LR.predict_proba(X_test)[:,1]"
   ]
  },
  {
   "cell_type": "code",
   "execution_count": 16,
   "metadata": {},
   "outputs": [
    {
     "data": {
      "text/plain": [
       "array([[0.3959962 , 0.6040038 ],\n",
       "       [0.65283066, 0.34716934],\n",
       "       [0.55351551, 0.44648449],\n",
       "       [0.71495016, 0.28504984],\n",
       "       [0.24030006, 0.75969994],\n",
       "       [0.33099591, 0.66900409],\n",
       "       [0.4549294 , 0.5450706 ],\n",
       "       [0.31391068, 0.68608932],\n",
       "       [0.5141481 , 0.4858519 ],\n",
       "       [0.66831816, 0.33168184],\n",
       "       [0.5668508 , 0.4331492 ],\n",
       "       [0.64061902, 0.35938098],\n",
       "       [0.73146993, 0.26853007],\n",
       "       [0.40407922, 0.59592078],\n",
       "       [0.49922503, 0.50077497],\n",
       "       [0.6648327 , 0.3351673 ],\n",
       "       [0.64516848, 0.35483152],\n",
       "       [0.40182555, 0.59817445],\n",
       "       [0.43537381, 0.56462619],\n",
       "       [0.42534031, 0.57465969],\n",
       "       [0.49944624, 0.50055376],\n",
       "       [0.6244342 , 0.3755658 ],\n",
       "       [0.34783872, 0.65216128],\n",
       "       [0.57970078, 0.42029922],\n",
       "       [0.74920304, 0.25079696],\n",
       "       [0.33126622, 0.66873378],\n",
       "       [0.69327616, 0.30672384],\n",
       "       [0.6458853 , 0.3541147 ],\n",
       "       [0.5858292 , 0.4141708 ],\n",
       "       [0.37319691, 0.62680309],\n",
       "       [0.28705962, 0.71294038],\n",
       "       [0.63770964, 0.36229036],\n",
       "       [0.6272402 , 0.3727598 ],\n",
       "       [0.26142727, 0.73857273],\n",
       "       [0.50765677, 0.49234323],\n",
       "       [0.4400196 , 0.5599804 ],\n",
       "       [0.41217317, 0.58782683],\n",
       "       [0.61398184, 0.38601816],\n",
       "       [0.32180469, 0.67819531],\n",
       "       [0.42621603, 0.57378397],\n",
       "       [0.22484036, 0.77515964],\n",
       "       [0.4681232 , 0.5318768 ],\n",
       "       [0.52035551, 0.47964449],\n",
       "       [0.23468102, 0.76531898],\n",
       "       [0.457537  , 0.542463  ],\n",
       "       [0.64538734, 0.35461266],\n",
       "       [0.30783378, 0.69216622],\n",
       "       [0.35257725, 0.64742275],\n",
       "       [0.33678045, 0.66321955],\n",
       "       [0.19591661, 0.80408339],\n",
       "       [0.25811475, 0.74188525],\n",
       "       [0.5025292 , 0.4974708 ],\n",
       "       [0.26091312, 0.73908688],\n",
       "       [0.47606514, 0.52393486],\n",
       "       [0.46656778, 0.53343222],\n",
       "       [0.69860769, 0.30139231],\n",
       "       [0.34967528, 0.65032472],\n",
       "       [0.28847066, 0.71152934],\n",
       "       [0.40632548, 0.59367452],\n",
       "       [0.58760207, 0.41239793],\n",
       "       [0.65637632, 0.34362368],\n",
       "       [0.59231989, 0.40768011],\n",
       "       [0.61179078, 0.38820922],\n",
       "       [0.42922696, 0.57077304],\n",
       "       [0.50283024, 0.49716976],\n",
       "       [0.61100406, 0.38899594],\n",
       "       [0.21877362, 0.78122638],\n",
       "       [0.40041165, 0.59958835],\n",
       "       [0.61378758, 0.38621242],\n",
       "       [0.26397951, 0.73602049],\n",
       "       [0.54243429, 0.45756571],\n",
       "       [0.5878333 , 0.4121667 ],\n",
       "       [0.27005969, 0.72994031],\n",
       "       [0.62200597, 0.37799403],\n",
       "       [0.36064942, 0.63935058],\n",
       "       [0.48387708, 0.51612292],\n",
       "       [0.2997108 , 0.7002892 ],\n",
       "       [0.34144663, 0.65855337],\n",
       "       [0.47248093, 0.52751907],\n",
       "       [0.35254662, 0.64745338],\n",
       "       [0.52255601, 0.47744399],\n",
       "       [0.29335495, 0.70664505],\n",
       "       [0.28788234, 0.71211766],\n",
       "       [0.41702468, 0.58297532],\n",
       "       [0.35341614, 0.64658386],\n",
       "       [0.5308709 , 0.4691291 ],\n",
       "       [0.54238842, 0.45761158],\n",
       "       [0.46927823, 0.53072177],\n",
       "       [0.49009563, 0.50990437],\n",
       "       [0.60296731, 0.39703269],\n",
       "       [0.57136718, 0.42863282],\n",
       "       [0.55929502, 0.44070498],\n",
       "       [0.48220958, 0.51779042],\n",
       "       [0.25994245, 0.74005755],\n",
       "       [0.51499927, 0.48500073],\n",
       "       [0.31733746, 0.68266254],\n",
       "       [0.57735435, 0.42264565],\n",
       "       [0.47144157, 0.52855843],\n",
       "       [0.23666398, 0.76333602],\n",
       "       [0.50897068, 0.49102932],\n",
       "       [0.36150466, 0.63849534],\n",
       "       [0.37277802, 0.62722198],\n",
       "       [0.48242091, 0.51757909],\n",
       "       [0.48011746, 0.51988254],\n",
       "       [0.51658475, 0.48341525],\n",
       "       [0.27629166, 0.72370834],\n",
       "       [0.64142851, 0.35857149],\n",
       "       [0.54738438, 0.45261562],\n",
       "       [0.61832883, 0.38167117],\n",
       "       [0.34002996, 0.65997004],\n",
       "       [0.37325248, 0.62674752],\n",
       "       [0.61858032, 0.38141968],\n",
       "       [0.5947882 , 0.4052118 ],\n",
       "       [0.73042324, 0.26957676],\n",
       "       [0.41712273, 0.58287727],\n",
       "       [0.70688831, 0.29311169],\n",
       "       [0.687696  , 0.312304  ],\n",
       "       [0.66612866, 0.33387134],\n",
       "       [0.43576906, 0.56423094],\n",
       "       [0.65943361, 0.34056639]])"
      ]
     },
     "execution_count": 16,
     "metadata": {},
     "output_type": "execute_result"
    }
   ],
   "source": [
    "pred_test_Y_prob"
   ]
  },
  {
   "cell_type": "code",
   "execution_count": 17,
   "metadata": {},
   "outputs": [],
   "source": [
    "LR_train_acc = round(accuracy_score(y_train, pred_train_Y),4)\n",
    "LR_test_acc = round(accuracy_score(y_test, pred_test_Y), 4)"
   ]
  },
  {
   "cell_type": "code",
   "execution_count": 18,
   "metadata": {},
   "outputs": [],
   "source": [
    "### f1_score from sklearn library\n",
    "\n",
    "from sklearn.metrics import f1_score\n",
    "F1_LR = round (f1_score(y_test, pred_test_Y, average='weighted'), 4) "
   ]
  },
  {
   "cell_type": "code",
   "execution_count": 19,
   "metadata": {},
   "outputs": [
    {
     "name": "stderr",
     "output_type": "stream",
     "text": [
      "C:\\Users\\nastu\\Anaconda3\\lib\\site-packages\\sklearn\\metrics\\classification.py:635: DeprecationWarning: jaccard_similarity_score has been deprecated and replaced with jaccard_score. It will be removed in version 0.23. This implementation has surprising behavior for binary and multiclass classification tasks.\n",
      "  'and multiclass classification tasks.', DeprecationWarning)\n"
     ]
    }
   ],
   "source": [
    " ### Jaccard index for accuracy:\n",
    "from sklearn.metrics import jaccard_similarity_score\n",
    "Jaccard_LR = round (jaccard_similarity_score(y_test, pred_test_Y), 4)"
   ]
  },
  {
   "cell_type": "code",
   "execution_count": 20,
   "metadata": {},
   "outputs": [
    {
     "data": {
      "text/plain": [
       "0.5037645238869046"
      ]
     },
     "execution_count": 20,
     "metadata": {},
     "output_type": "execute_result"
    }
   ],
   "source": [
    "from sklearn.metrics import log_loss\n",
    "log_loss(y_test, pred_test_Y_prob)"
   ]
  },
  {
   "cell_type": "code",
   "execution_count": 21,
   "metadata": {},
   "outputs": [
    {
     "name": "stdout",
     "output_type": "stream",
     "text": [
      "                 precision    recall  f1-score   support\n",
      "\n",
      "Sadiq Aman Khan       0.96      0.80      0.87        65\n",
      "  Zac Goldsmith       0.80      0.96      0.88        55\n",
      "\n",
      "       accuracy                           0.88       120\n",
      "      macro avg       0.88      0.88      0.87       120\n",
      "   weighted avg       0.89      0.88      0.87       120\n",
      "\n"
     ]
    }
   ],
   "source": [
    "from sklearn.metrics import classification_report, confusion_matrix\n",
    "confusion_matrix = confusion_matrix(y_test,pred_test_Y)  \n",
    "confusion_matrix\n",
    "\n",
    "print(classification_report(y_test,pred_test_Y))"
   ]
  },
  {
   "cell_type": "code",
   "execution_count": 22,
   "metadata": {},
   "outputs": [
    {
     "name": "stdout",
     "output_type": "stream",
     "text": [
      "[[52 13]\n",
      " [ 2 53]]\n"
     ]
    }
   ],
   "source": [
    "print (confusion_matrix)"
   ]
  },
  {
   "cell_type": "markdown",
   "metadata": {},
   "source": [
    "\n",
    " True positive is 52.\n",
    "    \n",
    " True negative is 53.\n",
    "\n",
    " False positive is 12.\n",
    "    \n",
    " False negative is 2.\n"
   ]
  },
  {
   "cell_type": "code",
   "execution_count": 23,
   "metadata": {},
   "outputs": [],
   "source": [
    "from sklearn.metrics import roc_curve\n",
    "from sklearn.metrics import roc_auc_score"
   ]
  },
  {
   "cell_type": "code",
   "execution_count": 24,
   "metadata": {},
   "outputs": [
    {
     "name": "stderr",
     "output_type": "stream",
     "text": [
      "C:\\Users\\nastu\\Anaconda3\\lib\\site-packages\\sklearn\\metrics\\ranking.py:659: UndefinedMetricWarning: No positive samples in y_true, true positive value should be meaningless\n",
      "  UndefinedMetricWarning)\n"
     ]
    }
   ],
   "source": [
    "false_positive_rate, true_positive_rate, threshold = roc_curve(y_test, pred_test_Y_prob [:,1], pos_label=1)\n"
   ]
  },
  {
   "cell_type": "code",
   "execution_count": 25,
   "metadata": {},
   "outputs": [
    {
     "data": {
      "text/plain": [
       "0.9683916083916084"
      ]
     },
     "execution_count": 25,
     "metadata": {},
     "output_type": "execute_result"
    }
   ],
   "source": [
    "auc_score = roc_auc_score(y_test, pred_test_Y_prob[:,1])\n",
    "auc_score"
   ]
  },
  {
   "cell_type": "code",
   "execution_count": 26,
   "metadata": {},
   "outputs": [
    {
     "name": "stderr",
     "output_type": "stream",
     "text": [
      "C:\\Users\\nastu\\Anaconda3\\lib\\site-packages\\sklearn\\metrics\\ranking.py:659: UndefinedMetricWarning: No positive samples in y_true, true positive value should be meaningless\n",
      "  UndefinedMetricWarning)\n"
     ]
    }
   ],
   "source": [
    "# roc curve for models\n",
    "\n",
    "# false_positive_rate, true_positive_rate, threshold \n",
    "fpr1, tpr1, thresh1 = roc_curve(y_test, pred_test_Y_prob[:,1], pos_label=1)\n",
    "\n",
    "# roc curve for tpr = fpr \n",
    "random_probs = [0 for i in range(len(y_test))]\n",
    "p_fpr, p_tpr, _ = roc_curve(y_test, random_probs, pos_label=1)"
   ]
  },
  {
   "cell_type": "code",
   "execution_count": null,
   "metadata": {},
   "outputs": [],
   "source": []
  },
  {
   "cell_type": "code",
   "execution_count": 44,
   "metadata": {},
   "outputs": [],
   "source": [
    "# Ploting ROC curves\n"
   ]
  },
  {
   "cell_type": "markdown",
   "metadata": {},
   "source": [
    "# K Nearest Neighbor(KNN)"
   ]
  },
  {
   "cell_type": "markdown",
   "metadata": {
    "button": false,
    "new_sheet": false,
    "run_control": {
     "read_only": false
    }
   },
   "source": [
    "The second classification method applied will be KNN clustering with 2, 4, 6 clusters. Based on the accuracy for the training and test datasets the 4 clusters solution is preferable. "
   ]
  },
  {
   "cell_type": "code",
   "execution_count": 29,
   "metadata": {},
   "outputs": [],
   "source": [
    "from sklearn.neighbors import KNeighborsClassifier\n"
   ]
  },
  {
   "cell_type": "code",
   "execution_count": 30,
   "metadata": {},
   "outputs": [
    {
     "name": "stdout",
     "output_type": "stream",
     "text": [
      "Train set Accuracy KNN3:  0.9541666666666667\n",
      "Test set Accuracy KNN3:  0.9333333333333333\n"
     ]
    }
   ],
   "source": [
    "#Train Model and Predict \n",
    "\n",
    "k = 3\n",
    "neigh3 = KNeighborsClassifier(n_neighbors = k).fit(X_train,y_train)\n",
    "neigh3\n",
    "yhat3 = neigh3.predict(X_test)  \n",
    "yhat3[0:5]\n",
    "\n",
    "# Accuracy evaluation\n",
    "\n",
    "print (\"Train set Accuracy KNN3: \", metrics.accuracy_score(y_train, neigh3.predict(X_train)))\n",
    "print(\"Test set Accuracy KNN3: \", metrics.accuracy_score(y_test, yhat3))"
   ]
  },
  {
   "cell_type": "code",
   "execution_count": 31,
   "metadata": {},
   "outputs": [
    {
     "name": "stdout",
     "output_type": "stream",
     "text": [
      "Train set Accuracy KNN4:  0.94375\n",
      "Test set Accuracy KNN4:  0.9166666666666666\n"
     ]
    }
   ],
   "source": [
    "k = 4\n",
    "neigh4 = KNeighborsClassifier(n_neighbors = k).fit(X_train,y_train)\n",
    "neigh4\n",
    "yhat4 = neigh4.predict(X_test)  \n",
    "yhat4[0:5]\n",
    "\n",
    "# Accuracy evaluation\n",
    "\n",
    "print(\"Train set Accuracy KNN4: \", metrics.accuracy_score(y_train, neigh4.predict(X_train)))\n",
    "print(\"Test set Accuracy KNN4: \", metrics.accuracy_score(y_test, yhat4))"
   ]
  },
  {
   "cell_type": "code",
   "execution_count": 32,
   "metadata": {},
   "outputs": [
    {
     "name": "stdout",
     "output_type": "stream",
     "text": [
      "Train set Accuracy KNN6:  0.9458333333333333\n",
      "Test set Accuracy KNN6:  0.9166666666666666\n"
     ]
    }
   ],
   "source": [
    "k = 6\n",
    "neigh6 = KNeighborsClassifier(n_neighbors = k).fit(X_train,y_train)\n",
    "neigh6\n",
    "yhat6 = neigh6.predict(X_test)  \n",
    "yhat6[0:5]\n",
    "\n",
    "# Accuracy evaluation\n",
    "\n",
    "print(\"Train set Accuracy KNN6: \", metrics.accuracy_score(y_train, neigh6.predict(X_train)))\n",
    "print(\"Test set Accuracy KNN6: \", metrics.accuracy_score(y_test, yhat6))"
   ]
  },
  {
   "cell_type": "code",
   "execution_count": 33,
   "metadata": {},
   "outputs": [
    {
     "name": "stderr",
     "output_type": "stream",
     "text": [
      "C:\\Users\\nastu\\Anaconda3\\lib\\site-packages\\sklearn\\metrics\\classification.py:635: DeprecationWarning: jaccard_similarity_score has been deprecated and replaced with jaccard_score. It will be removed in version 0.23. This implementation has surprising behavior for binary and multiclass classification tasks.\n",
      "  'and multiclass classification tasks.', DeprecationWarning)\n"
     ]
    }
   ],
   "source": [
    "### I choose KNN 3 as the Accuracy for both Train and Test data are the highest. \n",
    "### f1_score from sklearn library\n",
    "\n",
    "KNN3_F1 = round (f1_score(y_test, yhat3, average='weighted'),4) \n",
    "\n",
    "KNN3_jaccard = round (jaccard_similarity_score(y_test, yhat3), 4)\n",
    "\n",
    "KNN3_train_acc = round (metrics.accuracy_score(y_train, neigh3.predict(X_train)), 4)\n",
    "\n",
    "KNN3_test_acc = round (metrics.accuracy_score(y_test, yhat3), 4)"
   ]
  },
  {
   "cell_type": "code",
   "execution_count": 34,
   "metadata": {},
   "outputs": [],
   "source": [
    "pred_prob_KNN = neigh3.predict_proba(X_test)"
   ]
  },
  {
   "cell_type": "code",
   "execution_count": 35,
   "metadata": {},
   "outputs": [
    {
     "name": "stderr",
     "output_type": "stream",
     "text": [
      "C:\\Users\\nastu\\Anaconda3\\lib\\site-packages\\sklearn\\metrics\\ranking.py:659: UndefinedMetricWarning: No positive samples in y_true, true positive value should be meaningless\n",
      "  UndefinedMetricWarning)\n"
     ]
    }
   ],
   "source": [
    "fpr2, tpr2, thresh2 = roc_curve(y_test, pred_prob_KNN[:,1], pos_label=1)"
   ]
  },
  {
   "cell_type": "code",
   "execution_count": null,
   "metadata": {},
   "outputs": [],
   "source": []
  },
  {
   "cell_type": "markdown",
   "metadata": {},
   "source": [
    "# Decision Tree"
   ]
  },
  {
   "cell_type": "markdown",
   "metadata": {
    "button": false,
    "new_sheet": false,
    "run_control": {
     "read_only": false
    }
   },
   "source": [
    "The third classification method applied will be the **Decision Tree**, at depth level 10.  \n"
   ]
  },
  {
   "cell_type": "code",
   "execution_count": 36,
   "metadata": {},
   "outputs": [
    {
     "data": {
      "text/plain": [
       "DecisionTreeClassifier(class_weight=None, criterion='entropy', max_depth=10,\n",
       "                       max_features=None, max_leaf_nodes=None,\n",
       "                       min_impurity_decrease=0.0, min_impurity_split=None,\n",
       "                       min_samples_leaf=1, min_samples_split=2,\n",
       "                       min_weight_fraction_leaf=0.0, presort=False,\n",
       "                       random_state=None, splitter='best')"
      ]
     },
     "execution_count": 36,
     "metadata": {},
     "output_type": "execute_result"
    }
   ],
   "source": [
    "## I tried different maximum detphs and 10 is the best one\n",
    "\n",
    "Vote_Tree = DecisionTreeClassifier(criterion=\"entropy\", max_depth = 10)\n",
    "\n",
    "Vote_Tree.fit(X_train,y_train)"
   ]
  },
  {
   "cell_type": "code",
   "execution_count": 37,
   "metadata": {},
   "outputs": [],
   "source": [
    "predTreeTrain = Vote_Tree.predict(X_train) "
   ]
  },
  {
   "cell_type": "code",
   "execution_count": 38,
   "metadata": {},
   "outputs": [],
   "source": [
    "predTree = Vote_Tree.predict(X_test) "
   ]
  },
  {
   "cell_type": "code",
   "execution_count": 39,
   "metadata": {},
   "outputs": [
    {
     "name": "stderr",
     "output_type": "stream",
     "text": [
      "C:\\Users\\nastu\\Anaconda3\\lib\\site-packages\\sklearn\\metrics\\classification.py:635: DeprecationWarning: jaccard_similarity_score has been deprecated and replaced with jaccard_score. It will be removed in version 0.23. This implementation has surprising behavior for binary and multiclass classification tasks.\n",
      "  'and multiclass classification tasks.', DeprecationWarning)\n"
     ]
    }
   ],
   "source": [
    "DT_train_acc = round ( metrics.accuracy_score(y_train, predTreeTrain), 4) \n",
    "DT_test_acc = round ( metrics.accuracy_score(y_test, predTree), 4) \n",
    "DT_jaccard = round (jaccard_similarity_score(y_test, predTree), 4) \n",
    "DT_F1 = round (f1_score(y_test, predTree, average='weighted'), 4) "
   ]
  },
  {
   "cell_type": "markdown",
   "metadata": {},
   "source": [
    "# Support Vector Machine"
   ]
  },
  {
   "cell_type": "markdown",
   "metadata": {},
   "source": [
    "Finally, the SVM is applied to classify the Winner of Mayoral election in London. "
   ]
  },
  {
   "cell_type": "code",
   "execution_count": 40,
   "metadata": {},
   "outputs": [
    {
     "name": "stderr",
     "output_type": "stream",
     "text": [
      "C:\\Users\\nastu\\Anaconda3\\lib\\site-packages\\sklearn\\svm\\base.py:193: FutureWarning: The default value of gamma will change from 'auto' to 'scale' in version 0.22 to account better for unscaled features. Set gamma explicitly to 'auto' or 'scale' to avoid this warning.\n",
      "  \"avoid this warning.\", FutureWarning)\n"
     ]
    },
    {
     "data": {
      "text/plain": [
       "SVC(C=1.0, cache_size=200, class_weight=None, coef0=0.0,\n",
       "    decision_function_shape='ovr', degree=3, gamma='auto_deprecated',\n",
       "    kernel='rbf', max_iter=-1, probability=False, random_state=None,\n",
       "    shrinking=True, tol=0.001, verbose=False)"
      ]
     },
     "execution_count": 40,
     "metadata": {},
     "output_type": "execute_result"
    }
   ],
   "source": [
    "from sklearn import svm\n",
    "\n",
    "clf1 = svm.SVC(kernel='rbf')\n",
    "clf1.fit(X_train, y_train) "
   ]
  },
  {
   "cell_type": "code",
   "execution_count": 41,
   "metadata": {},
   "outputs": [],
   "source": [
    "yhatSVM = clf1.predict(X_test)"
   ]
  },
  {
   "cell_type": "code",
   "execution_count": 42,
   "metadata": {},
   "outputs": [
    {
     "name": "stderr",
     "output_type": "stream",
     "text": [
      "C:\\Users\\nastu\\Anaconda3\\lib\\site-packages\\sklearn\\metrics\\classification.py:635: DeprecationWarning: jaccard_similarity_score has been deprecated and replaced with jaccard_score. It will be removed in version 0.23. This implementation has surprising behavior for binary and multiclass classification tasks.\n",
      "  'and multiclass classification tasks.', DeprecationWarning)\n"
     ]
    }
   ],
   "source": [
    "# write your code here\n",
    "clf1 = svm.SVC(kernel='linear')\n",
    "clf1.fit(X_train, y_train) \n",
    "yhatSVM = clf1.predict(X_test)\n",
    "\n",
    "SVM_F1 = round (f1_score(y_test, yhatSVM, average='weighted'), 4) \n",
    "\n",
    "SVM_Jaccard = round (jaccard_similarity_score(y_test, yhatSVM), 4) \n",
    "SVM_test_acc = round(metrics.accuracy_score(y_test, yhatSVM), 4)\n",
    "\n"
   ]
  },
  {
   "cell_type": "code",
   "execution_count": 43,
   "metadata": {},
   "outputs": [
    {
     "name": "stdout",
     "output_type": "stream",
     "text": [
      "1. F1 score for Logistic Regression:  0.8749\n",
      "2. Jaccard Similarity Score for Logistic Regression:  0.875\n",
      "3. Train set Accuracy for Logistic Regression:  0.8583\n",
      "4. Test set Accuracy for Logistic Regression:  0.875\n",
      "1. F1 score for Decision Tree:  0.8996\n",
      "2. Jaccard Similarity Score for Decision Tree:  0.9\n",
      "3. Decision Tree's Training Accuracy:  1.0\n",
      "4. Decision Tree's Test Accuracy:  0.9\n",
      "1. F1 score for SVM:  0.9163\n",
      "2. Jaccard Similarity Score for SVM:  0.9167\n",
      "4. Test set Accuracy for SVM:  0.9167\n",
      "1. F1 score for KNN 3 is:  0.9332\n",
      "2. Jaccard Similarity Score for KNN 3 is:  0.9333\n",
      "3. Train set Accuracy for KNN 3 is:  0.9542\n",
      "4. Test set Accuracy for KNN 3 is:  0.9333\n"
     ]
    }
   ],
   "source": [
    "print(\"1. F1 score for Logistic Regression: \", F1_LR) \n",
    "print(\"2. Jaccard Similarity Score for Logistic Regression: \", Jaccard_LR)\n",
    "print(\"3. Train set Accuracy for Logistic Regression: \", LR_train_acc)\n",
    "print(\"4. Test set Accuracy for Logistic Regression: \", LR_test_acc)\n",
    "\n",
    "#####\n",
    "\n",
    "print(\"1. F1 score for Decision Tree: \", DT_F1)\n",
    "print(\"2. Jaccard Similarity Score for Decision Tree: \", DT_jaccard)\n",
    "print(\"3. Decision Tree's Training Accuracy: \", DT_train_acc) \n",
    "print(\"4. Decision Tree's Test Accuracy: \", DT_test_acc) \n",
    "\n",
    "#####\n",
    "\n",
    "print(\"1. F1 score for SVM: \", SVM_F1)\n",
    "print(\"2. Jaccard Similarity Score for SVM: \", SVM_Jaccard)\n",
    "print(\"4. Test set Accuracy for SVM: \", SVM_test_acc)\n",
    "\n",
    "\n",
    "print(\"1. F1 score for KNN 3 is: \", KNN3_F1)\n",
    "print(\"2. Jaccard Similarity Score for KNN 3 is: \", KNN3_jaccard)\n",
    "print(\"3. Train set Accuracy for KNN 3 is: \", KNN3_train_acc)\n",
    "print(\"4. Test set Accuracy for KNN 3 is: \", KNN3_test_acc)"
   ]
  },
  {
   "cell_type": "markdown",
   "metadata": {},
   "source": [
    "# Report\n",
    "The metrics from different classification methods were included in the table below to compare the methods and decide which is the best classification method.\n"
   ]
  },
  {
   "cell_type": "markdown",
   "metadata": {},
   "source": [
    "| Algorithm          | Jaccard | F1-score | Train Acc | Test Acc  |\n",
    "|--------------------|---------|----------|-----------|-----------| \n",
    "| KNN-3              | 0.933   | 0.933    | 0.954     |  0.933    |\n",
    "| Decision Tree (10) | 0.900   | 0.897    | 1.000     |  0.900    |\n",
    "| SVM                | 0.917   | 0.916    |           |  0.917    |\n",
    "| Logistic Regression| 0.875   | 0.875    | 0.856     |  0.875    |"
   ]
  },
  {
   "cell_type": "markdown",
   "metadata": {},
   "source": [
    "The scores listed above were printed in the cells below. Based on them we can conclude the SVM seems to be the best performing classification method using the list of selected predictors. "
   ]
  },
  {
   "cell_type": "markdown",
   "metadata": {},
   "source": [
    "This notebook is the 3nd draft of my way of showing how Machine learning can be potentially used to create a model for predicting the results of \n",
    "London 2016 election based on selected my selection of variables (14 out of ~72). \n",
    "This selection takes into account statistical checking of the relation between variables \n",
    "(multicolinearity) and also assessed that all included features (variables) are statistically significant.   \n",
    "\n",
    "* 'Sadiq Aman Khan',\n",
    "* '% Children aged 0-15', \n",
    "* 'Median Age - 2013', \n",
    "* 'Median Age 2013', \n",
    "* 'In employment (16-64) 2011', \n",
    "* 'Number of jobs in area - 2013', \n",
    "* 'No properties sold 2014', \n",
    "* '% Households Private Rented 2011', \n",
    "* '% dependent children in out-of-work households 2014', \n",
    "* '% dwellings CT bands F, G or H - 2015', \n",
    "* 'Crime rate 2014_15', \n",
    "* 'Turnout at Mayoral election 2012'\n",
    "         "
   ]
  },
  {
   "cell_type": "markdown",
   "metadata": {},
   "source": [
    "* If you read this Notebook please email me any comments or suggestions to my email sebastian@bianalytics.org"
   ]
  },
  {
   "cell_type": "code",
   "execution_count": null,
   "metadata": {},
   "outputs": [],
   "source": []
  }
 ],
 "metadata": {
  "kernelspec": {
   "display_name": "Python 3",
   "language": "python",
   "name": "python3"
  },
  "language_info": {
   "codemirror_mode": {
    "name": "ipython",
    "version": 3
   },
   "file_extension": ".py",
   "mimetype": "text/x-python",
   "name": "python",
   "nbconvert_exporter": "python",
   "pygments_lexer": "ipython3",
   "version": "3.7.4"
  }
 },
 "nbformat": 4,
 "nbformat_minor": 2
}
