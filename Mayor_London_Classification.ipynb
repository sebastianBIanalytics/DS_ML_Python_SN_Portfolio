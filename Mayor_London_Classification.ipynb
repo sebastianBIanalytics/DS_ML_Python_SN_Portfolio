{
 "cells": [
  {
   "cell_type": "markdown",
   "metadata": {
    "button": false,
    "new_sheet": false,
    "run_control": {
     "read_only": false
    }
   },
   "source": [
    "### Predicting the Mayor of London 2016 results using ward level demographics"
   ]
  },
  {
   "cell_type": "markdown",
   "metadata": {
    "button": false,
    "new_sheet": false,
    "run_control": {
     "read_only": false
    }
   },
   "source": [
    "In this notebook several classification algorithms such as Logistic regression, Support Vector Machine, K Nearest Neighbor(KNN) and \n",
    "Decision Tree. The dataset included as **outcome** the results of **Mayor of London election in 2016** and as features (predictors/independent variables) some selected socio-demographic predictors agregated at ward level.  \n",
    "The previously used the demographic dataset in another notebooks: \n",
    "\n",
    "**__[Predicting the median house price in London Wards](https://github.com/sebastianBIanalytics/Data_Science_Machine_Learning_Python/blob/master/Predicting%20median%20House%20Price%20London%20-%20Multiple%20Regression.ipynb)__**\n",
    "\n",
    "**__[Where in London to open a new Luxury Wine Bar](https://github.com/sebastianBIanalytics/Data_Science_Machine_Learning_Python/blob/master/WINE%20BAR%20in%20London%20Final.ipynb)__**\n",
    "\n",
    "The original source of the predictors can be accessed at the link below:  \n",
    "** Ward Profiles and Atlas of Greater London Authority (GLA)** provided by **__[DataStore London](https://data.london.gov.uk/dataset/ward-profiles-and-atlas)__**. Although the provided details reflect London profile until 2015, this is the most comprehensive dataset publicly available that cover data from the 2011 Census, from ONS and governmental data. \n",
    "\n",
    "The election results used the **__[London Elections Results 2016, Wards, Boroughs, Constituency]( https://data.london.gov.uk/download/london-elections-results-2016-wards-boroughs-constituency/01f4ff3a-c562-4d61-977f-c2dfb36694ce/gla-elections-votes-all-2016.xlsx)__**. However, only the voted per ward level were included while the postal votes (given at Borough level) were excluded. \n",
    "\n"
   ]
  },
  {
   "cell_type": "markdown",
   "metadata": {},
   "source": [
    "The necessary packages were imported. "
   ]
  },
  {
   "cell_type": "code",
   "execution_count": 37,
   "metadata": {
    "button": false,
    "new_sheet": false,
    "run_control": {
     "read_only": false
    }
   },
   "outputs": [],
   "source": [
    "import sys\n",
    "import itertools\n",
    "import numpy as np\n",
    "import pandas as pd\n",
    "import numpy as np\n",
    "import matplotlib.pyplot as plt\n",
    "%matplotlib inline\n",
    "\n",
    "import pandas.testing as tm\n",
    "import pandas.util.testing as tm\n",
    "\n",
    "import seaborn as sns\n",
    "import pandas.util.testing as tm\n",
    "from matplotlib.ticker import NullFormatter\n",
    "import pandas.util.testing as tm\n",
    "import matplotlib.ticker as ticker\n",
    "\n",
    "from sklearn import preprocessing\n",
    "from sklearn import metrics\n",
    "\n",
    "from sklearn.tree import DecisionTreeClassifier\n",
    "\n",
    "### Model Evaluation using Test set \n",
    "from sklearn.metrics import jaccard_similarity_score\n",
    "from sklearn.metrics import accuracy_score\n",
    "from sklearn.metrics import f1_score\n",
    "from sklearn.metrics import log_loss\n",
    "\n",
    "## setting the working directory\n",
    "import os\n"
   ]
  },
  {
   "cell_type": "code",
   "execution_count": 35,
   "metadata": {},
   "outputs": [
    {
     "name": "stdout",
     "output_type": "stream",
     "text": [
      "Collecting package metadata (current_repodata.json): ...working... done\n",
      "Solving environment: ...working... done\n",
      "\n",
      "# All requested packages already installed.\n",
      "\n"
     ]
    }
   ],
   "source": [
    "# notice: installing seaborn might takes a few minutes\n",
    "!conda install -c anaconda seaborn -y"
   ]
  },
  {
   "cell_type": "markdown",
   "metadata": {
    "button": false,
    "new_sheet": false,
    "run_control": {
     "read_only": false
    }
   },
   "source": [
    "## Importing the dataset"
   ]
  },
  {
   "cell_type": "code",
   "execution_count": 3,
   "metadata": {
    "button": false,
    "new_sheet": false,
    "run_control": {
     "read_only": false
    }
   },
   "outputs": [
    {
     "data": {
      "text/html": [
       "<div>\n",
       "<style scoped>\n",
       "    .dataframe tbody tr th:only-of-type {\n",
       "        vertical-align: middle;\n",
       "    }\n",
       "\n",
       "    .dataframe tbody tr th {\n",
       "        vertical-align: top;\n",
       "    }\n",
       "\n",
       "    .dataframe thead th {\n",
       "        text-align: right;\n",
       "    }\n",
       "</style>\n",
       "<table border=\"1\" class=\"dataframe\">\n",
       "  <thead>\n",
       "    <tr style=\"text-align: right;\">\n",
       "      <th></th>\n",
       "      <th>ID</th>\n",
       "      <th>Borough</th>\n",
       "      <th>Ward</th>\n",
       "      <th>Constituency</th>\n",
       "      <th>Turnout</th>\n",
       "      <th>Ward Level Electorate</th>\n",
       "      <th>Winner</th>\n",
       "      <th>Sadiq Aman Khan - Labour Party</th>\n",
       "      <th>% Children aged 0-15</th>\n",
       "      <th>% Working-age 16-64</th>\n",
       "      <th>...</th>\n",
       "      <th>% dependent children in out-of-work households 2014</th>\n",
       "      <th>% Households No adults Employment dependent children 2011</th>\n",
       "      <th>% Lone parents no employment 2011</th>\n",
       "      <th>Average GCSE capped point scores 2014</th>\n",
       "      <th>% No qualifications 2011</th>\n",
       "      <th>% Level 4 and above qualifications 2011</th>\n",
       "      <th>Crime rate 2014_15</th>\n",
       "      <th>% area that is open space - 2014</th>\n",
       "      <th>Average Public Transport Accessibility score 2014</th>\n",
       "      <th>Turnout at Mayoral election 2012</th>\n",
       "    </tr>\n",
       "  </thead>\n",
       "  <tbody>\n",
       "    <tr>\n",
       "      <th>0</th>\n",
       "      <td>1</td>\n",
       "      <td>Bexley</td>\n",
       "      <td>Barnehurst</td>\n",
       "      <td>Bexley &amp; Bromley</td>\n",
       "      <td>2,758</td>\n",
       "      <td>6,886</td>\n",
       "      <td>Zac Goldsmith</td>\n",
       "      <td>588</td>\n",
       "      <td>18.668678</td>\n",
       "      <td>62.049783</td>\n",
       "      <td>...</td>\n",
       "      <td>11.020408</td>\n",
       "      <td>3.330971</td>\n",
       "      <td>38.013699</td>\n",
       "      <td>326.298246</td>\n",
       "      <td>23.1</td>\n",
       "      <td>20.1</td>\n",
       "      <td>46.461219</td>\n",
       "      <td>35.978052</td>\n",
       "      <td>3.135916</td>\n",
       "      <td>35.067040</td>\n",
       "    </tr>\n",
       "    <tr>\n",
       "      <th>1</th>\n",
       "      <td>2</td>\n",
       "      <td>Bexley</td>\n",
       "      <td>Belvedere</td>\n",
       "      <td>Bexley &amp; Bromley</td>\n",
       "      <td>2,675</td>\n",
       "      <td>7,506</td>\n",
       "      <td>Zac Goldsmith</td>\n",
       "      <td>957</td>\n",
       "      <td>23.174859</td>\n",
       "      <td>63.908139</td>\n",
       "      <td>...</td>\n",
       "      <td>21.571429</td>\n",
       "      <td>6.147795</td>\n",
       "      <td>42.576029</td>\n",
       "      <td>306.139264</td>\n",
       "      <td>23.7</td>\n",
       "      <td>21.9</td>\n",
       "      <td>61.963541</td>\n",
       "      <td>33.133207</td>\n",
       "      <td>2.752564</td>\n",
       "      <td>31.933791</td>\n",
       "    </tr>\n",
       "    <tr>\n",
       "      <th>2</th>\n",
       "      <td>3</td>\n",
       "      <td>Bexley</td>\n",
       "      <td>Blackfen And Lamorbey</td>\n",
       "      <td>Bexley &amp; Bromley</td>\n",
       "      <td>3,011</td>\n",
       "      <td>6,974</td>\n",
       "      <td>Zac Goldsmith</td>\n",
       "      <td>613</td>\n",
       "      <td>18.347339</td>\n",
       "      <td>62.595705</td>\n",
       "      <td>...</td>\n",
       "      <td>7.200000</td>\n",
       "      <td>1.996152</td>\n",
       "      <td>26.720648</td>\n",
       "      <td>332.838519</td>\n",
       "      <td>22.4</td>\n",
       "      <td>19.3</td>\n",
       "      <td>28.756957</td>\n",
       "      <td>9.484078</td>\n",
       "      <td>2.051587</td>\n",
       "      <td>35.887557</td>\n",
       "    </tr>\n",
       "    <tr>\n",
       "      <th>3</th>\n",
       "      <td>4</td>\n",
       "      <td>Bexley</td>\n",
       "      <td>Blendon And Penhill</td>\n",
       "      <td>Bexley &amp; Bromley</td>\n",
       "      <td>3,050</td>\n",
       "      <td>6,993</td>\n",
       "      <td>Zac Goldsmith</td>\n",
       "      <td>546</td>\n",
       "      <td>17.973648</td>\n",
       "      <td>62.571558</td>\n",
       "      <td>...</td>\n",
       "      <td>5.686275</td>\n",
       "      <td>2.199101</td>\n",
       "      <td>28.358209</td>\n",
       "      <td>340.145185</td>\n",
       "      <td>21.5</td>\n",
       "      <td>19.6</td>\n",
       "      <td>37.669377</td>\n",
       "      <td>13.770616</td>\n",
       "      <td>2.065738</td>\n",
       "      <td>38.663117</td>\n",
       "    </tr>\n",
       "    <tr>\n",
       "      <th>4</th>\n",
       "      <td>5</td>\n",
       "      <td>Bexley</td>\n",
       "      <td>Brampton</td>\n",
       "      <td>Bexley &amp; Bromley</td>\n",
       "      <td>3,311</td>\n",
       "      <td>6,902</td>\n",
       "      <td>Zac Goldsmith</td>\n",
       "      <td>707</td>\n",
       "      <td>16.559789</td>\n",
       "      <td>60.109393</td>\n",
       "      <td>...</td>\n",
       "      <td>5.555556</td>\n",
       "      <td>1.946647</td>\n",
       "      <td>34.090909</td>\n",
       "      <td>325.361682</td>\n",
       "      <td>22.9</td>\n",
       "      <td>20.7</td>\n",
       "      <td>26.340457</td>\n",
       "      <td>9.101077</td>\n",
       "      <td>2.665179</td>\n",
       "      <td>41.213064</td>\n",
       "    </tr>\n",
       "  </tbody>\n",
       "</table>\n",
       "<p>5 rows × 42 columns</p>\n",
       "</div>"
      ],
      "text/plain": [
       "   ID Borough                   Ward      Constituency Turnout  \\\n",
       "0   1  Bexley             Barnehurst  Bexley & Bromley   2,758   \n",
       "1   2  Bexley              Belvedere  Bexley & Bromley   2,675   \n",
       "2   3  Bexley  Blackfen And Lamorbey  Bexley & Bromley   3,011   \n",
       "3   4  Bexley    Blendon And Penhill  Bexley & Bromley   3,050   \n",
       "4   5  Bexley               Brampton  Bexley & Bromley   3,311   \n",
       "\n",
       "  Ward Level Electorate         Winner  Sadiq Aman Khan - Labour Party  \\\n",
       "0                 6,886  Zac Goldsmith                             588   \n",
       "1                 7,506  Zac Goldsmith                             957   \n",
       "2                 6,974  Zac Goldsmith                             613   \n",
       "3                 6,993  Zac Goldsmith                             546   \n",
       "4                 6,902  Zac Goldsmith                             707   \n",
       "\n",
       "   % Children aged 0-15  % Working-age 16-64  ...  \\\n",
       "0             18.668678            62.049783  ...   \n",
       "1             23.174859            63.908139  ...   \n",
       "2             18.347339            62.595705  ...   \n",
       "3             17.973648            62.571558  ...   \n",
       "4             16.559789            60.109393  ...   \n",
       "\n",
       "   % dependent children in out-of-work households 2014  \\\n",
       "0                                          11.020408     \n",
       "1                                          21.571429     \n",
       "2                                           7.200000     \n",
       "3                                           5.686275     \n",
       "4                                           5.555556     \n",
       "\n",
       "   % Households No adults Employment dependent children 2011  \\\n",
       "0                                           3.330971           \n",
       "1                                           6.147795           \n",
       "2                                           1.996152           \n",
       "3                                           2.199101           \n",
       "4                                           1.946647           \n",
       "\n",
       "   % Lone parents no employment 2011  Average GCSE capped point scores 2014  \\\n",
       "0                          38.013699                             326.298246   \n",
       "1                          42.576029                             306.139264   \n",
       "2                          26.720648                             332.838519   \n",
       "3                          28.358209                             340.145185   \n",
       "4                          34.090909                             325.361682   \n",
       "\n",
       "   % No qualifications 2011  % Level 4 and above qualifications 2011  \\\n",
       "0                      23.1                                     20.1   \n",
       "1                      23.7                                     21.9   \n",
       "2                      22.4                                     19.3   \n",
       "3                      21.5                                     19.6   \n",
       "4                      22.9                                     20.7   \n",
       "\n",
       "   Crime rate 2014_15  % area that is open space - 2014  \\\n",
       "0           46.461219                         35.978052   \n",
       "1           61.963541                         33.133207   \n",
       "2           28.756957                          9.484078   \n",
       "3           37.669377                         13.770616   \n",
       "4           26.340457                          9.101077   \n",
       "\n",
       "   Average Public Transport Accessibility score 2014  \\\n",
       "0                                           3.135916   \n",
       "1                                           2.752564   \n",
       "2                                           2.051587   \n",
       "3                                           2.065738   \n",
       "4                                           2.665179   \n",
       "\n",
       "   Turnout at Mayoral election 2012  \n",
       "0                         35.067040  \n",
       "1                         31.933791  \n",
       "2                         35.887557  \n",
       "3                         38.663117  \n",
       "4                         41.213064  \n",
       "\n",
       "[5 rows x 42 columns]"
      ]
     },
     "execution_count": 3,
     "metadata": {},
     "output_type": "execute_result"
    }
   ],
   "source": [
    "## setting directory \n",
    "os.chdir(\"C://@@ Default Folder Python Notebooks/Data\")\n",
    "\n",
    "## Importing the dataset \n",
    "Election = pd.read_csv('Election_London 2016 Cleaned dataset.csv', encoding='ANSI')\n",
    "Election.head()"
   ]
  },
  {
   "cell_type": "code",
   "execution_count": 4,
   "metadata": {},
   "outputs": [
    {
     "data": {
      "text/plain": [
       "Sadiq Aman Khan    379\n",
       "Zac Goldsmith      242\n",
       "Name: Winner, dtype: int64"
      ]
     },
     "execution_count": 4,
     "metadata": {},
     "output_type": "execute_result"
    }
   ],
   "source": [
    "Election['Winner'].value_counts()"
   ]
  },
  {
   "cell_type": "markdown",
   "metadata": {
    "button": false,
    "new_sheet": false,
    "run_control": {
     "read_only": false
    }
   },
   "source": [
    "The winner in 379 wards was Sadiq Aman Khan, the actual Mayor of London. Below it can be observed in which Boroughs of London he won all the wards and where he lost.  "
   ]
  },
  {
   "cell_type": "code",
   "execution_count": 5,
   "metadata": {
    "button": false,
    "new_sheet": false,
    "run_control": {
     "read_only": false
    }
   },
   "outputs": [
    {
     "data": {
      "text/html": [
       "<div>\n",
       "<style scoped>\n",
       "    .dataframe tbody tr th:only-of-type {\n",
       "        vertical-align: middle;\n",
       "    }\n",
       "\n",
       "    .dataframe tbody tr th {\n",
       "        vertical-align: top;\n",
       "    }\n",
       "\n",
       "    .dataframe thead th {\n",
       "        text-align: right;\n",
       "    }\n",
       "</style>\n",
       "<table border=\"1\" class=\"dataframe\">\n",
       "  <thead>\n",
       "    <tr style=\"text-align: right;\">\n",
       "      <th>Winner</th>\n",
       "      <th>Sadiq Aman Khan</th>\n",
       "      <th>Zac Goldsmith</th>\n",
       "    </tr>\n",
       "    <tr>\n",
       "      <th>Borough</th>\n",
       "      <th></th>\n",
       "      <th></th>\n",
       "    </tr>\n",
       "  </thead>\n",
       "  <tbody>\n",
       "    <tr>\n",
       "      <th>Barking &amp; Dagenham</th>\n",
       "      <td>100.00</td>\n",
       "      <td>0.00</td>\n",
       "    </tr>\n",
       "    <tr>\n",
       "      <th>Islington</th>\n",
       "      <td>100.00</td>\n",
       "      <td>0.00</td>\n",
       "    </tr>\n",
       "    <tr>\n",
       "      <th>Tower Hamlets</th>\n",
       "      <td>100.00</td>\n",
       "      <td>0.00</td>\n",
       "    </tr>\n",
       "    <tr>\n",
       "      <th>Southwark</th>\n",
       "      <td>100.00</td>\n",
       "      <td>0.00</td>\n",
       "    </tr>\n",
       "    <tr>\n",
       "      <th>Newham</th>\n",
       "      <td>100.00</td>\n",
       "      <td>0.00</td>\n",
       "    </tr>\n",
       "    <tr>\n",
       "      <th>Hackney</th>\n",
       "      <td>100.00</td>\n",
       "      <td>0.00</td>\n",
       "    </tr>\n",
       "    <tr>\n",
       "      <th>Lewisham</th>\n",
       "      <td>100.00</td>\n",
       "      <td>0.00</td>\n",
       "    </tr>\n",
       "    <tr>\n",
       "      <th>Haringey</th>\n",
       "      <td>100.00</td>\n",
       "      <td>0.00</td>\n",
       "    </tr>\n",
       "    <tr>\n",
       "      <th>Lambeth</th>\n",
       "      <td>100.00</td>\n",
       "      <td>0.00</td>\n",
       "    </tr>\n",
       "    <tr>\n",
       "      <th>Brent</th>\n",
       "      <td>95.24</td>\n",
       "      <td>4.76</td>\n",
       "    </tr>\n",
       "    <tr>\n",
       "      <th>Camden</th>\n",
       "      <td>88.89</td>\n",
       "      <td>11.11</td>\n",
       "    </tr>\n",
       "    <tr>\n",
       "      <th>Ealing</th>\n",
       "      <td>82.61</td>\n",
       "      <td>17.39</td>\n",
       "    </tr>\n",
       "    <tr>\n",
       "      <th>Greenwich</th>\n",
       "      <td>82.35</td>\n",
       "      <td>17.65</td>\n",
       "    </tr>\n",
       "    <tr>\n",
       "      <th>Waltham Forest</th>\n",
       "      <td>80.00</td>\n",
       "      <td>20.00</td>\n",
       "    </tr>\n",
       "    <tr>\n",
       "      <th>Hounslow</th>\n",
       "      <td>80.00</td>\n",
       "      <td>20.00</td>\n",
       "    </tr>\n",
       "    <tr>\n",
       "      <th>Redbridge</th>\n",
       "      <td>61.90</td>\n",
       "      <td>38.10</td>\n",
       "    </tr>\n",
       "    <tr>\n",
       "      <th>Enfield</th>\n",
       "      <td>61.90</td>\n",
       "      <td>38.10</td>\n",
       "    </tr>\n",
       "    <tr>\n",
       "      <th>All</th>\n",
       "      <td>61.03</td>\n",
       "      <td>38.97</td>\n",
       "    </tr>\n",
       "    <tr>\n",
       "      <th>Merton</th>\n",
       "      <td>55.00</td>\n",
       "      <td>45.00</td>\n",
       "    </tr>\n",
       "    <tr>\n",
       "      <th>Croydon</th>\n",
       "      <td>54.17</td>\n",
       "      <td>45.83</td>\n",
       "    </tr>\n",
       "    <tr>\n",
       "      <th>Hammersmith &amp; Fulham</th>\n",
       "      <td>50.00</td>\n",
       "      <td>50.00</td>\n",
       "    </tr>\n",
       "    <tr>\n",
       "      <th>Harrow</th>\n",
       "      <td>47.62</td>\n",
       "      <td>52.38</td>\n",
       "    </tr>\n",
       "    <tr>\n",
       "      <th>Wandsworth</th>\n",
       "      <td>45.00</td>\n",
       "      <td>55.00</td>\n",
       "    </tr>\n",
       "    <tr>\n",
       "      <th>Barnet</th>\n",
       "      <td>33.33</td>\n",
       "      <td>66.67</td>\n",
       "    </tr>\n",
       "    <tr>\n",
       "      <th>Westminster</th>\n",
       "      <td>30.00</td>\n",
       "      <td>70.00</td>\n",
       "    </tr>\n",
       "    <tr>\n",
       "      <th>Kensington &amp; Chelsea</th>\n",
       "      <td>27.78</td>\n",
       "      <td>72.22</td>\n",
       "    </tr>\n",
       "    <tr>\n",
       "      <th>Hillingdon</th>\n",
       "      <td>27.27</td>\n",
       "      <td>72.73</td>\n",
       "    </tr>\n",
       "    <tr>\n",
       "      <th>Kingston upon Thames</th>\n",
       "      <td>18.75</td>\n",
       "      <td>81.25</td>\n",
       "    </tr>\n",
       "    <tr>\n",
       "      <th>Sutton</th>\n",
       "      <td>16.67</td>\n",
       "      <td>83.33</td>\n",
       "    </tr>\n",
       "    <tr>\n",
       "      <th>Bexley</th>\n",
       "      <td>14.29</td>\n",
       "      <td>85.71</td>\n",
       "    </tr>\n",
       "    <tr>\n",
       "      <th>Bromley</th>\n",
       "      <td>13.64</td>\n",
       "      <td>86.36</td>\n",
       "    </tr>\n",
       "    <tr>\n",
       "      <th>Havering</th>\n",
       "      <td>0.00</td>\n",
       "      <td>100.00</td>\n",
       "    </tr>\n",
       "    <tr>\n",
       "      <th>Richmond upon Thames</th>\n",
       "      <td>0.00</td>\n",
       "      <td>100.00</td>\n",
       "    </tr>\n",
       "  </tbody>\n",
       "</table>\n",
       "</div>"
      ],
      "text/plain": [
       "Winner                Sadiq Aman Khan  Zac Goldsmith\n",
       "Borough                                             \n",
       "Barking & Dagenham             100.00           0.00\n",
       "Islington                      100.00           0.00\n",
       "Tower Hamlets                  100.00           0.00\n",
       "Southwark                      100.00           0.00\n",
       "Newham                         100.00           0.00\n",
       "Hackney                        100.00           0.00\n",
       "Lewisham                       100.00           0.00\n",
       "Haringey                       100.00           0.00\n",
       "Lambeth                        100.00           0.00\n",
       "Brent                           95.24           4.76\n",
       "Camden                          88.89          11.11\n",
       "Ealing                          82.61          17.39\n",
       "Greenwich                       82.35          17.65\n",
       "Waltham Forest                  80.00          20.00\n",
       "Hounslow                        80.00          20.00\n",
       "Redbridge                       61.90          38.10\n",
       "Enfield                         61.90          38.10\n",
       "All                             61.03          38.97\n",
       "Merton                          55.00          45.00\n",
       "Croydon                         54.17          45.83\n",
       "Hammersmith & Fulham            50.00          50.00\n",
       "Harrow                          47.62          52.38\n",
       "Wandsworth                      45.00          55.00\n",
       "Barnet                          33.33          66.67\n",
       "Westminster                     30.00          70.00\n",
       "Kensington & Chelsea            27.78          72.22\n",
       "Hillingdon                      27.27          72.73\n",
       "Kingston upon Thames            18.75          81.25\n",
       "Sutton                          16.67          83.33\n",
       "Bexley                          14.29          85.71\n",
       "Bromley                         13.64          86.36\n",
       "Havering                         0.00         100.00\n",
       "Richmond upon Thames             0.00         100.00"
      ]
     },
     "execution_count": 5,
     "metadata": {},
     "output_type": "execute_result"
    }
   ],
   "source": [
    "Vote_Borough_prop = pd.crosstab(Election['Borough'], Election['Winner'], \n",
    "                           margins=True, normalize='index').sort_values('Sadiq Aman Khan', \n",
    "                           ascending=False).round(4)*100\n",
    "Vote_Borough_prop"
   ]
  },
  {
   "cell_type": "code",
   "execution_count": 6,
   "metadata": {},
   "outputs": [],
   "source": [
    "Election.dropna(inplace=True)"
   ]
  },
  {
   "cell_type": "code",
   "execution_count": 7,
   "metadata": {},
   "outputs": [
    {
     "data": {
      "text/plain": [
       "Index(['ID', 'Borough', 'Ward', 'Constituency', 'Turnout',\n",
       "       'Ward Level Electorate', 'Winner', 'Sadiq Aman Khan - Labour Party',\n",
       "       '% Children aged 0-15', '% Working-age 16-64',\n",
       "       '% Older people aged 65+', 'Median Age 2013', 'Population density 2013',\n",
       "       '% BAME 2011', '% Not Born in UK 2011', 'General Fertility Rate 2013',\n",
       "       'Male life expectancy 2009_13', 'Female life expectancy 2009-13 ',\n",
       "       '% children in reception obese 2011_14',\n",
       "       '% children year 6 obese- 2011_14',\n",
       "       'Rate Ambulance Incidents per 1,000 population - 2014',\n",
       "       'In employment (16-64) 2011', 'Number of jobs in area - 2013',\n",
       "       'Rate new migrant workers - 2011/12', 'No properties sold 2014',\n",
       "       'Median Household income 2012/13', '% semi-detached houses 2011',\n",
       "       '% Households Private Rented 2011', '% dwellings CT bands A or B 2015',\n",
       "       '% dwellings CT bands F, G or H - 2015',\n",
       "       'Rate Claimant Housing Benefit 2015', 'Rate JobSeekers Allowance 2015',\n",
       "       '% dependent children in out-of-work households 2014',\n",
       "       '% Households No adults Employment dependent children 2011',\n",
       "       '% Lone parents no employment 2011',\n",
       "       'Average GCSE capped point scores 2014', '% No qualifications 2011',\n",
       "       '% Level 4 and above qualifications 2011', 'Crime rate 2014_15',\n",
       "       '% area that is open space - 2014',\n",
       "       'Average Public Transport Accessibility score 2014',\n",
       "       'Turnout at Mayoral election 2012'],\n",
       "      dtype='object')"
      ]
     },
     "execution_count": 7,
     "metadata": {},
     "output_type": "execute_result"
    }
   ],
   "source": [
    "Election.columns"
   ]
  },
  {
   "cell_type": "markdown",
   "metadata": {},
   "source": [
    "Some useless variables were excluded and the cases which contain NA were excluded. The final dataset contains 600 wards and 75 variables.  "
   ]
  },
  {
   "cell_type": "code",
   "execution_count": 8,
   "metadata": {},
   "outputs": [],
   "source": [
    " Features = Election[['% Working-age 16-64',\n",
    "       '% Older people aged 65+', 'Median Age 2013', \n",
    "       'Population density 2013',\n",
    "       '% BAME 2011', '% Not Born in UK 2011', \n",
    "       'Median Household income 2012/13', \n",
    "       '% dwellings CT bands F, G or H - 2015',\n",
    "       'Rate Claimant Housing Benefit 2015', 'Rate JobSeekers Allowance 2015',\n",
    "       '% dependent children in out-of-work households 2014',\n",
    "       '% No qualifications 2011',\n",
    "       '% Level 4 and above qualifications 2011', \n",
    "        'Crime rate 2014_15',\n",
    "       'Average Public Transport Accessibility score 2014']] \n"
   ]
  },
  {
   "cell_type": "code",
   "execution_count": 9,
   "metadata": {
    "button": false,
    "new_sheet": false,
    "run_control": {
     "read_only": false
    }
   },
   "outputs": [
    {
     "data": {
      "text/plain": [
       "(600, 15)"
      ]
     },
     "execution_count": 9,
     "metadata": {},
     "output_type": "execute_result"
    }
   ],
   "source": [
    "Features.shape"
   ]
  },
  {
   "cell_type": "markdown",
   "metadata": {},
   "source": [
    "However, only 39 variables (**listed above**) were kept for analysis. Most of then have integers or float format."
   ]
  },
  {
   "cell_type": "code",
   "execution_count": 10,
   "metadata": {},
   "outputs": [
    {
     "data": {
      "text/plain": [
       "% Working-age 16-64                                    float64\n",
       "% Older people aged 65+                                float64\n",
       "Median Age 2013                                          int64\n",
       "Population density 2013                                float64\n",
       "% BAME 2011                                            float64\n",
       "% Not Born in UK 2011                                  float64\n",
       "Median Household income 2012/13                          int64\n",
       "% dwellings CT bands F, G or H - 2015                  float64\n",
       "Rate Claimant Housing Benefit 2015                     float64\n",
       "Rate JobSeekers Allowance 2015                         float64\n",
       "% dependent children in out-of-work households 2014    float64\n",
       "% No qualifications 2011                               float64\n",
       "% Level 4 and above qualifications 2011                float64\n",
       "Crime rate 2014_15                                     float64\n",
       "Average Public Transport Accessibility score 2014      float64\n",
       "dtype: object"
      ]
     },
     "execution_count": 10,
     "metadata": {},
     "output_type": "execute_result"
    }
   ],
   "source": [
    "Features.dtypes"
   ]
  },
  {
   "cell_type": "markdown",
   "metadata": {
    "button": false,
    "new_sheet": false,
    "run_control": {
     "read_only": false
    }
   },
   "source": [
    "### Feature selection"
   ]
  },
  {
   "cell_type": "markdown",
   "metadata": {
    "button": false,
    "new_sheet": false,
    "run_control": {
     "read_only": false
    }
   },
   "source": [
    "Lets defind feature sets, X:"
   ]
  },
  {
   "cell_type": "code",
   "execution_count": 11,
   "metadata": {
    "button": false,
    "new_sheet": false,
    "run_control": {
     "read_only": false
    }
   },
   "outputs": [
    {
     "data": {
      "text/html": [
       "<div>\n",
       "<style scoped>\n",
       "    .dataframe tbody tr th:only-of-type {\n",
       "        vertical-align: middle;\n",
       "    }\n",
       "\n",
       "    .dataframe tbody tr th {\n",
       "        vertical-align: top;\n",
       "    }\n",
       "\n",
       "    .dataframe thead th {\n",
       "        text-align: right;\n",
       "    }\n",
       "</style>\n",
       "<table border=\"1\" class=\"dataframe\">\n",
       "  <thead>\n",
       "    <tr style=\"text-align: right;\">\n",
       "      <th></th>\n",
       "      <th>% Working-age 16-64</th>\n",
       "      <th>% Older people aged 65+</th>\n",
       "      <th>Median Age 2013</th>\n",
       "      <th>Population density 2013</th>\n",
       "      <th>% BAME 2011</th>\n",
       "      <th>% Not Born in UK 2011</th>\n",
       "      <th>Median Household income 2012/13</th>\n",
       "      <th>% dwellings CT bands F, G or H - 2015</th>\n",
       "      <th>Rate Claimant Housing Benefit 2015</th>\n",
       "      <th>Rate JobSeekers Allowance 2015</th>\n",
       "      <th>% dependent children in out-of-work households 2014</th>\n",
       "      <th>% No qualifications 2011</th>\n",
       "      <th>% Level 4 and above qualifications 2011</th>\n",
       "      <th>Crime rate 2014_15</th>\n",
       "      <th>Average Public Transport Accessibility score 2014</th>\n",
       "    </tr>\n",
       "  </thead>\n",
       "  <tbody>\n",
       "    <tr>\n",
       "      <th>0</th>\n",
       "      <td>62.049783</td>\n",
       "      <td>19.281539</td>\n",
       "      <td>41</td>\n",
       "      <td>3672.4</td>\n",
       "      <td>9.8</td>\n",
       "      <td>8.0</td>\n",
       "      <td>38200</td>\n",
       "      <td>4.494382</td>\n",
       "      <td>5.843453</td>\n",
       "      <td>1.448995</td>\n",
       "      <td>11.020408</td>\n",
       "      <td>23.1</td>\n",
       "      <td>20.1</td>\n",
       "      <td>46.461219</td>\n",
       "      <td>3.135916</td>\n",
       "    </tr>\n",
       "    <tr>\n",
       "      <th>1</th>\n",
       "      <td>63.908139</td>\n",
       "      <td>12.917002</td>\n",
       "      <td>35</td>\n",
       "      <td>3828.1</td>\n",
       "      <td>28.4</td>\n",
       "      <td>20.4</td>\n",
       "      <td>33510</td>\n",
       "      <td>1.351351</td>\n",
       "      <td>12.000000</td>\n",
       "      <td>2.425614</td>\n",
       "      <td>21.571429</td>\n",
       "      <td>23.7</td>\n",
       "      <td>21.9</td>\n",
       "      <td>61.963541</td>\n",
       "      <td>2.752564</td>\n",
       "    </tr>\n",
       "    <tr>\n",
       "      <th>2</th>\n",
       "      <td>62.595705</td>\n",
       "      <td>19.056956</td>\n",
       "      <td>42</td>\n",
       "      <td>6352.9</td>\n",
       "      <td>7.3</td>\n",
       "      <td>7.1</td>\n",
       "      <td>40780</td>\n",
       "      <td>5.854801</td>\n",
       "      <td>2.941527</td>\n",
       "      <td>1.125070</td>\n",
       "      <td>7.200000</td>\n",
       "      <td>22.4</td>\n",
       "      <td>19.3</td>\n",
       "      <td>28.756957</td>\n",
       "      <td>2.051587</td>\n",
       "    </tr>\n",
       "    <tr>\n",
       "      <th>3</th>\n",
       "      <td>62.571558</td>\n",
       "      <td>19.454793</td>\n",
       "      <td>41</td>\n",
       "      <td>5285.7</td>\n",
       "      <td>9.5</td>\n",
       "      <td>7.8</td>\n",
       "      <td>40340</td>\n",
       "      <td>13.501144</td>\n",
       "      <td>2.982988</td>\n",
       "      <td>0.825537</td>\n",
       "      <td>5.686275</td>\n",
       "      <td>21.5</td>\n",
       "      <td>19.6</td>\n",
       "      <td>37.669377</td>\n",
       "      <td>2.065738</td>\n",
       "    </tr>\n",
       "    <tr>\n",
       "      <th>4</th>\n",
       "      <td>60.109393</td>\n",
       "      <td>23.330819</td>\n",
       "      <td>45</td>\n",
       "      <td>5350.0</td>\n",
       "      <td>13.1</td>\n",
       "      <td>10.4</td>\n",
       "      <td>40790</td>\n",
       "      <td>6.888361</td>\n",
       "      <td>2.855137</td>\n",
       "      <td>0.903070</td>\n",
       "      <td>5.555556</td>\n",
       "      <td>22.9</td>\n",
       "      <td>20.7</td>\n",
       "      <td>26.340457</td>\n",
       "      <td>2.665179</td>\n",
       "    </tr>\n",
       "  </tbody>\n",
       "</table>\n",
       "</div>"
      ],
      "text/plain": [
       "   % Working-age 16-64  % Older people aged 65+  Median Age 2013  \\\n",
       "0            62.049783                19.281539               41   \n",
       "1            63.908139                12.917002               35   \n",
       "2            62.595705                19.056956               42   \n",
       "3            62.571558                19.454793               41   \n",
       "4            60.109393                23.330819               45   \n",
       "\n",
       "   Population density 2013  % BAME 2011  % Not Born in UK 2011  \\\n",
       "0                   3672.4          9.8                    8.0   \n",
       "1                   3828.1         28.4                   20.4   \n",
       "2                   6352.9          7.3                    7.1   \n",
       "3                   5285.7          9.5                    7.8   \n",
       "4                   5350.0         13.1                   10.4   \n",
       "\n",
       "   Median Household income 2012/13  % dwellings CT bands F, G or H - 2015  \\\n",
       "0                            38200                               4.494382   \n",
       "1                            33510                               1.351351   \n",
       "2                            40780                               5.854801   \n",
       "3                            40340                              13.501144   \n",
       "4                            40790                               6.888361   \n",
       "\n",
       "   Rate Claimant Housing Benefit 2015  Rate JobSeekers Allowance 2015  \\\n",
       "0                            5.843453                        1.448995   \n",
       "1                           12.000000                        2.425614   \n",
       "2                            2.941527                        1.125070   \n",
       "3                            2.982988                        0.825537   \n",
       "4                            2.855137                        0.903070   \n",
       "\n",
       "   % dependent children in out-of-work households 2014  \\\n",
       "0                                          11.020408     \n",
       "1                                          21.571429     \n",
       "2                                           7.200000     \n",
       "3                                           5.686275     \n",
       "4                                           5.555556     \n",
       "\n",
       "   % No qualifications 2011  % Level 4 and above qualifications 2011  \\\n",
       "0                      23.1                                     20.1   \n",
       "1                      23.7                                     21.9   \n",
       "2                      22.4                                     19.3   \n",
       "3                      21.5                                     19.6   \n",
       "4                      22.9                                     20.7   \n",
       "\n",
       "   Crime rate 2014_15  Average Public Transport Accessibility score 2014  \n",
       "0           46.461219                                           3.135916  \n",
       "1           61.963541                                           2.752564  \n",
       "2           28.756957                                           2.051587  \n",
       "3           37.669377                                           2.065738  \n",
       "4           26.340457                                           2.665179  "
      ]
     },
     "execution_count": 11,
     "metadata": {},
     "output_type": "execute_result"
    }
   ],
   "source": [
    "X = Features\n",
    "X[0:5]"
   ]
  },
  {
   "cell_type": "code",
   "execution_count": 12,
   "metadata": {
    "button": false,
    "new_sheet": false,
    "run_control": {
     "read_only": false
    }
   },
   "outputs": [
    {
     "data": {
      "text/plain": [
       "array(['Zac Goldsmith', 'Zac Goldsmith', 'Zac Goldsmith', 'Zac Goldsmith',\n",
       "       'Zac Goldsmith'], dtype=object)"
      ]
     },
     "execution_count": 12,
     "metadata": {},
     "output_type": "execute_result"
    }
   ],
   "source": [
    "y = Election['Winner'].values\n",
    "y [0:5]"
   ]
  },
  {
   "cell_type": "markdown",
   "metadata": {
    "button": false,
    "new_sheet": false,
    "run_control": {
     "read_only": false
    }
   },
   "source": [
    "## Normalize Data \n",
    "\n",
    "Data Standardization give data zero mean and unit variance (technically should be done after train test split )"
   ]
  },
  {
   "cell_type": "code",
   "execution_count": 13,
   "metadata": {
    "button": false,
    "new_sheet": false,
    "run_control": {
     "read_only": false
    }
   },
   "outputs": [
    {
     "data": {
      "text/plain": [
       "array([[-1.22907358,  1.76105635,  1.65937172, -0.92516434, -1.5365264 ,\n",
       "        -2.01581355, -0.07642246, -0.61420056, -1.09072393, -0.88124148,\n",
       "        -0.66398467,  0.8963358 , -1.35505669, -0.60514416, -0.4170586 ],\n",
       "       [-0.86328008,  0.2726697 ,  0.1428096 , -0.89304708, -0.56058207,\n",
       "        -1.10971499, -0.79693974, -0.81948879,  0.01326089, -0.11122896,\n",
       "         0.78144715,  0.99946497, -1.21100531, -0.31771915, -0.70198893],\n",
       "       [-1.12161585,  1.70853629,  1.91213207, -0.37224003, -1.66770172,\n",
       "        -2.08157877,  0.31993886, -0.52534429, -1.611094  , -1.13663924,\n",
       "        -1.1873596 ,  0.77601842, -1.41907953, -0.93339484, -1.22299769],\n",
       "       [-1.1263688 ,  1.801573  ,  1.65937172, -0.59237837, -1.55226744,\n",
       "        -2.03042805,  0.25234236, -0.02592051, -1.60365928, -1.37280573,\n",
       "        -1.39473167,  0.62132465, -1.39507097, -0.7681517 , -1.21248014],\n",
       "       [-1.61101462,  2.70800577,  2.67041313, -0.57911479, -1.36337499,\n",
       "        -1.84043964,  0.32147515, -0.45783692, -1.62658533, -1.3116744 ,\n",
       "        -1.41263945,  0.8619594 , -1.30703956, -0.97819861, -0.76693896]])"
      ]
     },
     "execution_count": 13,
     "metadata": {},
     "output_type": "execute_result"
    }
   ],
   "source": [
    "X = preprocessing.StandardScaler().fit(X).transform(X)\n",
    "X[0:5]"
   ]
  },
  {
   "cell_type": "markdown",
   "metadata": {},
   "source": [
    "The features were names as **X** and target as **y**. The Train and Test datasets were created as a 80% and 20% of dataset. "
   ]
  },
  {
   "cell_type": "markdown",
   "metadata": {},
   "source": [
    "# Train/Test dataset\n",
    "\n",
    "Okay, we split our dataset into train and test set:\n"
   ]
  },
  {
   "cell_type": "code",
   "execution_count": 15,
   "metadata": {},
   "outputs": [
    {
     "name": "stdout",
     "output_type": "stream",
     "text": [
      "Train set: (480, 15) (480,)\n",
      "Test set: (120, 15) (120,)\n"
     ]
    }
   ],
   "source": [
    "from sklearn.model_selection import train_test_split\n",
    "\n",
    "X_train, X_test, y_train, y_test = train_test_split(X, y, test_size = 0.2, random_state = 0)\n",
    "\n",
    "print ('Train set:', X_train.shape,  y_train.shape)\n",
    "print ('Test set:', X_test.shape,  y_test.shape)"
   ]
  },
  {
   "cell_type": "markdown",
   "metadata": {},
   "source": [
    "# Logistic Regression"
   ]
  },
  {
   "cell_type": "markdown",
   "metadata": {},
   "source": [
    "The first classification methods applied is Logistic Regression. With an F1 score of 0.925 and Jaccard index for accuracy of 0.925 and Log Loss of 0.258 the model Logistic regression is a good option to correctly classify which candidate will be selected on each wards based on the selected demographic variables.\n"
   ]
  },
  {
   "cell_type": "code",
   "execution_count": 16,
   "metadata": {},
   "outputs": [
    {
     "data": {
      "text/plain": [
       "LogisticRegression(C=0.01, class_weight=None, dual=False, fit_intercept=True,\n",
       "                   intercept_scaling=1, l1_ratio=None, max_iter=100,\n",
       "                   multi_class='warn', n_jobs=None, penalty='l1',\n",
       "                   random_state=None, solver='liblinear', tol=0.0001, verbose=0,\n",
       "                   warm_start=False)"
      ]
     },
     "execution_count": 16,
     "metadata": {},
     "output_type": "execute_result"
    }
   ],
   "source": [
    "from sklearn.linear_model import LogisticRegression\n",
    "from sklearn.metrics import confusion_matrix\n",
    "from sklearn.metrics import accuracy_score\n",
    "from sklearn.metrics import f1_score\n",
    "from sklearn.metrics import jaccard_similarity_score\n",
    "\n",
    "\n",
    "## Initialize Logistic Regression instance\n",
    "LR = LogisticRegression()\n",
    "\n",
    "## Fit the model on the training data ### model is trained\n",
    "\n",
    "LR = LogisticRegression(penalty='l1', C=0.01, solver='liblinear').fit(X_train, y_train)\n",
    "LR"
   ]
  },
  {
   "cell_type": "code",
   "execution_count": 17,
   "metadata": {},
   "outputs": [],
   "source": [
    "## Predicting outcome for training and test dataset \n",
    "\n",
    "pred_train_Y = LR.predict(X_train)\n",
    "\n",
    "pred_test_Y = LR.predict(X_test)\n",
    "\n",
    "pred_test_Y_prob = LR.predict_proba(X_test)"
   ]
  },
  {
   "cell_type": "code",
   "execution_count": 23,
   "metadata": {},
   "outputs": [],
   "source": [
    "LR_train_acc = round(accuracy_score(y_train, pred_train_Y),4)\n",
    "LR_test_acc = round(accuracy_score(y_test, pred_test_Y), 4)"
   ]
  },
  {
   "cell_type": "code",
   "execution_count": 24,
   "metadata": {},
   "outputs": [],
   "source": [
    "### f1_score from sklearn library\n",
    "\n",
    "from sklearn.metrics import f1_score\n",
    "F1_LR = round (f1_score(y_test, pred_test_Y, average='weighted'), 4) "
   ]
  },
  {
   "cell_type": "code",
   "execution_count": 25,
   "metadata": {},
   "outputs": [
    {
     "name": "stderr",
     "output_type": "stream",
     "text": [
      "C:\\Users\\nastu\\Anaconda3\\lib\\site-packages\\sklearn\\metrics\\classification.py:635: DeprecationWarning: jaccard_similarity_score has been deprecated and replaced with jaccard_score. It will be removed in version 0.23. This implementation has surprising behavior for binary and multiclass classification tasks.\n",
      "  'and multiclass classification tasks.', DeprecationWarning)\n"
     ]
    }
   ],
   "source": [
    " ### Jaccard index for accuracy:\n",
    "from sklearn.metrics import jaccard_similarity_score\n",
    "Jaccard_LR = round (jaccard_similarity_score(y_test, pred_test_Y), 4)"
   ]
  },
  {
   "cell_type": "code",
   "execution_count": 26,
   "metadata": {},
   "outputs": [
    {
     "data": {
      "text/plain": [
       "0.5095592953551875"
      ]
     },
     "execution_count": 26,
     "metadata": {},
     "output_type": "execute_result"
    }
   ],
   "source": [
    "from sklearn.metrics import log_loss\n",
    "log_loss(y_test, pred_test_Y_prob)"
   ]
  },
  {
   "cell_type": "code",
   "execution_count": 27,
   "metadata": {},
   "outputs": [
    {
     "name": "stdout",
     "output_type": "stream",
     "text": [
      "                 precision    recall  f1-score   support\n",
      "\n",
      "Sadiq Aman Khan       0.93      0.82      0.87        65\n",
      "  Zac Goldsmith       0.81      0.93      0.86        55\n",
      "\n",
      "       accuracy                           0.87       120\n",
      "      macro avg       0.87      0.87      0.87       120\n",
      "   weighted avg       0.87      0.87      0.87       120\n",
      "\n"
     ]
    }
   ],
   "source": [
    "from sklearn.metrics import classification_report, confusion_matrix\n",
    "confusion_matrix = confusion_matrix(y_test,pred_test_Y)  \n",
    "confusion_matrix\n",
    "\n",
    "print(classification_report(y_test,pred_test_Y))"
   ]
  },
  {
   "cell_type": "code",
   "execution_count": 28,
   "metadata": {},
   "outputs": [
    {
     "name": "stdout",
     "output_type": "stream",
     "text": [
      "[[53 12]\n",
      " [ 4 51]]\n"
     ]
    }
   ],
   "source": [
    "print (confusion_matrix)"
   ]
  },
  {
   "cell_type": "markdown",
   "metadata": {},
   "source": [
    "\n",
    " True positive is 53.\n",
    "    \n",
    " True negative is 51.\n",
    "\n",
    " False positive is 12.\n",
    "    \n",
    " False negative is 4.\n"
   ]
  },
  {
   "cell_type": "markdown",
   "metadata": {},
   "source": [
    "# K Nearest Neighbor(KNN)"
   ]
  },
  {
   "cell_type": "markdown",
   "metadata": {
    "button": false,
    "new_sheet": false,
    "run_control": {
     "read_only": false
    }
   },
   "source": [
    "The second classification method applied will be KNN clustering with 2, 4, 6 clusters. Based on the accuracy for the training and test datasets the 4 clusters solution is preferable. "
   ]
  },
  {
   "cell_type": "code",
   "execution_count": 32,
   "metadata": {},
   "outputs": [],
   "source": [
    "from sklearn.neighbors import KNeighborsClassifier\n"
   ]
  },
  {
   "cell_type": "code",
   "execution_count": 38,
   "metadata": {},
   "outputs": [
    {
     "name": "stdout",
     "output_type": "stream",
     "text": [
      "Train set Accuracy KNN3:  0.9479166666666666\n",
      "Test set Accuracy KNN3:  0.9083333333333333\n"
     ]
    }
   ],
   "source": [
    "#Train Model and Predict \n",
    "\n",
    "k = 3\n",
    "neigh3 = KNeighborsClassifier(n_neighbors = k).fit(X_train,y_train)\n",
    "neigh3\n",
    "yhat3 = neigh3.predict(X_test)  \n",
    "yhat3[0:5]\n",
    "\n",
    "# Accuracy evaluation\n",
    "\n",
    "print (\"Train set Accuracy KNN3: \", metrics.accuracy_score(y_train, neigh3.predict(X_train)))\n",
    "print(\"Test set Accuracy KNN3: \", metrics.accuracy_score(y_test, yhat3))"
   ]
  },
  {
   "cell_type": "code",
   "execution_count": 39,
   "metadata": {},
   "outputs": [
    {
     "name": "stdout",
     "output_type": "stream",
     "text": [
      "Train set Accuracy KNN4:  0.9333333333333333\n",
      "Test set Accuracy KNN4:  0.9\n"
     ]
    }
   ],
   "source": [
    "k = 4\n",
    "neigh4 = KNeighborsClassifier(n_neighbors = k).fit(X_train,y_train)\n",
    "neigh4\n",
    "yhat4 = neigh4.predict(X_test)  \n",
    "yhat4[0:5]\n",
    "\n",
    "# Accuracy evaluation\n",
    "\n",
    "print(\"Train set Accuracy KNN4: \", metrics.accuracy_score(y_train, neigh4.predict(X_train)))\n",
    "print(\"Test set Accuracy KNN4: \", metrics.accuracy_score(y_test, yhat4))"
   ]
  },
  {
   "cell_type": "code",
   "execution_count": 40,
   "metadata": {},
   "outputs": [
    {
     "name": "stdout",
     "output_type": "stream",
     "text": [
      "Train set Accuracy KNN6:  0.925\n",
      "Test set Accuracy KNN6:  0.9\n"
     ]
    }
   ],
   "source": [
    "k = 6\n",
    "neigh6 = KNeighborsClassifier(n_neighbors = k).fit(X_train,y_train)\n",
    "neigh6\n",
    "yhat6 = neigh6.predict(X_test)  \n",
    "yhat6[0:5]\n",
    "\n",
    "# Accuracy evaluation\n",
    "\n",
    "print(\"Train set Accuracy KNN6: \", metrics.accuracy_score(y_train, neigh6.predict(X_train)))\n",
    "print(\"Test set Accuracy KNN6: \", metrics.accuracy_score(y_test, yhat6))"
   ]
  },
  {
   "cell_type": "code",
   "execution_count": 41,
   "metadata": {},
   "outputs": [
    {
     "name": "stderr",
     "output_type": "stream",
     "text": [
      "C:\\Users\\nastu\\Anaconda3\\lib\\site-packages\\sklearn\\metrics\\classification.py:635: DeprecationWarning: jaccard_similarity_score has been deprecated and replaced with jaccard_score. It will be removed in version 0.23. This implementation has surprising behavior for binary and multiclass classification tasks.\n",
      "  'and multiclass classification tasks.', DeprecationWarning)\n"
     ]
    }
   ],
   "source": [
    "### I choose KNN 3 as the Accuracy for both Train and Test data are the highest. \n",
    "### f1_score from sklearn library\n",
    "\n",
    "KNN3_F1 = round (f1_score(y_test, yhat3, average='weighted'),4) \n",
    "\n",
    "KNN3_jaccard = round (jaccard_similarity_score(y_test, yhat3), 4)\n",
    "\n",
    "KNN3_train_acc = round (metrics.accuracy_score(y_train, neigh3.predict(X_train)), 4)\n",
    "\n",
    "KNN3_test_acc = round (metrics.accuracy_score(y_test, yhat3), 4)"
   ]
  },
  {
   "cell_type": "markdown",
   "metadata": {},
   "source": [
    "# Decision Tree"
   ]
  },
  {
   "cell_type": "markdown",
   "metadata": {
    "button": false,
    "new_sheet": false,
    "run_control": {
     "read_only": false
    }
   },
   "source": [
    "The third classification method applied will be the **Decision Tree**, at depth level 10.  \n"
   ]
  },
  {
   "cell_type": "code",
   "execution_count": 43,
   "metadata": {},
   "outputs": [
    {
     "data": {
      "text/plain": [
       "DecisionTreeClassifier(class_weight=None, criterion='entropy', max_depth=10,\n",
       "                       max_features=None, max_leaf_nodes=None,\n",
       "                       min_impurity_decrease=0.0, min_impurity_split=None,\n",
       "                       min_samples_leaf=1, min_samples_split=2,\n",
       "                       min_weight_fraction_leaf=0.0, presort=False,\n",
       "                       random_state=None, splitter='best')"
      ]
     },
     "execution_count": 43,
     "metadata": {},
     "output_type": "execute_result"
    }
   ],
   "source": [
    "## I tried different maximum detphs and 10 is the best one\n",
    "\n",
    "Vote_Tree = DecisionTreeClassifier(criterion=\"entropy\", max_depth = 10)\n",
    "\n",
    "Vote_Tree.fit(X_train,y_train)"
   ]
  },
  {
   "cell_type": "code",
   "execution_count": 44,
   "metadata": {},
   "outputs": [],
   "source": [
    "predTreeTrain = Vote_Tree.predict(X_train) "
   ]
  },
  {
   "cell_type": "code",
   "execution_count": 45,
   "metadata": {},
   "outputs": [],
   "source": [
    "predTree = Vote_Tree.predict(X_test) "
   ]
  },
  {
   "cell_type": "code",
   "execution_count": 46,
   "metadata": {},
   "outputs": [
    {
     "name": "stderr",
     "output_type": "stream",
     "text": [
      "C:\\Users\\nastu\\Anaconda3\\lib\\site-packages\\sklearn\\metrics\\classification.py:635: DeprecationWarning: jaccard_similarity_score has been deprecated and replaced with jaccard_score. It will be removed in version 0.23. This implementation has surprising behavior for binary and multiclass classification tasks.\n",
      "  'and multiclass classification tasks.', DeprecationWarning)\n"
     ]
    }
   ],
   "source": [
    "DT_train_acc = round ( metrics.accuracy_score(y_train, predTreeTrain), 4) \n",
    "DT_test_acc = round ( metrics.accuracy_score(y_test, predTree), 4) \n",
    "DT_jaccard = round (jaccard_similarity_score(y_test, predTree), 4) \n",
    "DT_F1 = round (f1_score(y_test, predTree, average='weighted'), 4) "
   ]
  },
  {
   "cell_type": "markdown",
   "metadata": {},
   "source": [
    "# Support Vector Machine"
   ]
  },
  {
   "cell_type": "markdown",
   "metadata": {},
   "source": [
    "Finally, the SVM is applied to classify the Winner of Mayoral election in London. "
   ]
  },
  {
   "cell_type": "code",
   "execution_count": 48,
   "metadata": {},
   "outputs": [
    {
     "name": "stderr",
     "output_type": "stream",
     "text": [
      "C:\\Users\\nastu\\Anaconda3\\lib\\site-packages\\sklearn\\svm\\base.py:193: FutureWarning: The default value of gamma will change from 'auto' to 'scale' in version 0.22 to account better for unscaled features. Set gamma explicitly to 'auto' or 'scale' to avoid this warning.\n",
      "  \"avoid this warning.\", FutureWarning)\n"
     ]
    },
    {
     "data": {
      "text/plain": [
       "SVC(C=1.0, cache_size=200, class_weight=None, coef0=0.0,\n",
       "    decision_function_shape='ovr', degree=3, gamma='auto_deprecated',\n",
       "    kernel='rbf', max_iter=-1, probability=False, random_state=None,\n",
       "    shrinking=True, tol=0.001, verbose=False)"
      ]
     },
     "execution_count": 48,
     "metadata": {},
     "output_type": "execute_result"
    }
   ],
   "source": [
    "from sklearn import svm\n",
    "\n",
    "clf1 = svm.SVC(kernel='rbf')\n",
    "clf1.fit(X_train, y_train) "
   ]
  },
  {
   "cell_type": "code",
   "execution_count": 49,
   "metadata": {},
   "outputs": [],
   "source": [
    "yhatSVM = clf1.predict(X_test)"
   ]
  },
  {
   "cell_type": "code",
   "execution_count": 50,
   "metadata": {},
   "outputs": [
    {
     "name": "stderr",
     "output_type": "stream",
     "text": [
      "C:\\Users\\nastu\\Anaconda3\\lib\\site-packages\\sklearn\\metrics\\classification.py:635: DeprecationWarning: jaccard_similarity_score has been deprecated and replaced with jaccard_score. It will be removed in version 0.23. This implementation has surprising behavior for binary and multiclass classification tasks.\n",
      "  'and multiclass classification tasks.', DeprecationWarning)\n"
     ]
    }
   ],
   "source": [
    "# write your code here\n",
    "clf1 = svm.SVC(kernel='linear')\n",
    "clf1.fit(X_train, y_train) \n",
    "yhatSVM = clf1.predict(X_test)\n",
    "\n",
    "SVM_F1 = round (f1_score(y_test, yhatSVM, average='weighted'), 4) \n",
    "\n",
    "SVM_Jaccard = round (jaccard_similarity_score(y_test, yhatSVM), 4) \n",
    "SVM_test_acc = round(metrics.accuracy_score(y_test, yhatSVM), 4)\n",
    "\n"
   ]
  },
  {
   "cell_type": "code",
   "execution_count": 51,
   "metadata": {},
   "outputs": [
    {
     "name": "stdout",
     "output_type": "stream",
     "text": [
      "1. F1 score for Logistic Regression:  0.8668\n",
      "2. Jaccard Similarity Score for Logistic Regression:  0.8667\n",
      "3. Train set Accuracy for Logistic Regression:  0.8688\n",
      "4. Test set Accuracy for Logistic Regression:  0.8667\n",
      "1. F1 score for Decision Tree:  0.8996\n",
      "2. Jaccard Similarity Score for Decision Tree:  0.9\n",
      "3. Decision Tree's Training Accuracy:  1.0\n",
      "4. Decision Tree's Test Accuracy:  0.9\n",
      "1. F1 score for SVM:  0.8829\n",
      "2. Jaccard Similarity Score for SVM:  0.8833\n",
      "4. Test set Accuracy for SVM:  0.8833\n",
      "1. F1 score for KNN 3 is:  0.9083\n",
      "2. Jaccard Similarity Score for KNN 3 is:  0.9083\n",
      "3. Train set Accuracy for KNN 3 is:  0.9479\n",
      "4. Test set Accuracy for KNN 3 is:  0.9083\n"
     ]
    }
   ],
   "source": [
    "print(\"1. F1 score for Logistic Regression: \", F1_LR) \n",
    "print(\"2. Jaccard Similarity Score for Logistic Regression: \", Jaccard_LR)\n",
    "print(\"3. Train set Accuracy for Logistic Regression: \", LR_train_acc)\n",
    "print(\"4. Test set Accuracy for Logistic Regression: \", LR_test_acc)\n",
    "\n",
    "#####\n",
    "\n",
    "print(\"1. F1 score for Decision Tree: \", DT_F1)\n",
    "print(\"2. Jaccard Similarity Score for Decision Tree: \", DT_jaccard)\n",
    "print(\"3. Decision Tree's Training Accuracy: \", DT_train_acc) \n",
    "print(\"4. Decision Tree's Test Accuracy: \", DT_test_acc) \n",
    "\n",
    "#####\n",
    "\n",
    "print(\"1. F1 score for SVM: \", SVM_F1)\n",
    "print(\"2. Jaccard Similarity Score for SVM: \", SVM_Jaccard)\n",
    "print(\"4. Test set Accuracy for SVM: \", SVM_test_acc)\n",
    "\n",
    "\n",
    "print(\"1. F1 score for KNN 3 is: \", KNN3_F1)\n",
    "print(\"2. Jaccard Similarity Score for KNN 3 is: \", KNN3_jaccard)\n",
    "print(\"3. Train set Accuracy for KNN 3 is: \", KNN3_train_acc)\n",
    "print(\"4. Test set Accuracy for KNN 3 is: \", KNN3_test_acc)"
   ]
  },
  {
   "cell_type": "markdown",
   "metadata": {},
   "source": [
    "# Report\n",
    "The metrics from different classification methods were included in the table below to compare the methods and decide which is the best classification method.\n"
   ]
  },
  {
   "cell_type": "markdown",
   "metadata": {},
   "source": [
    "| Algorithm          | Jaccard | F1-score | Train Acc | Test Acc  |\n",
    "|--------------------|---------|----------|-----------|-----------| \n",
    "| KNN-3              | 0.908   | 0.908    | 0.948     |  0.908    |\n",
    "| Decision Tree (10) | 0.900   | 0.897    | 0.996     |  0.900    |\n",
    "| SVM                | 0.883   | 0.883    |           |  0.883    |\n",
    "| Logistic Regression| 0.867   | 0.867    | 0.869     |  0.867    |"
   ]
  },
  {
   "cell_type": "markdown",
   "metadata": {},
   "source": [
    "The scores listed above were printed in the cells below. Based on them we can conclude the SVM seems to be the best performing classification method using the list of selected predictors. "
   ]
  },
  {
   "cell_type": "markdown",
   "metadata": {},
   "source": [
    "This notebook is the 2nd draft of my way of showing how Machine learning can be potentially used to create a model for predicting the results of \n",
    "London 2016 election based on selected my selection of variables (14 out of ~72). \n",
    "This selection takes into account statistical checking of the relation between variables \n",
    "(multicolinearity) but did not assessed the statistical significance of any of the variables.  \n",
    "However, this will allow to compare the model I will create in the 2nd draft to this one including as predictors the following features: \n",
    "\n",
    "* 'Working-age (16-64) - 2015', \n",
    "* 'Older people aged 65+ - 2015', \n",
    "* 'Median Age - 2013', \n",
    "* 'Population density (persons per sq km) - 2013', \n",
    "* '% BAME - 2011',\n",
    "* '% English is First Language of no one in household - 2011',  \n",
    "* 'Median Household income estimate (2012/13)', \n",
    "* '% dwellings in council tax bands A or B - 2015', \n",
    "* 'Rate of Claimant  of Housing Benefit (2015)', \n",
    "* 'Rate of JobSeekers Allowance (JSA) Claimants - 2015', \n",
    "* '% dependent children (0-18) in out-of-work households - 2014', \n",
    "* 'Level 4 and above qualifications 2011', \n",
    "* 'Crime rate - 2014/15', \n",
    "* 'Average Public Transport Accessibility score - 2014'.         "
   ]
  },
  {
   "cell_type": "markdown",
   "metadata": {},
   "source": [
    "* If you read this Notebook please email me any comments or suggestions to my email sebastian@bianalytics.org"
   ]
  },
  {
   "cell_type": "code",
   "execution_count": null,
   "metadata": {},
   "outputs": [],
   "source": []
  }
 ],
 "metadata": {
  "kernelspec": {
   "display_name": "Python 3",
   "language": "python",
   "name": "python3"
  },
  "language_info": {
   "codemirror_mode": {
    "name": "ipython",
    "version": 3
   },
   "file_extension": ".py",
   "mimetype": "text/x-python",
   "name": "python",
   "nbconvert_exporter": "python",
   "pygments_lexer": "ipython3",
   "version": "3.7.4"
  }
 },
 "nbformat": 4,
 "nbformat_minor": 2
}
