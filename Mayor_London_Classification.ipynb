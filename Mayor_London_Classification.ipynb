{
 "cells": [
  {
   "cell_type": "markdown",
   "metadata": {
    "button": false,
    "new_sheet": false,
    "run_control": {
     "read_only": false
    }
   },
   "source": [
    "### Predicting the Mayor of London 2016 results using ward level demographics"
   ]
  },
  {
   "cell_type": "markdown",
   "metadata": {
    "button": false,
    "new_sheet": false,
    "run_control": {
     "read_only": false
    }
   },
   "source": [
    "In this notebook several classification algorithms such as Logistic regression, Support Vector Machine, K Nearest Neighbor(KNN) and \n",
    "Decision Tree. The dataset included as **outcome** the results of **Mayor of London election in 2016** and as features (predictors/independent variables) some selected socio-demographic predictors agregated at ward level.  \n",
    "The previously used the demographic dataset in another notebooks: \n",
    "\n",
    "**__[Predicting the median house price in London Wards](https://github.com/sebastianBIanalytics/Data_Science_Machine_Learning_Python/blob/master/Predicting%20median%20House%20Price%20London%20-%20Multiple%20Regression.ipynb)__**\n",
    "\n",
    "**__[Where in London to open a new Luxury Wine Bar](https://github.com/sebastianBIanalytics/Data_Science_Machine_Learning_Python/blob/master/WINE%20BAR%20in%20London%20Final.ipynb)__**\n",
    "\n",
    "The original source of the predictors can be accessed at the link below:  \n",
    "** Ward Profiles and Atlas of Greater London Authority (GLA)** provided by **__[DataStore London](https://data.london.gov.uk/dataset/ward-profiles-and-atlas)__**. Although the provided details reflect London profile until 2015, this is the most comprehensive dataset publicly available that cover data from the 2011 Census, from ONS and governmental data. \n",
    "\n",
    "The election results used the **__[London Elections Results 2016, Wards, Boroughs, Constituency]( https://data.london.gov.uk/download/london-elections-results-2016-wards-boroughs-constituency/01f4ff3a-c562-4d61-977f-c2dfb36694ce/gla-elections-votes-all-2016.xlsx)__**. However, only the voted per ward level were included while the postal votes (given at Borough level) were excluded. \n",
    "\n"
   ]
  },
  {
   "cell_type": "markdown",
   "metadata": {},
   "source": [
    "The necessary packages were imported. "
   ]
  },
  {
   "cell_type": "code",
   "execution_count": 1,
   "metadata": {
    "button": false,
    "new_sheet": false,
    "run_control": {
     "read_only": false
    }
   },
   "outputs": [
    {
     "name": "stderr",
     "output_type": "stream",
     "text": [
      "C:\\Users\\nastu\\Anaconda3\\lib\\site-packages\\ipykernel_launcher.py:9: FutureWarning: pandas.util.testing is deprecated. Use the functions in the public API at pandas.testing instead.\n",
      "  if __name__ == '__main__':\n"
     ]
    }
   ],
   "source": [
    "import sys\n",
    "import itertools\n",
    "import numpy as np\n",
    "import pandas as pd\n",
    "import numpy as np\n",
    "import matplotlib.pyplot as plt\n",
    "\n",
    "import pandas.testing as tm\n",
    "import pandas.util.testing as tm\n",
    "\n",
    "import seaborn as sns\n",
    "import pandas.util.testing as tm\n",
    "from matplotlib.ticker import NullFormatter\n",
    "import pandas.util.testing as tm\n",
    "import matplotlib.ticker as ticker\n",
    "\n",
    "from sklearn import preprocessing\n",
    "from sklearn import metrics\n",
    "%matplotlib inline\n",
    "from sklearn.tree import DecisionTreeClassifier\n",
    "\n",
    "### Model Evaluation using Test set \n",
    "from sklearn.metrics import jaccard_similarity_score\n",
    "from sklearn.metrics import f1_score\n",
    "from sklearn.metrics import log_loss\n",
    "\n",
    "## setting the working directory\n",
    "import os\n"
   ]
  },
  {
   "cell_type": "code",
   "execution_count": 2,
   "metadata": {},
   "outputs": [
    {
     "name": "stdout",
     "output_type": "stream",
     "text": [
      "Collecting package metadata (current_repodata.json): ...working... done\n",
      "Solving environment: ...working... done\n",
      "\n",
      "# All requested packages already installed.\n",
      "\n"
     ]
    }
   ],
   "source": [
    "# notice: installing seaborn might takes a few minutes\n",
    "!conda install -c anaconda seaborn -y"
   ]
  },
  {
   "cell_type": "markdown",
   "metadata": {
    "button": false,
    "new_sheet": false,
    "run_control": {
     "read_only": false
    }
   },
   "source": [
    "## Importing the dataset"
   ]
  },
  {
   "cell_type": "code",
   "execution_count": 3,
   "metadata": {
    "button": false,
    "new_sheet": false,
    "run_control": {
     "read_only": false
    }
   },
   "outputs": [
    {
     "data": {
      "text/html": [
       "<div>\n",
       "<style scoped>\n",
       "    .dataframe tbody tr th:only-of-type {\n",
       "        vertical-align: middle;\n",
       "    }\n",
       "\n",
       "    .dataframe tbody tr th {\n",
       "        vertical-align: top;\n",
       "    }\n",
       "\n",
       "    .dataframe thead th {\n",
       "        text-align: right;\n",
       "    }\n",
       "</style>\n",
       "<table border=\"1\" class=\"dataframe\">\n",
       "  <thead>\n",
       "    <tr style=\"text-align: right;\">\n",
       "      <th></th>\n",
       "      <th>Unnamed: 0</th>\n",
       "      <th>ID</th>\n",
       "      <th>Borough</th>\n",
       "      <th>Ward</th>\n",
       "      <th>Geog level</th>\n",
       "      <th>Constituency</th>\n",
       "      <th>New code</th>\n",
       "      <th>Turnout</th>\n",
       "      <th>Ward Level Electorate</th>\n",
       "      <th>% Turnout</th>\n",
       "      <th>...</th>\n",
       "      <th>% with no qualifications - 2011</th>\n",
       "      <th>% with Level 4 qualifications and above - 2011</th>\n",
       "      <th>A-Level Average Point Score Per Student - 2013/14</th>\n",
       "      <th>A-Level Average Point Score Per Entry; 2013/14</th>\n",
       "      <th>Crime rate - 2014/15</th>\n",
       "      <th>Violence against the person rate - 2014/15</th>\n",
       "      <th>% area that is open space - 2014</th>\n",
       "      <th>Cars per household - 2011</th>\n",
       "      <th>Average Public Transport Accessibility score - 2014</th>\n",
       "      <th>Turnout at Mayoral election - 2012</th>\n",
       "    </tr>\n",
       "  </thead>\n",
       "  <tbody>\n",
       "    <tr>\n",
       "      <th>0</th>\n",
       "      <td>0</td>\n",
       "      <td>1</td>\n",
       "      <td>Bexley</td>\n",
       "      <td>Barnehurst</td>\n",
       "      <td>Ward</td>\n",
       "      <td>Bexley &amp; Bromley</td>\n",
       "      <td>E05000064</td>\n",
       "      <td>2,758</td>\n",
       "      <td>6,886</td>\n",
       "      <td>40%</td>\n",
       "      <td>...</td>\n",
       "      <td>23.1</td>\n",
       "      <td>20.1</td>\n",
       "      <td>757.587952</td>\n",
       "      <td>214.443374</td>\n",
       "      <td>46.461219</td>\n",
       "      <td>15.471698</td>\n",
       "      <td>35.978052</td>\n",
       "      <td>1.254193</td>\n",
       "      <td>3.135916</td>\n",
       "      <td>35.067040</td>\n",
       "    </tr>\n",
       "    <tr>\n",
       "      <th>1</th>\n",
       "      <td>1</td>\n",
       "      <td>2</td>\n",
       "      <td>Bexley</td>\n",
       "      <td>Belvedere</td>\n",
       "      <td>Ward</td>\n",
       "      <td>Bexley &amp; Bromley</td>\n",
       "      <td>E05000065</td>\n",
       "      <td>2,675</td>\n",
       "      <td>7,506</td>\n",
       "      <td>36%</td>\n",
       "      <td>...</td>\n",
       "      <td>23.7</td>\n",
       "      <td>21.9</td>\n",
       "      <td>694.377778</td>\n",
       "      <td>209.123457</td>\n",
       "      <td>61.963541</td>\n",
       "      <td>19.758065</td>\n",
       "      <td>33.133207</td>\n",
       "      <td>1.013248</td>\n",
       "      <td>2.752564</td>\n",
       "      <td>31.933791</td>\n",
       "    </tr>\n",
       "    <tr>\n",
       "      <th>2</th>\n",
       "      <td>2</td>\n",
       "      <td>3</td>\n",
       "      <td>Bexley</td>\n",
       "      <td>Blackfen And Lamorbey</td>\n",
       "      <td>Ward</td>\n",
       "      <td>Bexley &amp; Bromley</td>\n",
       "      <td>E05000066</td>\n",
       "      <td>3,011</td>\n",
       "      <td>6,974</td>\n",
       "      <td>43%</td>\n",
       "      <td>...</td>\n",
       "      <td>22.4</td>\n",
       "      <td>19.3</td>\n",
       "      <td>750.330000</td>\n",
       "      <td>212.232500</td>\n",
       "      <td>28.756957</td>\n",
       "      <td>6.915888</td>\n",
       "      <td>9.484078</td>\n",
       "      <td>1.349928</td>\n",
       "      <td>2.051587</td>\n",
       "      <td>35.887557</td>\n",
       "    </tr>\n",
       "    <tr>\n",
       "      <th>3</th>\n",
       "      <td>3</td>\n",
       "      <td>4</td>\n",
       "      <td>Bexley</td>\n",
       "      <td>Blendon And Penhill</td>\n",
       "      <td>Ward</td>\n",
       "      <td>Bexley &amp; Bromley</td>\n",
       "      <td>E05000067</td>\n",
       "      <td>3,050</td>\n",
       "      <td>6,993</td>\n",
       "      <td>44%</td>\n",
       "      <td>...</td>\n",
       "      <td>21.5</td>\n",
       "      <td>19.6</td>\n",
       "      <td>725.517045</td>\n",
       "      <td>207.929545</td>\n",
       "      <td>37.669377</td>\n",
       "      <td>7.636364</td>\n",
       "      <td>13.770616</td>\n",
       "      <td>1.441948</td>\n",
       "      <td>2.065738</td>\n",
       "      <td>38.663117</td>\n",
       "    </tr>\n",
       "    <tr>\n",
       "      <th>4</th>\n",
       "      <td>4</td>\n",
       "      <td>5</td>\n",
       "      <td>Bexley</td>\n",
       "      <td>Brampton</td>\n",
       "      <td>Ward</td>\n",
       "      <td>Bexley &amp; Bromley</td>\n",
       "      <td>E05000068</td>\n",
       "      <td>3,311</td>\n",
       "      <td>6,902</td>\n",
       "      <td>48%</td>\n",
       "      <td>...</td>\n",
       "      <td>22.9</td>\n",
       "      <td>20.7</td>\n",
       "      <td>688.423809</td>\n",
       "      <td>208.227619</td>\n",
       "      <td>26.340457</td>\n",
       "      <td>6.320755</td>\n",
       "      <td>9.101077</td>\n",
       "      <td>1.326364</td>\n",
       "      <td>2.665179</td>\n",
       "      <td>41.213064</td>\n",
       "    </tr>\n",
       "  </tbody>\n",
       "</table>\n",
       "<p>5 rows × 77 columns</p>\n",
       "</div>"
      ],
      "text/plain": [
       "   Unnamed: 0  ID Borough                   Ward Geog level      Constituency  \\\n",
       "0           0   1  Bexley             Barnehurst       Ward  Bexley & Bromley   \n",
       "1           1   2  Bexley              Belvedere       Ward  Bexley & Bromley   \n",
       "2           2   3  Bexley  Blackfen And Lamorbey       Ward  Bexley & Bromley   \n",
       "3           3   4  Bexley    Blendon And Penhill       Ward  Bexley & Bromley   \n",
       "4           4   5  Bexley               Brampton       Ward  Bexley & Bromley   \n",
       "\n",
       "    New code Turnout Ward Level Electorate % Turnout  ...  \\\n",
       "0  E05000064   2,758                 6,886       40%  ...   \n",
       "1  E05000065   2,675                 7,506       36%  ...   \n",
       "2  E05000066   3,011                 6,974       43%  ...   \n",
       "3  E05000067   3,050                 6,993       44%  ...   \n",
       "4  E05000068   3,311                 6,902       48%  ...   \n",
       "\n",
       "  % with no qualifications - 2011  \\\n",
       "0                            23.1   \n",
       "1                            23.7   \n",
       "2                            22.4   \n",
       "3                            21.5   \n",
       "4                            22.9   \n",
       "\n",
       "   % with Level 4 qualifications and above - 2011  \\\n",
       "0                                            20.1   \n",
       "1                                            21.9   \n",
       "2                                            19.3   \n",
       "3                                            19.6   \n",
       "4                                            20.7   \n",
       "\n",
       "   A-Level Average Point Score Per Student - 2013/14  \\\n",
       "0                                         757.587952   \n",
       "1                                         694.377778   \n",
       "2                                         750.330000   \n",
       "3                                         725.517045   \n",
       "4                                         688.423809   \n",
       "\n",
       "   A-Level Average Point Score Per Entry; 2013/14  Crime rate - 2014/15  \\\n",
       "0                                      214.443374             46.461219   \n",
       "1                                      209.123457             61.963541   \n",
       "2                                      212.232500             28.756957   \n",
       "3                                      207.929545             37.669377   \n",
       "4                                      208.227619             26.340457   \n",
       "\n",
       "   Violence against the person rate - 2014/15  \\\n",
       "0                                   15.471698   \n",
       "1                                   19.758065   \n",
       "2                                    6.915888   \n",
       "3                                    7.636364   \n",
       "4                                    6.320755   \n",
       "\n",
       "   % area that is open space - 2014  Cars per household - 2011  \\\n",
       "0                         35.978052                   1.254193   \n",
       "1                         33.133207                   1.013248   \n",
       "2                          9.484078                   1.349928   \n",
       "3                         13.770616                   1.441948   \n",
       "4                          9.101077                   1.326364   \n",
       "\n",
       "   Average Public Transport Accessibility score - 2014  \\\n",
       "0                                           3.135916     \n",
       "1                                           2.752564     \n",
       "2                                           2.051587     \n",
       "3                                           2.065738     \n",
       "4                                           2.665179     \n",
       "\n",
       "  Turnout at Mayoral election - 2012  \n",
       "0                          35.067040  \n",
       "1                          31.933791  \n",
       "2                          35.887557  \n",
       "3                          38.663117  \n",
       "4                          41.213064  \n",
       "\n",
       "[5 rows x 77 columns]"
      ]
     },
     "execution_count": 3,
     "metadata": {},
     "output_type": "execute_result"
    }
   ],
   "source": [
    "## setting directory \n",
    "os.chdir(\"C://@@ Default Folder Python Notebooks/Data\")\n",
    "\n",
    "## Importing the dataset \n",
    "Election = pd.read_csv('Election_Demographics.csv', encoding='ANSI')\n",
    "Election.head()"
   ]
  },
  {
   "cell_type": "code",
   "execution_count": 4,
   "metadata": {},
   "outputs": [
    {
     "data": {
      "text/plain": [
       "Sadiq Aman Khan    379\n",
       "Zac Goldsmith      242\n",
       "Name: Winner, dtype: int64"
      ]
     },
     "execution_count": 4,
     "metadata": {},
     "output_type": "execute_result"
    }
   ],
   "source": [
    "Election['Winner'].value_counts()"
   ]
  },
  {
   "cell_type": "markdown",
   "metadata": {
    "button": false,
    "new_sheet": false,
    "run_control": {
     "read_only": false
    }
   },
   "source": [
    "The winner in 379 wards was Sadiq Aman Khan, the actual Mayor of London. Below it can be observed in which Boroughs of London he won all the wards and where he lost.  "
   ]
  },
  {
   "cell_type": "code",
   "execution_count": 5,
   "metadata": {
    "button": false,
    "new_sheet": false,
    "run_control": {
     "read_only": false
    }
   },
   "outputs": [
    {
     "data": {
      "text/html": [
       "<div>\n",
       "<style scoped>\n",
       "    .dataframe tbody tr th:only-of-type {\n",
       "        vertical-align: middle;\n",
       "    }\n",
       "\n",
       "    .dataframe tbody tr th {\n",
       "        vertical-align: top;\n",
       "    }\n",
       "\n",
       "    .dataframe thead th {\n",
       "        text-align: right;\n",
       "    }\n",
       "</style>\n",
       "<table border=\"1\" class=\"dataframe\">\n",
       "  <thead>\n",
       "    <tr style=\"text-align: right;\">\n",
       "      <th>Winner</th>\n",
       "      <th>Sadiq Aman Khan</th>\n",
       "      <th>Zac Goldsmith</th>\n",
       "    </tr>\n",
       "    <tr>\n",
       "      <th>Borough</th>\n",
       "      <th></th>\n",
       "      <th></th>\n",
       "    </tr>\n",
       "  </thead>\n",
       "  <tbody>\n",
       "    <tr>\n",
       "      <th>Barking &amp; Dagenham</th>\n",
       "      <td>100.00</td>\n",
       "      <td>0.00</td>\n",
       "    </tr>\n",
       "    <tr>\n",
       "      <th>Islington</th>\n",
       "      <td>100.00</td>\n",
       "      <td>0.00</td>\n",
       "    </tr>\n",
       "    <tr>\n",
       "      <th>Tower Hamlets</th>\n",
       "      <td>100.00</td>\n",
       "      <td>0.00</td>\n",
       "    </tr>\n",
       "    <tr>\n",
       "      <th>Southwark</th>\n",
       "      <td>100.00</td>\n",
       "      <td>0.00</td>\n",
       "    </tr>\n",
       "    <tr>\n",
       "      <th>Newham</th>\n",
       "      <td>100.00</td>\n",
       "      <td>0.00</td>\n",
       "    </tr>\n",
       "    <tr>\n",
       "      <th>Hackney</th>\n",
       "      <td>100.00</td>\n",
       "      <td>0.00</td>\n",
       "    </tr>\n",
       "    <tr>\n",
       "      <th>Lewisham</th>\n",
       "      <td>100.00</td>\n",
       "      <td>0.00</td>\n",
       "    </tr>\n",
       "    <tr>\n",
       "      <th>Haringey</th>\n",
       "      <td>100.00</td>\n",
       "      <td>0.00</td>\n",
       "    </tr>\n",
       "    <tr>\n",
       "      <th>Lambeth</th>\n",
       "      <td>100.00</td>\n",
       "      <td>0.00</td>\n",
       "    </tr>\n",
       "    <tr>\n",
       "      <th>Brent</th>\n",
       "      <td>95.24</td>\n",
       "      <td>4.76</td>\n",
       "    </tr>\n",
       "    <tr>\n",
       "      <th>Camden</th>\n",
       "      <td>88.89</td>\n",
       "      <td>11.11</td>\n",
       "    </tr>\n",
       "    <tr>\n",
       "      <th>Ealing</th>\n",
       "      <td>82.61</td>\n",
       "      <td>17.39</td>\n",
       "    </tr>\n",
       "    <tr>\n",
       "      <th>Greenwich</th>\n",
       "      <td>82.35</td>\n",
       "      <td>17.65</td>\n",
       "    </tr>\n",
       "    <tr>\n",
       "      <th>Waltham Forest</th>\n",
       "      <td>80.00</td>\n",
       "      <td>20.00</td>\n",
       "    </tr>\n",
       "    <tr>\n",
       "      <th>Hounslow</th>\n",
       "      <td>80.00</td>\n",
       "      <td>20.00</td>\n",
       "    </tr>\n",
       "    <tr>\n",
       "      <th>Redbridge</th>\n",
       "      <td>61.90</td>\n",
       "      <td>38.10</td>\n",
       "    </tr>\n",
       "    <tr>\n",
       "      <th>Enfield</th>\n",
       "      <td>61.90</td>\n",
       "      <td>38.10</td>\n",
       "    </tr>\n",
       "    <tr>\n",
       "      <th>All</th>\n",
       "      <td>61.03</td>\n",
       "      <td>38.97</td>\n",
       "    </tr>\n",
       "    <tr>\n",
       "      <th>Merton</th>\n",
       "      <td>55.00</td>\n",
       "      <td>45.00</td>\n",
       "    </tr>\n",
       "    <tr>\n",
       "      <th>Croydon</th>\n",
       "      <td>54.17</td>\n",
       "      <td>45.83</td>\n",
       "    </tr>\n",
       "    <tr>\n",
       "      <th>Hammersmith &amp; Fulham</th>\n",
       "      <td>50.00</td>\n",
       "      <td>50.00</td>\n",
       "    </tr>\n",
       "    <tr>\n",
       "      <th>Harrow</th>\n",
       "      <td>47.62</td>\n",
       "      <td>52.38</td>\n",
       "    </tr>\n",
       "    <tr>\n",
       "      <th>Wandsworth</th>\n",
       "      <td>45.00</td>\n",
       "      <td>55.00</td>\n",
       "    </tr>\n",
       "    <tr>\n",
       "      <th>Barnet</th>\n",
       "      <td>33.33</td>\n",
       "      <td>66.67</td>\n",
       "    </tr>\n",
       "    <tr>\n",
       "      <th>Westminster</th>\n",
       "      <td>30.00</td>\n",
       "      <td>70.00</td>\n",
       "    </tr>\n",
       "    <tr>\n",
       "      <th>Kensington &amp; Chelsea</th>\n",
       "      <td>27.78</td>\n",
       "      <td>72.22</td>\n",
       "    </tr>\n",
       "    <tr>\n",
       "      <th>Hillingdon</th>\n",
       "      <td>27.27</td>\n",
       "      <td>72.73</td>\n",
       "    </tr>\n",
       "    <tr>\n",
       "      <th>Kingston upon Thames</th>\n",
       "      <td>18.75</td>\n",
       "      <td>81.25</td>\n",
       "    </tr>\n",
       "    <tr>\n",
       "      <th>Sutton</th>\n",
       "      <td>16.67</td>\n",
       "      <td>83.33</td>\n",
       "    </tr>\n",
       "    <tr>\n",
       "      <th>Bexley</th>\n",
       "      <td>14.29</td>\n",
       "      <td>85.71</td>\n",
       "    </tr>\n",
       "    <tr>\n",
       "      <th>Bromley</th>\n",
       "      <td>13.64</td>\n",
       "      <td>86.36</td>\n",
       "    </tr>\n",
       "    <tr>\n",
       "      <th>Havering</th>\n",
       "      <td>0.00</td>\n",
       "      <td>100.00</td>\n",
       "    </tr>\n",
       "    <tr>\n",
       "      <th>Richmond upon Thames</th>\n",
       "      <td>0.00</td>\n",
       "      <td>100.00</td>\n",
       "    </tr>\n",
       "  </tbody>\n",
       "</table>\n",
       "</div>"
      ],
      "text/plain": [
       "Winner                Sadiq Aman Khan  Zac Goldsmith\n",
       "Borough                                             \n",
       "Barking & Dagenham             100.00           0.00\n",
       "Islington                      100.00           0.00\n",
       "Tower Hamlets                  100.00           0.00\n",
       "Southwark                      100.00           0.00\n",
       "Newham                         100.00           0.00\n",
       "Hackney                        100.00           0.00\n",
       "Lewisham                       100.00           0.00\n",
       "Haringey                       100.00           0.00\n",
       "Lambeth                        100.00           0.00\n",
       "Brent                           95.24           4.76\n",
       "Camden                          88.89          11.11\n",
       "Ealing                          82.61          17.39\n",
       "Greenwich                       82.35          17.65\n",
       "Waltham Forest                  80.00          20.00\n",
       "Hounslow                        80.00          20.00\n",
       "Redbridge                       61.90          38.10\n",
       "Enfield                         61.90          38.10\n",
       "All                             61.03          38.97\n",
       "Merton                          55.00          45.00\n",
       "Croydon                         54.17          45.83\n",
       "Hammersmith & Fulham            50.00          50.00\n",
       "Harrow                          47.62          52.38\n",
       "Wandsworth                      45.00          55.00\n",
       "Barnet                          33.33          66.67\n",
       "Westminster                     30.00          70.00\n",
       "Kensington & Chelsea            27.78          72.22\n",
       "Hillingdon                      27.27          72.73\n",
       "Kingston upon Thames            18.75          81.25\n",
       "Sutton                          16.67          83.33\n",
       "Bexley                          14.29          85.71\n",
       "Bromley                         13.64          86.36\n",
       "Havering                         0.00         100.00\n",
       "Richmond upon Thames             0.00         100.00"
      ]
     },
     "execution_count": 5,
     "metadata": {},
     "output_type": "execute_result"
    }
   ],
   "source": [
    "Vote_Borough_prop = pd.crosstab(Election['Borough'], Election['Winner'], \n",
    "                           margins=True, normalize='index').sort_values('Sadiq Aman Khan', \n",
    "                           ascending=False).round(4)*100\n",
    "Vote_Borough_prop"
   ]
  },
  {
   "cell_type": "code",
   "execution_count": 6,
   "metadata": {},
   "outputs": [],
   "source": [
    "Election = Election.drop(columns=['Unnamed: 0', 'Geog level'])"
   ]
  },
  {
   "cell_type": "code",
   "execution_count": 7,
   "metadata": {},
   "outputs": [],
   "source": [
    "Election.dropna(inplace=True)"
   ]
  },
  {
   "cell_type": "code",
   "execution_count": 8,
   "metadata": {},
   "outputs": [
    {
     "data": {
      "text/plain": [
       "(600, 75)"
      ]
     },
     "execution_count": 8,
     "metadata": {},
     "output_type": "execute_result"
    }
   ],
   "source": [
    "Election.shape"
   ]
  },
  {
   "cell_type": "markdown",
   "metadata": {},
   "source": [
    "Some useless variables were excluded and the cases which contain NA were excluded. The final dataset contains 600 wards and 75 variables.  "
   ]
  },
  {
   "cell_type": "code",
   "execution_count": 9,
   "metadata": {},
   "outputs": [],
   "source": [
    "FeatureS = Election[['Working-age (16-64) - 2015', 'Older people aged 65+ - 2015', 'Median Age - 2013', \n",
    "                     'Population density (persons per sq km) - 2013',\n",
    "       '% BAME - 2011', '% English is First Language of no one in household - 2011',\n",
    "       'Number of jobs in area - 2013',\n",
    "       'Median House Price (Ã‚Â£) - 2014', 'Number of properties sold - 2014',\n",
    "       'Median Household income estimate (2012/13)',\n",
    "       '% Households Social Rented - 2011',\n",
    "       '% Households Private Rented - 2011',\n",
    "       '% dwellings in council tax bands A or B - 2015',\n",
    "       'Claimant Rate of Housing Benefit (2015)',\n",
    "       'Rate of JobSeekers Allowance (JSA) Claimants - 2015',\n",
    "       '% dependent children (0-18) in out-of-work households - 2014',\n",
    "       'A-Level Average Point Score Per Student - 2013/14',\n",
    "       'Crime rate - 2014/15', 'Violence against the person rate - 2014/15',\n",
    "       'Average Public Transport Accessibility score - 2014']] "
   ]
  },
  {
   "cell_type": "code",
   "execution_count": 10,
   "metadata": {
    "button": false,
    "new_sheet": false,
    "run_control": {
     "read_only": false
    }
   },
   "outputs": [
    {
     "data": {
      "text/plain": [
       "(600, 20)"
      ]
     },
     "execution_count": 10,
     "metadata": {},
     "output_type": "execute_result"
    }
   ],
   "source": [
    "FeatureS.shape"
   ]
  },
  {
   "cell_type": "markdown",
   "metadata": {},
   "source": [
    "However, only 39 variables (**listed above**) were kept for analysis. Most of then have integers or float format."
   ]
  },
  {
   "cell_type": "code",
   "execution_count": 11,
   "metadata": {},
   "outputs": [
    {
     "data": {
      "text/plain": [
       "Working-age (16-64) - 2015                                        int64\n",
       "Older people aged 65+ - 2015                                      int64\n",
       "Median Age - 2013                                                 int64\n",
       "Population density (persons per sq km) - 2013                   float64\n",
       "% BAME - 2011                                                   float64\n",
       "% English is First Language of no one in household - 2011       float64\n",
       "Number of jobs in area - 2013                                   float64\n",
       "Median House Price (Ã‚Â£) - 2014                                float64\n",
       "Number of properties sold - 2014                                  int64\n",
       "Median Household income estimate (2012/13)                        int64\n",
       "% Households Social Rented - 2011                               float64\n",
       "% Households Private Rented - 2011                              float64\n",
       "% dwellings in council tax bands A or B - 2015                  float64\n",
       "Claimant Rate of Housing Benefit (2015)                         float64\n",
       "Rate of JobSeekers Allowance (JSA) Claimants - 2015             float64\n",
       "% dependent children (0-18) in out-of-work households - 2014    float64\n",
       "A-Level Average Point Score Per Student - 2013/14               float64\n",
       "Crime rate - 2014/15                                            float64\n",
       "Violence against the person rate - 2014/15                      float64\n",
       "Average Public Transport Accessibility score - 2014             float64\n",
       "dtype: object"
      ]
     },
     "execution_count": 11,
     "metadata": {},
     "output_type": "execute_result"
    }
   ],
   "source": [
    "FeatureS.dtypes"
   ]
  },
  {
   "cell_type": "code",
   "execution_count": null,
   "metadata": {},
   "outputs": [],
   "source": []
  },
  {
   "cell_type": "markdown",
   "metadata": {
    "button": false,
    "new_sheet": false,
    "run_control": {
     "read_only": false
    }
   },
   "source": [
    "### Feature selection"
   ]
  },
  {
   "cell_type": "markdown",
   "metadata": {
    "button": false,
    "new_sheet": false,
    "run_control": {
     "read_only": false
    }
   },
   "source": [
    "Lets defind feature sets, X:"
   ]
  },
  {
   "cell_type": "code",
   "execution_count": 12,
   "metadata": {
    "button": false,
    "new_sheet": false,
    "run_control": {
     "read_only": false
    }
   },
   "outputs": [
    {
     "data": {
      "text/html": [
       "<div>\n",
       "<style scoped>\n",
       "    .dataframe tbody tr th:only-of-type {\n",
       "        vertical-align: middle;\n",
       "    }\n",
       "\n",
       "    .dataframe tbody tr th {\n",
       "        vertical-align: top;\n",
       "    }\n",
       "\n",
       "    .dataframe thead th {\n",
       "        text-align: right;\n",
       "    }\n",
       "</style>\n",
       "<table border=\"1\" class=\"dataframe\">\n",
       "  <thead>\n",
       "    <tr style=\"text-align: right;\">\n",
       "      <th></th>\n",
       "      <th>Working-age (16-64) - 2015</th>\n",
       "      <th>Older people aged 65+ - 2015</th>\n",
       "      <th>Median Age - 2013</th>\n",
       "      <th>Population density (persons per sq km) - 2013</th>\n",
       "      <th>% BAME - 2011</th>\n",
       "      <th>% English is First Language of no one in household - 2011</th>\n",
       "      <th>Number of jobs in area - 2013</th>\n",
       "      <th>Median House Price (Ã‚Â£) - 2014</th>\n",
       "      <th>Number of properties sold - 2014</th>\n",
       "      <th>Median Household income estimate (2012/13)</th>\n",
       "      <th>% Households Social Rented - 2011</th>\n",
       "      <th>% Households Private Rented - 2011</th>\n",
       "      <th>% dwellings in council tax bands A or B - 2015</th>\n",
       "      <th>Claimant Rate of Housing Benefit (2015)</th>\n",
       "      <th>Rate of JobSeekers Allowance (JSA) Claimants - 2015</th>\n",
       "      <th>% dependent children (0-18) in out-of-work households - 2014</th>\n",
       "      <th>A-Level Average Point Score Per Student - 2013/14</th>\n",
       "      <th>Crime rate - 2014/15</th>\n",
       "      <th>Violence against the person rate - 2014/15</th>\n",
       "      <th>Average Public Transport Accessibility score - 2014</th>\n",
       "    </tr>\n",
       "  </thead>\n",
       "  <tbody>\n",
       "    <tr>\n",
       "      <th>0</th>\n",
       "      <td>6600</td>\n",
       "      <td>2050</td>\n",
       "      <td>41</td>\n",
       "      <td>3672.4</td>\n",
       "      <td>9.8</td>\n",
       "      <td>1.3</td>\n",
       "      <td>2200.0</td>\n",
       "      <td>250000.0</td>\n",
       "      <td>228</td>\n",
       "      <td>38200</td>\n",
       "      <td>10.7</td>\n",
       "      <td>8.3</td>\n",
       "      <td>6.741573</td>\n",
       "      <td>5.843453</td>\n",
       "      <td>1.448995</td>\n",
       "      <td>11.020408</td>\n",
       "      <td>757.587952</td>\n",
       "      <td>46.461219</td>\n",
       "      <td>15.471698</td>\n",
       "      <td>3.135916</td>\n",
       "    </tr>\n",
       "    <tr>\n",
       "      <th>1</th>\n",
       "      <td>7950</td>\n",
       "      <td>1600</td>\n",
       "      <td>35</td>\n",
       "      <td>3828.1</td>\n",
       "      <td>28.4</td>\n",
       "      <td>5.1</td>\n",
       "      <td>3800.0</td>\n",
       "      <td>179500.0</td>\n",
       "      <td>246</td>\n",
       "      <td>33510</td>\n",
       "      <td>16.1</td>\n",
       "      <td>18.6</td>\n",
       "      <td>23.938224</td>\n",
       "      <td>12.000000</td>\n",
       "      <td>2.425614</td>\n",
       "      <td>21.571429</td>\n",
       "      <td>694.377778</td>\n",
       "      <td>61.963541</td>\n",
       "      <td>19.758065</td>\n",
       "      <td>2.752564</td>\n",
       "    </tr>\n",
       "    <tr>\n",
       "      <th>2</th>\n",
       "      <td>6700</td>\n",
       "      <td>2050</td>\n",
       "      <td>42</td>\n",
       "      <td>6352.9</td>\n",
       "      <td>7.3</td>\n",
       "      <td>1.2</td>\n",
       "      <td>1100.0</td>\n",
       "      <td>280000.0</td>\n",
       "      <td>182</td>\n",
       "      <td>40780</td>\n",
       "      <td>3.8</td>\n",
       "      <td>8.1</td>\n",
       "      <td>3.044496</td>\n",
       "      <td>2.941527</td>\n",
       "      <td>1.125070</td>\n",
       "      <td>7.200000</td>\n",
       "      <td>750.330000</td>\n",
       "      <td>28.756957</td>\n",
       "      <td>6.915888</td>\n",
       "      <td>2.051587</td>\n",
       "    </tr>\n",
       "  </tbody>\n",
       "</table>\n",
       "</div>"
      ],
      "text/plain": [
       "   Working-age (16-64) - 2015  Older people aged 65+ - 2015  \\\n",
       "0                        6600                          2050   \n",
       "1                        7950                          1600   \n",
       "2                        6700                          2050   \n",
       "\n",
       "   Median Age - 2013  Population density (persons per sq km) - 2013  \\\n",
       "0                 41                                         3672.4   \n",
       "1                 35                                         3828.1   \n",
       "2                 42                                         6352.9   \n",
       "\n",
       "   % BAME - 2011  % English is First Language of no one in household - 2011  \\\n",
       "0            9.8                                                1.3           \n",
       "1           28.4                                                5.1           \n",
       "2            7.3                                                1.2           \n",
       "\n",
       "   Number of jobs in area - 2013  Median House Price (Ã‚Â£) - 2014  \\\n",
       "0                         2200.0                          250000.0   \n",
       "1                         3800.0                          179500.0   \n",
       "2                         1100.0                          280000.0   \n",
       "\n",
       "   Number of properties sold - 2014  \\\n",
       "0                               228   \n",
       "1                               246   \n",
       "2                               182   \n",
       "\n",
       "   Median Household income estimate (2012/13)  \\\n",
       "0                                       38200   \n",
       "1                                       33510   \n",
       "2                                       40780   \n",
       "\n",
       "   % Households Social Rented - 2011  % Households Private Rented - 2011  \\\n",
       "0                               10.7                                 8.3   \n",
       "1                               16.1                                18.6   \n",
       "2                                3.8                                 8.1   \n",
       "\n",
       "   % dwellings in council tax bands A or B - 2015  \\\n",
       "0                                        6.741573   \n",
       "1                                       23.938224   \n",
       "2                                        3.044496   \n",
       "\n",
       "   Claimant Rate of Housing Benefit (2015)  \\\n",
       "0                                 5.843453   \n",
       "1                                12.000000   \n",
       "2                                 2.941527   \n",
       "\n",
       "   Rate of JobSeekers Allowance (JSA) Claimants - 2015  \\\n",
       "0                                           1.448995     \n",
       "1                                           2.425614     \n",
       "2                                           1.125070     \n",
       "\n",
       "   % dependent children (0-18) in out-of-work households - 2014  \\\n",
       "0                                          11.020408              \n",
       "1                                          21.571429              \n",
       "2                                           7.200000              \n",
       "\n",
       "   A-Level Average Point Score Per Student - 2013/14  Crime rate - 2014/15  \\\n",
       "0                                         757.587952             46.461219   \n",
       "1                                         694.377778             61.963541   \n",
       "2                                         750.330000             28.756957   \n",
       "\n",
       "   Violence against the person rate - 2014/15  \\\n",
       "0                                   15.471698   \n",
       "1                                   19.758065   \n",
       "2                                    6.915888   \n",
       "\n",
       "   Average Public Transport Accessibility score - 2014  \n",
       "0                                           3.135916    \n",
       "1                                           2.752564    \n",
       "2                                           2.051587    "
      ]
     },
     "execution_count": 12,
     "metadata": {},
     "output_type": "execute_result"
    }
   ],
   "source": [
    "X = FeatureS\n",
    "X[0:3]"
   ]
  },
  {
   "cell_type": "code",
   "execution_count": 13,
   "metadata": {
    "button": false,
    "new_sheet": false,
    "run_control": {
     "read_only": false
    }
   },
   "outputs": [
    {
     "data": {
      "text/plain": [
       "array(['Zac Goldsmith', 'Zac Goldsmith', 'Zac Goldsmith'], dtype=object)"
      ]
     },
     "execution_count": 13,
     "metadata": {},
     "output_type": "execute_result"
    }
   ],
   "source": [
    "y = Election['Winner'].values\n",
    "y [0:3]"
   ]
  },
  {
   "cell_type": "markdown",
   "metadata": {
    "button": false,
    "new_sheet": false,
    "run_control": {
     "read_only": false
    }
   },
   "source": [
    "## Normalize Data \n",
    "\n",
    "Data Standardization give data zero mean and unit variance (technically should be done after train test split )"
   ]
  },
  {
   "cell_type": "code",
   "execution_count": 14,
   "metadata": {
    "button": false,
    "new_sheet": false,
    "run_control": {
     "read_only": false
    }
   },
   "outputs": [
    {
     "data": {
      "text/plain": [
       "array([[-1.32290918,  0.88382937,  1.65937172, -0.92516434, -1.5365264 ,\n",
       "        -1.52236517, -0.32306534, -0.84747715,  0.45642946, -0.07642246,\n",
       "        -0.87140391, -1.6227474 , -0.73662558, -1.09072393, -0.88124148,\n",
       "        -0.66398467,  1.2740769 , -0.60514416, -0.53856825, -0.4170586 ],\n",
       "       [-0.72108024,  0.03095614,  0.1428096 , -0.89304708, -0.56058207,\n",
       "        -1.01332495, -0.20128314, -1.23227656,  0.66952063, -0.79693974,\n",
       "        -0.49855664, -0.55953069,  0.54652698,  0.01326089, -0.11122896,\n",
       "         0.78144715,  0.06402702, -0.31771915, -0.17940434, -0.70198893],\n",
       "       [-1.27832926,  0.88382937,  1.91213207, -0.37224003, -1.66770172,\n",
       "        -1.53576097, -0.40679061, -0.68373272, -0.08813688,  0.31993886,\n",
       "        -1.34781986, -1.64339238, -1.01248821, -1.611094  , -1.13663924,\n",
       "        -1.1873596 ,  1.13513592, -0.93339484, -1.25547811, -1.22299769],\n",
       "       [-1.18916942,  1.07335676,  1.65937172, -0.59237837, -1.55226744,\n",
       "        -1.46878199, -0.37634506, -0.71102346,  0.21966149,  0.25234236,\n",
       "        -1.43067481, -1.64339238, -1.01768659, -1.60365928, -1.37280573,\n",
       "        -1.39473167,  0.66013465, -0.7681517 , -1.19510788, -1.21248014],\n",
       "       [-1.43435899,  1.64193891,  2.67041313, -0.57911479, -1.36337499,\n",
       "        -1.48217779, -0.36112228, -0.49269756, -0.51431923,  0.32147515,\n",
       "        -1.30639239, -1.8911322 , -0.86746171, -1.62658533, -1.3116744 ,\n",
       "        -1.41263945, -0.04995144, -0.97819861, -1.3053456 , -0.76693896]])"
      ]
     },
     "execution_count": 14,
     "metadata": {},
     "output_type": "execute_result"
    }
   ],
   "source": [
    "X = preprocessing.StandardScaler().fit(X).transform(X)\n",
    "X[0:5]"
   ]
  },
  {
   "cell_type": "markdown",
   "metadata": {},
   "source": [
    "The features were names as **X** and target as **y**. The Train and Test datasets were created as a 80% and 20% of dataset. "
   ]
  },
  {
   "cell_type": "markdown",
   "metadata": {},
   "source": [
    "# Train/Test dataset\n",
    "\n",
    "Okay, we split our dataset into train and test set:\n"
   ]
  },
  {
   "cell_type": "code",
   "execution_count": 15,
   "metadata": {},
   "outputs": [
    {
     "name": "stdout",
     "output_type": "stream",
     "text": [
      "Train set: (480, 20) (480,)\n",
      "Test set: (120, 20) (120,)\n"
     ]
    }
   ],
   "source": [
    "from sklearn.model_selection import train_test_split\n",
    "\n",
    "X_train, X_test, y_train, y_test = train_test_split( X, y, test_size = 0.2, random_state=4)\n",
    "\n",
    "print ('Train set:', X_train.shape,  y_train.shape)\n",
    "print ('Test set:', X_test.shape,  y_test.shape)"
   ]
  },
  {
   "cell_type": "code",
   "execution_count": null,
   "metadata": {},
   "outputs": [],
   "source": []
  },
  {
   "cell_type": "markdown",
   "metadata": {},
   "source": [
    "# Logistic Regression"
   ]
  },
  {
   "cell_type": "markdown",
   "metadata": {},
   "source": [
    "The first classification methods applied is Logistic Regression. With an F1 score of 0.925 and Jaccard index for accuracy of 0.925 and Log Loss of 0.258 the model Logistic regression is a good option to correctly classify which candidate will be selected on each wards based on the selected demographic variables.\n"
   ]
  },
  {
   "cell_type": "code",
   "execution_count": 16,
   "metadata": {},
   "outputs": [],
   "source": [
    "from sklearn.linear_model import LogisticRegression\n",
    "from sklearn.metrics import confusion_matrix\n",
    "\n",
    "LR = LogisticRegression(C=0.01, solver='liblinear').fit(X_train,y_train)\n",
    "LR\n",
    "\n",
    "yhat_LR = LR.predict(X_test)         \n",
    "#yhat_LR\n",
    "\n",
    "yhat_prob = LR.predict_proba(X_test)\n",
    "#yhat_prob\n"
   ]
  },
  {
   "cell_type": "code",
   "execution_count": 17,
   "metadata": {},
   "outputs": [
    {
     "data": {
      "text/plain": [
       "0.908967681127068"
      ]
     },
     "execution_count": 17,
     "metadata": {},
     "output_type": "execute_result"
    }
   ],
   "source": [
    "### f1_score from sklearn library\n",
    "from sklearn.metrics import f1_score\n",
    "f1_score(y_test, yhat_LR, average='weighted') "
   ]
  },
  {
   "cell_type": "code",
   "execution_count": 18,
   "metadata": {},
   "outputs": [
    {
     "name": "stderr",
     "output_type": "stream",
     "text": [
      "C:\\Users\\nastu\\Anaconda3\\lib\\site-packages\\sklearn\\metrics\\classification.py:635: DeprecationWarning: jaccard_similarity_score has been deprecated and replaced with jaccard_score. It will be removed in version 0.23. This implementation has surprising behavior for binary and multiclass classification tasks.\n",
      "  'and multiclass classification tasks.', DeprecationWarning)\n"
     ]
    },
    {
     "data": {
      "text/plain": [
       "0.9083333333333333"
      ]
     },
     "execution_count": 18,
     "metadata": {},
     "output_type": "execute_result"
    }
   ],
   "source": [
    " ### Jaccard index for accuracy:\n",
    "from sklearn.metrics import jaccard_similarity_score\n",
    "jaccard_similarity_score(y_test, yhat_LR)"
   ]
  },
  {
   "cell_type": "code",
   "execution_count": 19,
   "metadata": {},
   "outputs": [
    {
     "data": {
      "text/plain": [
       "0.29477524101532304"
      ]
     },
     "execution_count": 19,
     "metadata": {},
     "output_type": "execute_result"
    }
   ],
   "source": [
    "from sklearn.metrics import log_loss\n",
    "log_loss(y_test, yhat_prob) "
   ]
  },
  {
   "cell_type": "code",
   "execution_count": 20,
   "metadata": {},
   "outputs": [
    {
     "name": "stdout",
     "output_type": "stream",
     "text": [
      "                 precision    recall  f1-score   support\n",
      "\n",
      "Sadiq Aman Khan       0.95      0.91      0.93        77\n",
      "  Zac Goldsmith       0.85      0.91      0.88        43\n",
      "\n",
      "       accuracy                           0.91       120\n",
      "      macro avg       0.90      0.91      0.90       120\n",
      "   weighted avg       0.91      0.91      0.91       120\n",
      "\n"
     ]
    }
   ],
   "source": [
    "from sklearn.metrics import classification_report, confusion_matrix\n",
    "confusion_matrix = confusion_matrix(y_test,yhat_LR)  \n",
    "confusion_matrix\n",
    "\n",
    "print(classification_report(y_test,yhat_LR))"
   ]
  },
  {
   "cell_type": "code",
   "execution_count": null,
   "metadata": {},
   "outputs": [],
   "source": []
  },
  {
   "cell_type": "markdown",
   "metadata": {},
   "source": [
    "# K Nearest Neighbor(KNN)"
   ]
  },
  {
   "cell_type": "markdown",
   "metadata": {
    "button": false,
    "new_sheet": false,
    "run_control": {
     "read_only": false
    }
   },
   "source": [
    "The second classification method applied will be KNN clustering with 2, 4, 6 clusters. Based on the accuracy for the training and test datasets the 4 clusters solution is preferable. "
   ]
  },
  {
   "cell_type": "code",
   "execution_count": 21,
   "metadata": {},
   "outputs": [
    {
     "name": "stdout",
     "output_type": "stream",
     "text": [
      "Train set Accuracy:  0.93125\n",
      "Test set Accuracy:  0.8833333333333333\n"
     ]
    }
   ],
   "source": [
    "from sklearn.neighbors import KNeighborsClassifier\n",
    "\n",
    "#Train Model and Predict \n",
    "\n",
    "k = 2\n",
    "neigh2 = KNeighborsClassifier(n_neighbors = k).fit(X_train,y_train)\n",
    "neigh2\n",
    "yhat2 = neigh2.predict(X_test)  \n",
    "yhat2[0:5]\n",
    "\n",
    "# Accuracy evaluation\n",
    "\n",
    "from sklearn import metrics\n",
    "print(\"Train set Accuracy: \", metrics.accuracy_score(y_train, neigh2.predict(X_train)))\n",
    "print(\"Test set Accuracy: \", metrics.accuracy_score(y_test, yhat2))"
   ]
  },
  {
   "cell_type": "code",
   "execution_count": 22,
   "metadata": {},
   "outputs": [
    {
     "name": "stdout",
     "output_type": "stream",
     "text": [
      "Train set Accuracy:  0.9208333333333333\n",
      "Test set Accuracy:  0.9166666666666666\n"
     ]
    }
   ],
   "source": [
    "#Train Model and Predict \n",
    "\n",
    "k = 4\n",
    "neigh4 = KNeighborsClassifier(n_neighbors = k).fit(X_train,y_train)\n",
    "neigh4\n",
    "yhat4 = neigh4.predict(X_test)  \n",
    "yhat4[0:5]\n",
    "\n",
    "# Accuracy evaluation\n",
    "\n",
    "print(\"Train set Accuracy: \", metrics.accuracy_score(y_train, neigh4.predict(X_train)))\n",
    "print(\"Test set Accuracy: \", metrics.accuracy_score(y_test, yhat4))"
   ]
  },
  {
   "cell_type": "code",
   "execution_count": 23,
   "metadata": {},
   "outputs": [
    {
     "name": "stdout",
     "output_type": "stream",
     "text": [
      "Train set Accuracy:  0.925\n",
      "Test set Accuracy:  0.9333333333333333\n"
     ]
    }
   ],
   "source": [
    "#Train Model and Predict \n",
    "\n",
    "k = 6\n",
    "neigh6 = KNeighborsClassifier(n_neighbors = k).fit(X_train,y_train)\n",
    "neigh6\n",
    "yhat6 = neigh6.predict(X_test)  \n",
    "yhat6[0:5]\n",
    "\n",
    "# Accuracy evaluation\n",
    "\n",
    "print(\"Train set Accuracy: \", metrics.accuracy_score(y_train, neigh6.predict(X_train)))\n",
    "print(\"Test set Accuracy: \", metrics.accuracy_score(y_test, yhat6))"
   ]
  },
  {
   "cell_type": "code",
   "execution_count": 24,
   "metadata": {},
   "outputs": [
    {
     "data": {
      "text/plain": [
       "0.9144507755618866"
      ]
     },
     "execution_count": 24,
     "metadata": {},
     "output_type": "execute_result"
    }
   ],
   "source": [
    "### I choose KNN 4 as the Accuracy for both Train and Test data are the highest. \n",
    "### f1_score from sklearn library\n",
    "from sklearn.metrics import f1_score\n",
    "f1_score(y_test, yhat4, average='weighted') \n"
   ]
  },
  {
   "cell_type": "code",
   "execution_count": 25,
   "metadata": {},
   "outputs": [
    {
     "name": "stderr",
     "output_type": "stream",
     "text": [
      "C:\\Users\\nastu\\Anaconda3\\lib\\site-packages\\sklearn\\metrics\\classification.py:635: DeprecationWarning: jaccard_similarity_score has been deprecated and replaced with jaccard_score. It will be removed in version 0.23. This implementation has surprising behavior for binary and multiclass classification tasks.\n",
      "  'and multiclass classification tasks.', DeprecationWarning)\n"
     ]
    },
    {
     "data": {
      "text/plain": [
       "0.9166666666666666"
      ]
     },
     "execution_count": 25,
     "metadata": {},
     "output_type": "execute_result"
    }
   ],
   "source": [
    "### Jaccard index for accuracy:\n",
    "from sklearn.metrics import jaccard_similarity_score\n",
    "\n",
    "jaccard_similarity_score(y_test, yhat4)"
   ]
  },
  {
   "cell_type": "code",
   "execution_count": null,
   "metadata": {
    "button": false,
    "new_sheet": false,
    "run_control": {
     "read_only": false
    }
   },
   "outputs": [],
   "source": []
  },
  {
   "cell_type": "markdown",
   "metadata": {},
   "source": [
    "# Decision Tree"
   ]
  },
  {
   "cell_type": "markdown",
   "metadata": {
    "button": false,
    "new_sheet": false,
    "run_control": {
     "read_only": false
    }
   },
   "source": [
    "The third classification method applied will be the **Decision Tree**, at depth level 10.  \n"
   ]
  },
  {
   "cell_type": "code",
   "execution_count": 26,
   "metadata": {},
   "outputs": [
    {
     "data": {
      "text/plain": [
       "DecisionTreeClassifier(class_weight=None, criterion='entropy', max_depth=10,\n",
       "                       max_features=None, max_leaf_nodes=None,\n",
       "                       min_impurity_decrease=0.0, min_impurity_split=None,\n",
       "                       min_samples_leaf=1, min_samples_split=2,\n",
       "                       min_weight_fraction_leaf=0.0, presort=False,\n",
       "                       random_state=None, splitter='best')"
      ]
     },
     "execution_count": 26,
     "metadata": {},
     "output_type": "execute_result"
    }
   ],
   "source": [
    "## I tried different maximum detphs and 10 is the best one\n",
    "\n",
    "Vote_Tree = DecisionTreeClassifier(criterion=\"entropy\", max_depth = 10)\n",
    "Vote_Tree # it shows the default parameters"
   ]
  },
  {
   "cell_type": "code",
   "execution_count": 27,
   "metadata": {},
   "outputs": [
    {
     "data": {
      "text/plain": [
       "DecisionTreeClassifier(class_weight=None, criterion='entropy', max_depth=10,\n",
       "                       max_features=None, max_leaf_nodes=None,\n",
       "                       min_impurity_decrease=0.0, min_impurity_split=None,\n",
       "                       min_samples_leaf=1, min_samples_split=2,\n",
       "                       min_weight_fraction_leaf=0.0, presort=False,\n",
       "                       random_state=None, splitter='best')"
      ]
     },
     "execution_count": 27,
     "metadata": {},
     "output_type": "execute_result"
    }
   ],
   "source": [
    "Vote_Tree.fit(X_train,y_train)"
   ]
  },
  {
   "cell_type": "code",
   "execution_count": 28,
   "metadata": {},
   "outputs": [],
   "source": [
    "predTreeTrain = Vote_Tree.predict(X_train) "
   ]
  },
  {
   "cell_type": "code",
   "execution_count": 29,
   "metadata": {},
   "outputs": [
    {
     "name": "stdout",
     "output_type": "stream",
     "text": [
      "Decision Trees's Training Accuracy:  0.9979166666666667\n"
     ]
    }
   ],
   "source": [
    "print(\"Decision Trees's Training Accuracy: \", metrics.accuracy_score(y_train, predTreeTrain)) "
   ]
  },
  {
   "cell_type": "code",
   "execution_count": 30,
   "metadata": {},
   "outputs": [],
   "source": [
    "predTree = Vote_Tree.predict(X_test) "
   ]
  },
  {
   "cell_type": "code",
   "execution_count": 31,
   "metadata": {},
   "outputs": [
    {
     "name": "stdout",
     "output_type": "stream",
     "text": [
      "Decision Trees's Test Accuracy:  0.9333333333333333\n"
     ]
    }
   ],
   "source": [
    "print(\"Decision Trees's Test Accuracy: \", metrics.accuracy_score(y_test, predTree)) "
   ]
  },
  {
   "cell_type": "code",
   "execution_count": 32,
   "metadata": {},
   "outputs": [
    {
     "name": "stderr",
     "output_type": "stream",
     "text": [
      "C:\\Users\\nastu\\Anaconda3\\lib\\site-packages\\sklearn\\metrics\\classification.py:635: DeprecationWarning: jaccard_similarity_score has been deprecated and replaced with jaccard_score. It will be removed in version 0.23. This implementation has surprising behavior for binary and multiclass classification tasks.\n",
      "  'and multiclass classification tasks.', DeprecationWarning)\n"
     ]
    },
    {
     "data": {
      "text/plain": [
       "0.9333333333333333"
      ]
     },
     "execution_count": 32,
     "metadata": {},
     "output_type": "execute_result"
    }
   ],
   "source": [
    "### Jaccard index for accuracy:\n",
    "from sklearn.metrics import jaccard_similarity_score\n",
    "jaccard_similarity_score(y_test, predTree)"
   ]
  },
  {
   "cell_type": "code",
   "execution_count": 33,
   "metadata": {},
   "outputs": [
    {
     "data": {
      "text/plain": [
       "0.9325511989297107"
      ]
     },
     "execution_count": 33,
     "metadata": {},
     "output_type": "execute_result"
    }
   ],
   "source": [
    "f1_score(y_test, predTree, average='weighted') "
   ]
  },
  {
   "cell_type": "code",
   "execution_count": null,
   "metadata": {
    "button": false,
    "new_sheet": false,
    "run_control": {
     "read_only": false
    }
   },
   "outputs": [],
   "source": []
  },
  {
   "cell_type": "markdown",
   "metadata": {},
   "source": [
    "# Support Vector Machine"
   ]
  },
  {
   "cell_type": "markdown",
   "metadata": {},
   "source": [
    "Finally, the SVM is applied to classify the Winner of Mayoral election in London. "
   ]
  },
  {
   "cell_type": "code",
   "execution_count": 34,
   "metadata": {},
   "outputs": [
    {
     "name": "stderr",
     "output_type": "stream",
     "text": [
      "C:\\Users\\nastu\\Anaconda3\\lib\\site-packages\\sklearn\\svm\\base.py:193: FutureWarning: The default value of gamma will change from 'auto' to 'scale' in version 0.22 to account better for unscaled features. Set gamma explicitly to 'auto' or 'scale' to avoid this warning.\n",
      "  \"avoid this warning.\", FutureWarning)\n"
     ]
    },
    {
     "data": {
      "text/plain": [
       "SVC(C=1.0, cache_size=200, class_weight=None, coef0=0.0,\n",
       "    decision_function_shape='ovr', degree=3, gamma='auto_deprecated',\n",
       "    kernel='rbf', max_iter=-1, probability=False, random_state=None,\n",
       "    shrinking=True, tol=0.001, verbose=False)"
      ]
     },
     "execution_count": 34,
     "metadata": {},
     "output_type": "execute_result"
    }
   ],
   "source": [
    "from sklearn import svm\n",
    "clf1 = svm.SVC(kernel='rbf')\n",
    "clf1.fit(X_train, y_train) "
   ]
  },
  {
   "cell_type": "code",
   "execution_count": 35,
   "metadata": {},
   "outputs": [
    {
     "data": {
      "text/plain": [
       "array(['Sadiq Aman Khan', 'Zac Goldsmith', 'Zac Goldsmith',\n",
       "       'Sadiq Aman Khan', 'Sadiq Aman Khan'], dtype=object)"
      ]
     },
     "execution_count": 35,
     "metadata": {},
     "output_type": "execute_result"
    }
   ],
   "source": [
    "yhatSVM = clf1.predict(X_test)\n",
    "yhatSVM [0:5]"
   ]
  },
  {
   "cell_type": "code",
   "execution_count": 36,
   "metadata": {},
   "outputs": [
    {
     "data": {
      "text/plain": [
       "0.9248007590132826"
      ]
     },
     "execution_count": 36,
     "metadata": {},
     "output_type": "execute_result"
    }
   ],
   "source": [
    "### f1_score from sklearn library\n",
    "from sklearn.metrics import f1_score\n",
    "f1_score(y_test, yhatSVM, average='weighted') "
   ]
  },
  {
   "cell_type": "code",
   "execution_count": 37,
   "metadata": {},
   "outputs": [
    {
     "name": "stderr",
     "output_type": "stream",
     "text": [
      "C:\\Users\\nastu\\Anaconda3\\lib\\site-packages\\sklearn\\metrics\\classification.py:635: DeprecationWarning: jaccard_similarity_score has been deprecated and replaced with jaccard_score. It will be removed in version 0.23. This implementation has surprising behavior for binary and multiclass classification tasks.\n",
      "  'and multiclass classification tasks.', DeprecationWarning)\n"
     ]
    },
    {
     "data": {
      "text/plain": [
       "0.925"
      ]
     },
     "execution_count": 37,
     "metadata": {},
     "output_type": "execute_result"
    }
   ],
   "source": [
    "### Jaccard index for accuracy:\n",
    "from sklearn.metrics import jaccard_similarity_score\n",
    "jaccard_similarity_score(y_test, yhatSVM)"
   ]
  },
  {
   "cell_type": "code",
   "execution_count": 38,
   "metadata": {},
   "outputs": [
    {
     "name": "stdout",
     "output_type": "stream",
     "text": [
      "Avg F1-score for SVM: 0.8907\n",
      "Jaccard score for SVM: 0.8917\n",
      "SVM's Test Accuracy:  0.8916666666666667\n"
     ]
    },
    {
     "name": "stderr",
     "output_type": "stream",
     "text": [
      "C:\\Users\\nastu\\Anaconda3\\lib\\site-packages\\sklearn\\metrics\\classification.py:635: DeprecationWarning: jaccard_similarity_score has been deprecated and replaced with jaccard_score. It will be removed in version 0.23. This implementation has surprising behavior for binary and multiclass classification tasks.\n",
      "  'and multiclass classification tasks.', DeprecationWarning)\n"
     ]
    }
   ],
   "source": [
    "# write your code here\n",
    "clf2 = svm.SVC(kernel='linear')\n",
    "clf2.fit(X_train, y_train) \n",
    "yhatSVM2 = clf2.predict(X_test)\n",
    "print(\"Avg F1-score for SVM: %.4f\" % f1_score(y_test, yhatSVM2, average='weighted'))\n",
    "print(\"Jaccard score for SVM: %.4f\" % jaccard_similarity_score(y_test, yhatSVM2))\n",
    "print(\"SVM's Test Accuracy: \", metrics.accuracy_score(y_test, yhatSVM2))"
   ]
  },
  {
   "cell_type": "code",
   "execution_count": null,
   "metadata": {},
   "outputs": [],
   "source": []
  },
  {
   "cell_type": "markdown",
   "metadata": {},
   "source": [
    "# Report\n",
    "The metrics from different classification methods were included in the table below to compare the methods and decide which is the best classification method.\n"
   ]
  },
  {
   "cell_type": "markdown",
   "metadata": {},
   "source": [
    "| Algorithm          | Jaccard | F1-score | Train Acc | Test Acc  |\n",
    "|--------------------|---------|----------|-----------|-----------| \n",
    "| KNN-4              | 0.916   | 0.914    | 0.920     |  0.916    |\n",
    "| Decision Tree (10) | 0.925   | 0.923    | 0.997     |  0.925    |\n",
    "| SVM                | 0.892   | 0.891    |           |  0.891    |\n",
    "| Logistic Regression| 0.908   | 0.908    | 0.879     |  0.908    |"
   ]
  },
  {
   "cell_type": "markdown",
   "metadata": {},
   "source": [
    "The scores listed above were printed in the cells below. Based on them we can conclude the Decision Tree seems to be the best performing classification method using the list of selected predictors. "
   ]
  },
  {
   "cell_type": "code",
   "execution_count": 39,
   "metadata": {},
   "outputs": [
    {
     "name": "stdout",
     "output_type": "stream",
     "text": [
      "F1 score for Logistic Regression:  0.908967681127068\n",
      "Jaccard Similarity Score for Logistic Regression:  0.9083333333333333\n",
      "Train set Accuracy for Logistic Regression:  0.8791666666666667\n",
      "Test set Accuracy for Logistic Regression:  0.9083333333333333\n"
     ]
    },
    {
     "name": "stderr",
     "output_type": "stream",
     "text": [
      "C:\\Users\\nastu\\Anaconda3\\lib\\site-packages\\sklearn\\metrics\\classification.py:635: DeprecationWarning: jaccard_similarity_score has been deprecated and replaced with jaccard_score. It will be removed in version 0.23. This implementation has surprising behavior for binary and multiclass classification tasks.\n",
      "  'and multiclass classification tasks.', DeprecationWarning)\n"
     ]
    }
   ],
   "source": [
    "print(\"F1 score for Logistic Regression: \", f1_score(y_test, yhat_LR, average='weighted')) \n",
    "print(\"Jaccard Similarity Score for Logistic Regression: \", jaccard_similarity_score(y_test, yhat_LR))\n",
    "print(\"Train set Accuracy for Logistic Regression: \", metrics.accuracy_score(y_train, LR.predict(X_train)))\n",
    "print(\"Test set Accuracy for Logistic Regression: \", metrics.accuracy_score(y_test, yhat_LR))"
   ]
  },
  {
   "cell_type": "code",
   "execution_count": 40,
   "metadata": {},
   "outputs": [
    {
     "name": "stdout",
     "output_type": "stream",
     "text": [
      "Train set Accuracy for KNN 4 is:  0.9208333333333333\n",
      "Test set Accuracy for KNN 4 is:  0.9166666666666666\n",
      "F1 score for KNN 4 is:  0.9144507755618866\n",
      "Jaccard Similarity Score for KNN 4 is:  0.9166666666666666\n"
     ]
    },
    {
     "name": "stderr",
     "output_type": "stream",
     "text": [
      "C:\\Users\\nastu\\Anaconda3\\lib\\site-packages\\sklearn\\metrics\\classification.py:635: DeprecationWarning: jaccard_similarity_score has been deprecated and replaced with jaccard_score. It will be removed in version 0.23. This implementation has surprising behavior for binary and multiclass classification tasks.\n",
      "  'and multiclass classification tasks.', DeprecationWarning)\n"
     ]
    }
   ],
   "source": [
    "print(\"Train set Accuracy for KNN 4 is: \", metrics.accuracy_score(y_train, neigh4.predict(X_train)))\n",
    "print(\"Test set Accuracy for KNN 4 is: \", metrics.accuracy_score(y_test, yhat4))\n",
    "print(\"F1 score for KNN 4 is: \", f1_score(y_test, yhat4, average='weighted') )\n",
    "print(\"Jaccard Similarity Score for KNN 4 is: \", jaccard_similarity_score(y_test, yhat4))"
   ]
  },
  {
   "cell_type": "code",
   "execution_count": 41,
   "metadata": {},
   "outputs": [
    {
     "name": "stdout",
     "output_type": "stream",
     "text": [
      "Decision Tree's Training Accuracy:  0.9979166666666667\n",
      "Decision Tree's Test Accuracy:  0.9333333333333333\n",
      "Jaccard Similarity Score for Decision Tree:  0.9333333333333333\n",
      "F1 score for Decision Tree:  0.9325511989297107\n"
     ]
    },
    {
     "name": "stderr",
     "output_type": "stream",
     "text": [
      "C:\\Users\\nastu\\Anaconda3\\lib\\site-packages\\sklearn\\metrics\\classification.py:635: DeprecationWarning: jaccard_similarity_score has been deprecated and replaced with jaccard_score. It will be removed in version 0.23. This implementation has surprising behavior for binary and multiclass classification tasks.\n",
      "  'and multiclass classification tasks.', DeprecationWarning)\n"
     ]
    }
   ],
   "source": [
    "print(\"Decision Tree's Training Accuracy: \", metrics.accuracy_score(y_train, predTreeTrain)) \n",
    "print(\"Decision Tree's Test Accuracy: \", metrics.accuracy_score(y_test, predTree)) \n",
    "print(\"Jaccard Similarity Score for Decision Tree: \", jaccard_similarity_score(y_test, predTree))\n",
    "print(\"F1 score for Decision Tree: \", f1_score(y_test, predTree, average='weighted'))"
   ]
  },
  {
   "cell_type": "markdown",
   "metadata": {},
   "source": [
    "This notebook is the 1st draft of my way of showing how Machine learning can be potentially used to create a model for predicting the results of London 2016 election based on selected my selection of variables (20 out of ~72). This selection did not take into account any statistical checking of the relation between variables (multicolinearity) and did not assessed the statistical significance of any of the variables. Once I will do this the variables to be included in the model will be different. However, this will allow to compare the model I will create in the 2nd draft to this one including as predictors the following features: \n",
    "\n",
    "* 'Working-age (16-64) - 2015', \n",
    "* 'Older people aged 65+ - 2015', \n",
    "* 'Median Age - 2013', \n",
    "* 'Population density (persons per sq km) - 2013', \n",
    "* '% BAME - 2011','% English is First Language of no one in household - 2011', \n",
    "* 'Number of jobs in area - 2013', \n",
    "* 'Median House Price (Ã‚Â£) - 2014',\n",
    "* 'Number of properties sold - 2014', \n",
    "* 'Median Household income estimate (2012/13)', \n",
    "* '% Households Social Rented - 2011', \n",
    "* '% Households Private Rented - 2011', \n",
    "* '% dwellings in council tax bands A or B - 2015', \n",
    "* 'Claimant Rate of Housing Benefit (2015)', \n",
    "* 'Rate of JobSeekers Allowance (JSA) Claimants - 2015', \n",
    "* '% dependent children (0-18) in out-of-work households - 2014', \n",
    "* 'A-Level Average Point Score Per Student - 2013/14', \n",
    "* 'Crime rate - 2014/15', \n",
    "* 'Violence against the person rate - 2014/15', \n",
    "* 'Average Public Transport Accessibility score - 2014'.         "
   ]
  },
  {
   "cell_type": "markdown",
   "metadata": {},
   "source": [
    "* If you read this Notebook please email me any comments or suggestions to my email sebastian@bianalytics.org"
   ]
  }
 ],
 "metadata": {
  "kernelspec": {
   "display_name": "Python 3",
   "language": "python",
   "name": "python3"
  },
  "language_info": {
   "codemirror_mode": {
    "name": "ipython",
    "version": 3
   },
   "file_extension": ".py",
   "mimetype": "text/x-python",
   "name": "python",
   "nbconvert_exporter": "python",
   "pygments_lexer": "ipython3",
   "version": "3.7.4"
  }
 },
 "nbformat": 4,
 "nbformat_minor": 2
}
